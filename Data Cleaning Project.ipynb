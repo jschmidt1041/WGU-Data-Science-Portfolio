{
 "cells": [
  {
   "cell_type": "markdown",
   "id": "24eeeb7c",
   "metadata": {},
   "source": [
    "# Data Cleaning\n",
    "## Jessica Schmidt\n",
    "\n",
    "## Getting Started: Importing packages, importing csv file, preliminary examination of dataset"
   ]
  },
  {
   "cell_type": "code",
   "execution_count": 1,
   "id": "4a7e61f1",
   "metadata": {},
   "outputs": [],
   "source": [
    "# Import relevant packages\n",
    "import pandas as pd\n",
    "import matplotlib.pyplot as plt\n",
    "import numpy as np\n",
    "import scipy.stats as stats\n",
    "import seaborn as sns\n",
    "from sklearn.decomposition import PCA"
   ]
  },
  {
   "cell_type": "code",
   "execution_count": 2,
   "id": "ac85ab48",
   "metadata": {},
   "outputs": [],
   "source": [
    "# Import CSV file\n",
    "med_data = pd.read_csv('/Users/astro/Downloads/medical_raw_data.csv')"
   ]
  },
  {
   "cell_type": "code",
   "execution_count": 3,
   "id": "81b6d48e",
   "metadata": {},
   "outputs": [
    {
     "name": "stdout",
     "output_type": "stream",
     "text": [
      "<class 'pandas.core.frame.DataFrame'>\n",
      "RangeIndex: 10000 entries, 0 to 9999\n",
      "Data columns (total 53 columns):\n",
      " #   Column              Non-Null Count  Dtype  \n",
      "---  ------              --------------  -----  \n",
      " 0   Unnamed: 0          10000 non-null  int64  \n",
      " 1   CaseOrder           10000 non-null  int64  \n",
      " 2   Customer_id         10000 non-null  object \n",
      " 3   Interaction         10000 non-null  object \n",
      " 4   UID                 10000 non-null  object \n",
      " 5   City                10000 non-null  object \n",
      " 6   State               10000 non-null  object \n",
      " 7   County              10000 non-null  object \n",
      " 8   Zip                 10000 non-null  int64  \n",
      " 9   Lat                 10000 non-null  float64\n",
      " 10  Lng                 10000 non-null  float64\n",
      " 11  Population          10000 non-null  int64  \n",
      " 12  Area                10000 non-null  object \n",
      " 13  Timezone            10000 non-null  object \n",
      " 14  Job                 10000 non-null  object \n",
      " 15  Children            7412 non-null   float64\n",
      " 16  Age                 7586 non-null   float64\n",
      " 17  Education           10000 non-null  object \n",
      " 18  Employment          10000 non-null  object \n",
      " 19  Income              7536 non-null   float64\n",
      " 20  Marital             10000 non-null  object \n",
      " 21  Gender              10000 non-null  object \n",
      " 22  ReAdmis             10000 non-null  object \n",
      " 23  VitD_levels         10000 non-null  float64\n",
      " 24  Doc_visits          10000 non-null  int64  \n",
      " 25  Full_meals_eaten    10000 non-null  int64  \n",
      " 26  VitD_supp           10000 non-null  int64  \n",
      " 27  Soft_drink          7533 non-null   object \n",
      " 28  Initial_admin       10000 non-null  object \n",
      " 29  HighBlood           10000 non-null  object \n",
      " 30  Stroke              10000 non-null  object \n",
      " 31  Complication_risk   10000 non-null  object \n",
      " 32  Overweight          9018 non-null   float64\n",
      " 33  Arthritis           10000 non-null  object \n",
      " 34  Diabetes            10000 non-null  object \n",
      " 35  Hyperlipidemia      10000 non-null  object \n",
      " 36  BackPain            10000 non-null  object \n",
      " 37  Anxiety             9016 non-null   float64\n",
      " 38  Allergic_rhinitis   10000 non-null  object \n",
      " 39  Reflux_esophagitis  10000 non-null  object \n",
      " 40  Asthma              10000 non-null  object \n",
      " 41  Services            10000 non-null  object \n",
      " 42  Initial_days        8944 non-null   float64\n",
      " 43  TotalCharge         10000 non-null  float64\n",
      " 44  Additional_charges  10000 non-null  float64\n",
      " 45  Item1               10000 non-null  int64  \n",
      " 46  Item2               10000 non-null  int64  \n",
      " 47  Item3               10000 non-null  int64  \n",
      " 48  Item4               10000 non-null  int64  \n",
      " 49  Item5               10000 non-null  int64  \n",
      " 50  Item6               10000 non-null  int64  \n",
      " 51  Item7               10000 non-null  int64  \n",
      " 52  Item8               10000 non-null  int64  \n",
      "dtypes: float64(11), int64(15), object(27)\n",
      "memory usage: 4.0+ MB\n"
     ]
    }
   ],
   "source": [
    "# Examine the data types\n",
    "med_data.info()"
   ]
  },
  {
   "cell_type": "code",
   "execution_count": 4,
   "id": "115f80d4",
   "metadata": {},
   "outputs": [
    {
     "data": {
      "text/html": [
       "<div>\n",
       "<style scoped>\n",
       "    .dataframe tbody tr th:only-of-type {\n",
       "        vertical-align: middle;\n",
       "    }\n",
       "\n",
       "    .dataframe tbody tr th {\n",
       "        vertical-align: top;\n",
       "    }\n",
       "\n",
       "    .dataframe thead th {\n",
       "        text-align: right;\n",
       "    }\n",
       "</style>\n",
       "<table border=\"1\" class=\"dataframe\">\n",
       "  <thead>\n",
       "    <tr style=\"text-align: right;\">\n",
       "      <th></th>\n",
       "      <th>Unnamed: 0</th>\n",
       "      <th>CaseOrder</th>\n",
       "      <th>Customer_id</th>\n",
       "      <th>Interaction</th>\n",
       "      <th>UID</th>\n",
       "      <th>City</th>\n",
       "      <th>State</th>\n",
       "      <th>County</th>\n",
       "      <th>Zip</th>\n",
       "      <th>Lat</th>\n",
       "      <th>...</th>\n",
       "      <th>TotalCharge</th>\n",
       "      <th>Additional_charges</th>\n",
       "      <th>Item1</th>\n",
       "      <th>Item2</th>\n",
       "      <th>Item3</th>\n",
       "      <th>Item4</th>\n",
       "      <th>Item5</th>\n",
       "      <th>Item6</th>\n",
       "      <th>Item7</th>\n",
       "      <th>Item8</th>\n",
       "    </tr>\n",
       "  </thead>\n",
       "  <tbody>\n",
       "    <tr>\n",
       "      <th>0</th>\n",
       "      <td>1</td>\n",
       "      <td>1</td>\n",
       "      <td>C412403</td>\n",
       "      <td>8cd49b13-f45a-4b47-a2bd-173ffa932c2f</td>\n",
       "      <td>3a83ddb66e2ae73798bdf1d705dc0932</td>\n",
       "      <td>Eva</td>\n",
       "      <td>AL</td>\n",
       "      <td>Morgan</td>\n",
       "      <td>35621</td>\n",
       "      <td>34.34960</td>\n",
       "      <td>...</td>\n",
       "      <td>3191.048774</td>\n",
       "      <td>17939.403420</td>\n",
       "      <td>3</td>\n",
       "      <td>3</td>\n",
       "      <td>2</td>\n",
       "      <td>2</td>\n",
       "      <td>4</td>\n",
       "      <td>3</td>\n",
       "      <td>3</td>\n",
       "      <td>4</td>\n",
       "    </tr>\n",
       "    <tr>\n",
       "      <th>1</th>\n",
       "      <td>2</td>\n",
       "      <td>2</td>\n",
       "      <td>Z919181</td>\n",
       "      <td>d2450b70-0337-4406-bdbb-bc1037f1734c</td>\n",
       "      <td>176354c5eef714957d486009feabf195</td>\n",
       "      <td>Marianna</td>\n",
       "      <td>FL</td>\n",
       "      <td>Jackson</td>\n",
       "      <td>32446</td>\n",
       "      <td>30.84513</td>\n",
       "      <td>...</td>\n",
       "      <td>4214.905346</td>\n",
       "      <td>17612.998120</td>\n",
       "      <td>3</td>\n",
       "      <td>4</td>\n",
       "      <td>3</td>\n",
       "      <td>4</td>\n",
       "      <td>4</td>\n",
       "      <td>4</td>\n",
       "      <td>3</td>\n",
       "      <td>3</td>\n",
       "    </tr>\n",
       "    <tr>\n",
       "      <th>2</th>\n",
       "      <td>3</td>\n",
       "      <td>3</td>\n",
       "      <td>F995323</td>\n",
       "      <td>a2057123-abf5-4a2c-abad-8ffe33512562</td>\n",
       "      <td>e19a0fa00aeda885b8a436757e889bc9</td>\n",
       "      <td>Sioux Falls</td>\n",
       "      <td>SD</td>\n",
       "      <td>Minnehaha</td>\n",
       "      <td>57110</td>\n",
       "      <td>43.54321</td>\n",
       "      <td>...</td>\n",
       "      <td>2177.586768</td>\n",
       "      <td>17505.192460</td>\n",
       "      <td>2</td>\n",
       "      <td>4</td>\n",
       "      <td>4</td>\n",
       "      <td>4</td>\n",
       "      <td>3</td>\n",
       "      <td>4</td>\n",
       "      <td>3</td>\n",
       "      <td>3</td>\n",
       "    </tr>\n",
       "    <tr>\n",
       "      <th>3</th>\n",
       "      <td>4</td>\n",
       "      <td>4</td>\n",
       "      <td>A879973</td>\n",
       "      <td>1dec528d-eb34-4079-adce-0d7a40e82205</td>\n",
       "      <td>cd17d7b6d152cb6f23957346d11c3f07</td>\n",
       "      <td>New Richland</td>\n",
       "      <td>MN</td>\n",
       "      <td>Waseca</td>\n",
       "      <td>56072</td>\n",
       "      <td>43.89744</td>\n",
       "      <td>...</td>\n",
       "      <td>2465.118965</td>\n",
       "      <td>12993.437350</td>\n",
       "      <td>3</td>\n",
       "      <td>5</td>\n",
       "      <td>5</td>\n",
       "      <td>3</td>\n",
       "      <td>4</td>\n",
       "      <td>5</td>\n",
       "      <td>5</td>\n",
       "      <td>5</td>\n",
       "    </tr>\n",
       "    <tr>\n",
       "      <th>4</th>\n",
       "      <td>5</td>\n",
       "      <td>5</td>\n",
       "      <td>C544523</td>\n",
       "      <td>5885f56b-d6da-43a3-8760-83583af94266</td>\n",
       "      <td>d2f0425877b10ed6bb381f3e2579424a</td>\n",
       "      <td>West Point</td>\n",
       "      <td>VA</td>\n",
       "      <td>King William</td>\n",
       "      <td>23181</td>\n",
       "      <td>37.59894</td>\n",
       "      <td>...</td>\n",
       "      <td>1885.655137</td>\n",
       "      <td>3716.525786</td>\n",
       "      <td>2</td>\n",
       "      <td>1</td>\n",
       "      <td>3</td>\n",
       "      <td>3</td>\n",
       "      <td>5</td>\n",
       "      <td>3</td>\n",
       "      <td>4</td>\n",
       "      <td>3</td>\n",
       "    </tr>\n",
       "  </tbody>\n",
       "</table>\n",
       "<p>5 rows × 53 columns</p>\n",
       "</div>"
      ],
      "text/plain": [
       "   Unnamed: 0  CaseOrder Customer_id                           Interaction  \\\n",
       "0           1          1     C412403  8cd49b13-f45a-4b47-a2bd-173ffa932c2f   \n",
       "1           2          2     Z919181  d2450b70-0337-4406-bdbb-bc1037f1734c   \n",
       "2           3          3     F995323  a2057123-abf5-4a2c-abad-8ffe33512562   \n",
       "3           4          4     A879973  1dec528d-eb34-4079-adce-0d7a40e82205   \n",
       "4           5          5     C544523  5885f56b-d6da-43a3-8760-83583af94266   \n",
       "\n",
       "                                UID          City State        County    Zip  \\\n",
       "0  3a83ddb66e2ae73798bdf1d705dc0932           Eva    AL        Morgan  35621   \n",
       "1  176354c5eef714957d486009feabf195      Marianna    FL       Jackson  32446   \n",
       "2  e19a0fa00aeda885b8a436757e889bc9   Sioux Falls    SD     Minnehaha  57110   \n",
       "3  cd17d7b6d152cb6f23957346d11c3f07  New Richland    MN        Waseca  56072   \n",
       "4  d2f0425877b10ed6bb381f3e2579424a    West Point    VA  King William  23181   \n",
       "\n",
       "        Lat  ...  TotalCharge  Additional_charges Item1 Item2 Item3  Item4  \\\n",
       "0  34.34960  ...  3191.048774        17939.403420     3     3     2      2   \n",
       "1  30.84513  ...  4214.905346        17612.998120     3     4     3      4   \n",
       "2  43.54321  ...  2177.586768        17505.192460     2     4     4      4   \n",
       "3  43.89744  ...  2465.118965        12993.437350     3     5     5      3   \n",
       "4  37.59894  ...  1885.655137         3716.525786     2     1     3      3   \n",
       "\n",
       "   Item5 Item6 Item7  Item8  \n",
       "0      4     3     3      4  \n",
       "1      4     4     3      3  \n",
       "2      3     4     3      3  \n",
       "3      4     5     5      5  \n",
       "4      5     3     4      3  \n",
       "\n",
       "[5 rows x 53 columns]"
      ]
     },
     "execution_count": 4,
     "metadata": {},
     "output_type": "execute_result"
    }
   ],
   "source": [
    "# Print the header\n",
    "med_data.head()"
   ]
  },
  {
   "cell_type": "markdown",
   "id": "4cdd3ff7",
   "metadata": {},
   "source": [
    "# Detecting Duplicates"
   ]
  },
  {
   "cell_type": "code",
   "execution_count": 5,
   "id": "e1e83d8a",
   "metadata": {},
   "outputs": [
    {
     "name": "stdout",
     "output_type": "stream",
     "text": [
      "0       False\n",
      "1       False\n",
      "2       False\n",
      "3       False\n",
      "4       False\n",
      "        ...  \n",
      "9995    False\n",
      "9996    False\n",
      "9997    False\n",
      "9998    False\n",
      "9999    False\n",
      "Length: 10000, dtype: bool\n"
     ]
    }
   ],
   "source": [
    "# Detection of duplicates of UID \n",
    "# we find that there are no duplicates of UID\n",
    "uid_duplicates = med_data.duplicated(subset = 'UID', keep = False)\n",
    "\n",
    "# Print UID column\n",
    "print(uid_duplicates)"
   ]
  },
  {
   "cell_type": "code",
   "execution_count": 6,
   "id": "68a5bdc9",
   "metadata": {},
   "outputs": [
    {
     "data": {
      "text/plain": [
       "0       False\n",
       "1       False\n",
       "2       False\n",
       "3       False\n",
       "4       False\n",
       "        ...  \n",
       "9995    False\n",
       "9996    False\n",
       "9997    False\n",
       "9998    False\n",
       "9999    False\n",
       "Length: 10000, dtype: bool"
      ]
     },
     "execution_count": 6,
     "metadata": {},
     "output_type": "execute_result"
    }
   ],
   "source": [
    "# Detection of duplicates in dataframe\n",
    "# We find that there are no duplicates\n",
    "med_data.duplicated()"
   ]
  },
  {
   "cell_type": "code",
   "execution_count": 7,
   "id": "bfe5c062",
   "metadata": {},
   "outputs": [
    {
     "name": "stdout",
     "output_type": "stream",
     "text": [
      "False    10000\n",
      "dtype: int64\n"
     ]
    }
   ],
   "source": [
    "print(med_data.duplicated().value_counts())"
   ]
  },
  {
   "cell_type": "markdown",
   "id": "8725adc8",
   "metadata": {},
   "source": [
    "# Re-Expression of Categorical Variables"
   ]
  },
  {
   "cell_type": "code",
   "execution_count": 8,
   "id": "934b360a",
   "metadata": {},
   "outputs": [
    {
     "data": {
      "text/plain": [
       "array(['No', 'Yes'], dtype=object)"
      ]
     },
     "execution_count": 8,
     "metadata": {},
     "output_type": "execute_result"
    }
   ],
   "source": [
    "# ReAdmis variable\n",
    "med_data.ReAdmis.unique()"
   ]
  },
  {
   "cell_type": "code",
   "execution_count": 9,
   "id": "edbbd7c1",
   "metadata": {},
   "outputs": [
    {
     "data": {
      "text/plain": [
       "array([0, 1], dtype=int64)"
      ]
     },
     "execution_count": 9,
     "metadata": {},
     "output_type": "execute_result"
    }
   ],
   "source": [
    "med_data['ReAdmis_numeric'] = med_data['ReAdmis']\n",
    "dict_ReAd = {\"ReAdmis_numeric\": {\"Yes\": 1, \"No\": 0}}\n",
    "med_data.replace(dict_ReAd, inplace=True)\n",
    "med_data.ReAdmis_numeric.unique()"
   ]
  },
  {
   "cell_type": "code",
   "execution_count": 10,
   "id": "5542635f",
   "metadata": {},
   "outputs": [
    {
     "data": {
      "text/plain": [
       "array([nan, 'No', 'Yes'], dtype=object)"
      ]
     },
     "execution_count": 10,
     "metadata": {},
     "output_type": "execute_result"
    }
   ],
   "source": [
    "# Soft_drink variable\n",
    "med_data.Soft_drink.unique()"
   ]
  },
  {
   "cell_type": "code",
   "execution_count": 11,
   "id": "2d94e08c",
   "metadata": {},
   "outputs": [
    {
     "data": {
      "text/plain": [
       "array([nan,  0.,  1.])"
      ]
     },
     "execution_count": 11,
     "metadata": {},
     "output_type": "execute_result"
    }
   ],
   "source": [
    "med_data['Soft_drink_numeric'] = med_data['Soft_drink']\n",
    "dict_soft = {\"Soft_drink_numeric\": {\"Yes\": 1, \"No\": 0}}\n",
    "med_data.replace(dict_soft, inplace=True)\n",
    "med_data.Soft_drink_numeric.unique()"
   ]
  },
  {
   "cell_type": "code",
   "execution_count": 12,
   "id": "a6544f58",
   "metadata": {},
   "outputs": [
    {
     "data": {
      "text/plain": [
       "array(['Yes', 'No'], dtype=object)"
      ]
     },
     "execution_count": 12,
     "metadata": {},
     "output_type": "execute_result"
    }
   ],
   "source": [
    "# HighBlood variable\n",
    "med_data.HighBlood.unique()"
   ]
  },
  {
   "cell_type": "code",
   "execution_count": 13,
   "id": "952b20b1",
   "metadata": {},
   "outputs": [
    {
     "data": {
      "text/plain": [
       "array([1, 0], dtype=int64)"
      ]
     },
     "execution_count": 13,
     "metadata": {},
     "output_type": "execute_result"
    }
   ],
   "source": [
    "med_data['HighBlood_numeric'] = med_data['HighBlood']\n",
    "dict_HighBlood = {\"HighBlood_numeric\": {\"Yes\": 1, \"No\": 0}}\n",
    "med_data.replace(dict_HighBlood, inplace=True)\n",
    "med_data.HighBlood_numeric.unique()"
   ]
  },
  {
   "cell_type": "code",
   "execution_count": 14,
   "id": "9cea24c8",
   "metadata": {},
   "outputs": [
    {
     "data": {
      "text/plain": [
       "array(['No', 'Yes'], dtype=object)"
      ]
     },
     "execution_count": 14,
     "metadata": {},
     "output_type": "execute_result"
    }
   ],
   "source": [
    "# Stroke variable\n",
    "med_data.Stroke.unique()"
   ]
  },
  {
   "cell_type": "code",
   "execution_count": 15,
   "id": "b4945f4b",
   "metadata": {},
   "outputs": [
    {
     "data": {
      "text/plain": [
       "array([0, 1], dtype=int64)"
      ]
     },
     "execution_count": 15,
     "metadata": {},
     "output_type": "execute_result"
    }
   ],
   "source": [
    "med_data['Stroke_numeric'] = med_data['Stroke']\n",
    "dict_Stroke = {\"Stroke_numeric\": {\"Yes\": 1, \"No\": 0}}\n",
    "med_data.replace(dict_Stroke, inplace=True)\n",
    "med_data.Stroke_numeric.unique()"
   ]
  },
  {
   "cell_type": "code",
   "execution_count": 16,
   "id": "dd0e2de7",
   "metadata": {},
   "outputs": [
    {
     "data": {
      "text/plain": [
       "array(['Medium', 'High', 'Low'], dtype=object)"
      ]
     },
     "execution_count": 16,
     "metadata": {},
     "output_type": "execute_result"
    }
   ],
   "source": [
    "# Complication_risk variable\n",
    "med_data.Complication_risk.unique()"
   ]
  },
  {
   "cell_type": "code",
   "execution_count": 17,
   "id": "ef233906",
   "metadata": {},
   "outputs": [
    {
     "data": {
      "text/plain": [
       "array([2, 3, 1], dtype=int64)"
      ]
     },
     "execution_count": 17,
     "metadata": {},
     "output_type": "execute_result"
    }
   ],
   "source": [
    "med_data['Complication_risk_numeric'] = med_data['Complication_risk']\n",
    "dict_risk = {\"Complication_risk_numeric\": {\"Low\": 1, \"Medium\": 2, \"High\": 3}}\n",
    "med_data.replace(dict_risk, inplace=True)\n",
    "med_data.Complication_risk_numeric.unique()"
   ]
  },
  {
   "cell_type": "code",
   "execution_count": 18,
   "id": "dee09f0c",
   "metadata": {},
   "outputs": [
    {
     "data": {
      "text/plain": [
       "array([ 0.,  1., nan])"
      ]
     },
     "execution_count": 18,
     "metadata": {},
     "output_type": "execute_result"
    }
   ],
   "source": [
    "# Overweight variable, no re-expression necessary\n",
    "med_data.Overweight.unique()"
   ]
  },
  {
   "cell_type": "code",
   "execution_count": 19,
   "id": "a7d18cb7",
   "metadata": {},
   "outputs": [
    {
     "data": {
      "text/plain": [
       "array(['Yes', 'No'], dtype=object)"
      ]
     },
     "execution_count": 19,
     "metadata": {},
     "output_type": "execute_result"
    }
   ],
   "source": [
    "# Arthritis variable\n",
    "med_data.Arthritis.unique()"
   ]
  },
  {
   "cell_type": "code",
   "execution_count": 20,
   "id": "84f68a50",
   "metadata": {},
   "outputs": [
    {
     "data": {
      "text/plain": [
       "array([1, 0], dtype=int64)"
      ]
     },
     "execution_count": 20,
     "metadata": {},
     "output_type": "execute_result"
    }
   ],
   "source": [
    "med_data['Arthritis_numeric'] = med_data['Arthritis']\n",
    "dict_Arthritis = {\"Arthritis_numeric\": {\"Yes\": 1, \"No\": 0}}\n",
    "med_data.replace(dict_Arthritis, inplace=True)\n",
    "med_data.Arthritis_numeric.unique()"
   ]
  },
  {
   "cell_type": "code",
   "execution_count": 21,
   "id": "126be38a",
   "metadata": {},
   "outputs": [
    {
     "data": {
      "text/plain": [
       "array(['Yes', 'No'], dtype=object)"
      ]
     },
     "execution_count": 21,
     "metadata": {},
     "output_type": "execute_result"
    }
   ],
   "source": [
    "# Diabetes variable\n",
    "med_data.Diabetes.unique()"
   ]
  },
  {
   "cell_type": "code",
   "execution_count": 22,
   "id": "fcbc711e",
   "metadata": {},
   "outputs": [
    {
     "data": {
      "text/plain": [
       "array([1, 0], dtype=int64)"
      ]
     },
     "execution_count": 22,
     "metadata": {},
     "output_type": "execute_result"
    }
   ],
   "source": [
    "med_data['Diabetes_numeric'] = med_data['Diabetes']\n",
    "dict_Diabetes = {\"Diabetes_numeric\": {\"Yes\": 1, \"No\": 0}}\n",
    "med_data.replace(dict_Diabetes, inplace=True)\n",
    "med_data.Diabetes_numeric.unique()"
   ]
  },
  {
   "cell_type": "code",
   "execution_count": 23,
   "id": "17958884",
   "metadata": {},
   "outputs": [
    {
     "data": {
      "text/plain": [
       "array(['No', 'Yes'], dtype=object)"
      ]
     },
     "execution_count": 23,
     "metadata": {},
     "output_type": "execute_result"
    }
   ],
   "source": [
    "# Hyperlipidemia variable\n",
    "med_data.Hyperlipidemia.unique()"
   ]
  },
  {
   "cell_type": "code",
   "execution_count": 24,
   "id": "7232f3a9",
   "metadata": {},
   "outputs": [
    {
     "data": {
      "text/plain": [
       "array([0, 1], dtype=int64)"
      ]
     },
     "execution_count": 24,
     "metadata": {},
     "output_type": "execute_result"
    }
   ],
   "source": [
    "med_data['Hyperlipidemia_numeric'] = med_data['Hyperlipidemia']\n",
    "dict_Hyperlip = {\"Hyperlipidemia_numeric\": {\"Yes\": 1, \"No\": 0}}\n",
    "med_data.replace(dict_Hyperlip, inplace=True)\n",
    "med_data.Hyperlipidemia_numeric.unique()"
   ]
  },
  {
   "cell_type": "code",
   "execution_count": 25,
   "id": "830b39fd",
   "metadata": {},
   "outputs": [
    {
     "data": {
      "text/plain": [
       "array(['Yes', 'No'], dtype=object)"
      ]
     },
     "execution_count": 25,
     "metadata": {},
     "output_type": "execute_result"
    }
   ],
   "source": [
    "# BackPain variable\n",
    "med_data.BackPain.unique()"
   ]
  },
  {
   "cell_type": "code",
   "execution_count": 26,
   "id": "ed12e12d",
   "metadata": {},
   "outputs": [
    {
     "data": {
      "text/plain": [
       "array([1, 0], dtype=int64)"
      ]
     },
     "execution_count": 26,
     "metadata": {},
     "output_type": "execute_result"
    }
   ],
   "source": [
    "med_data['BackPain_numeric'] = med_data['BackPain']\n",
    "dict_BackPain = {\"BackPain_numeric\": {\"Yes\": 1, \"No\": 0}}\n",
    "med_data.replace(dict_BackPain, inplace=True)\n",
    "med_data.BackPain_numeric.unique()"
   ]
  },
  {
   "cell_type": "code",
   "execution_count": 27,
   "id": "389b96c7",
   "metadata": {},
   "outputs": [
    {
     "data": {
      "text/plain": [
       "array([ 1., nan,  0.])"
      ]
     },
     "execution_count": 27,
     "metadata": {},
     "output_type": "execute_result"
    }
   ],
   "source": [
    "# Anxiety variable, no re-expression necessary\n",
    "med_data.Anxiety.unique()"
   ]
  },
  {
   "cell_type": "code",
   "execution_count": 28,
   "id": "ab02ab21",
   "metadata": {},
   "outputs": [
    {
     "data": {
      "text/plain": [
       "array(['Yes', 'No'], dtype=object)"
      ]
     },
     "execution_count": 28,
     "metadata": {},
     "output_type": "execute_result"
    }
   ],
   "source": [
    "# Allergic_rhinitis variable\n",
    "med_data.Allergic_rhinitis.unique()"
   ]
  },
  {
   "cell_type": "code",
   "execution_count": 29,
   "id": "6de36121",
   "metadata": {},
   "outputs": [
    {
     "data": {
      "text/plain": [
       "array([1, 0], dtype=int64)"
      ]
     },
     "execution_count": 29,
     "metadata": {},
     "output_type": "execute_result"
    }
   ],
   "source": [
    "med_data['Allergic_rhinitis_numeric'] = med_data['Allergic_rhinitis']\n",
    "dict_Allergic = {\"Allergic_rhinitis_numeric\": {\"Yes\": 1, \"No\": 0}}\n",
    "med_data.replace(dict_Allergic, inplace=True)\n",
    "med_data.Allergic_rhinitis_numeric.unique()"
   ]
  },
  {
   "cell_type": "code",
   "execution_count": 30,
   "id": "f47a94ab",
   "metadata": {},
   "outputs": [
    {
     "data": {
      "text/plain": [
       "array(['No', 'Yes'], dtype=object)"
      ]
     },
     "execution_count": 30,
     "metadata": {},
     "output_type": "execute_result"
    }
   ],
   "source": [
    "# Reflux_esophagitis variable\n",
    "med_data.Reflux_esophagitis.unique()"
   ]
  },
  {
   "cell_type": "code",
   "execution_count": 31,
   "id": "3b395679",
   "metadata": {},
   "outputs": [
    {
     "data": {
      "text/plain": [
       "array([0, 1], dtype=int64)"
      ]
     },
     "execution_count": 31,
     "metadata": {},
     "output_type": "execute_result"
    }
   ],
   "source": [
    "med_data['Reflux_esophagitis_numeric'] = med_data['Reflux_esophagitis']\n",
    "dict_Reflux = {\"Reflux_esophagitis_numeric\": {\"Yes\": 1, \"No\": 0}}\n",
    "med_data.replace(dict_Reflux, inplace=True)\n",
    "med_data.Reflux_esophagitis_numeric.unique()"
   ]
  },
  {
   "cell_type": "code",
   "execution_count": 32,
   "id": "163844bb",
   "metadata": {},
   "outputs": [
    {
     "data": {
      "text/plain": [
       "array(['Yes', 'No'], dtype=object)"
      ]
     },
     "execution_count": 32,
     "metadata": {},
     "output_type": "execute_result"
    }
   ],
   "source": [
    "# Asthma variable\n",
    "med_data.Asthma.unique()"
   ]
  },
  {
   "cell_type": "code",
   "execution_count": 33,
   "id": "7d014c76",
   "metadata": {},
   "outputs": [
    {
     "data": {
      "text/plain": [
       "array([1, 0], dtype=int64)"
      ]
     },
     "execution_count": 33,
     "metadata": {},
     "output_type": "execute_result"
    }
   ],
   "source": [
    "med_data['Asthma_numeric'] = med_data['Asthma']\n",
    "dict_Asthma = {\"Asthma_numeric\": {\"Yes\": 1, \"No\": 0}}\n",
    "med_data.replace(dict_Asthma, inplace=True)\n",
    "med_data.Asthma_numeric.unique()"
   ]
  },
  {
   "cell_type": "markdown",
   "id": "53a97942",
   "metadata": {},
   "source": [
    "# Detecting Missingness"
   ]
  },
  {
   "cell_type": "code",
   "execution_count": 34,
   "id": "aaca9298",
   "metadata": {
    "scrolled": false
   },
   "outputs": [
    {
     "data": {
      "text/plain": [
       "Unnamed: 0                    0\n",
       "CaseOrder                     0\n",
       "Customer_id                   0\n",
       "Interaction                   0\n",
       "UID                           0\n",
       "                             ..\n",
       "Hyperlipidemia_numeric        0\n",
       "BackPain_numeric              0\n",
       "Allergic_rhinitis_numeric     0\n",
       "Reflux_esophagitis_numeric    0\n",
       "Asthma_numeric                0\n",
       "Length: 65, dtype: int64"
      ]
     },
     "execution_count": 34,
     "metadata": {},
     "output_type": "execute_result"
    }
   ],
   "source": [
    "# Detection of missing data\n",
    "med_data.isnull().sum()"
   ]
  },
  {
   "cell_type": "code",
   "execution_count": 35,
   "id": "ba2d8d8f",
   "metadata": {},
   "outputs": [
    {
     "data": {
      "text/plain": [
       "(array([1880., 1858., 1094., 1113.,  739.,  126.,  145.,  154.,  157.,\n",
       "         146.]),\n",
       " array([ 0.,  1.,  2.,  3.,  4.,  5.,  6.,  7.,  8.,  9., 10.]),\n",
       " <BarContainer object of 10 artists>)"
      ]
     },
     "execution_count": 35,
     "metadata": {},
     "output_type": "execute_result"
    },
    {
     "data": {
      "image/png": "[encoded data removed]",
      "text/plain": [
       "<Figure size 640x480 with 1 Axes>"
      ]
     },
     "metadata": {},
     "output_type": "display_data"
    }
   ],
   "source": [
    "# Children Variable Step 1: Examining distribution\n",
    "# Positively skewed, skewed right\n",
    "# Will use value of 0 for imputation based on NA answer; potentially MNAR\n",
    "plt.hist(med_data['Children'])"
   ]
  },
  {
   "cell_type": "code",
   "execution_count": 36,
   "id": "1f4dadbf",
   "metadata": {},
   "outputs": [],
   "source": [
    "# Children Variable Step 2: Performing imputation of 0\n",
    "med_data['Children'].fillna((0), inplace=True)"
   ]
  },
  {
   "cell_type": "code",
   "execution_count": 37,
   "id": "af309636",
   "metadata": {},
   "outputs": [
    {
     "data": {
      "text/plain": [
       "0"
      ]
     },
     "execution_count": 37,
     "metadata": {},
     "output_type": "execute_result"
    }
   ],
   "source": [
    "# Children Variable Step 3: Verifying that missing values were imputed\n",
    "med_data['Children'].isnull().sum()"
   ]
  },
  {
   "cell_type": "code",
   "execution_count": 38,
   "id": "01f88ff7",
   "metadata": {},
   "outputs": [
    {
     "data": {
      "text/plain": [
       "(array([4468., 1858., 1094., 1113.,  739.,  126.,  145.,  154.,  157.,\n",
       "         146.]),\n",
       " array([ 0.,  1.,  2.,  3.,  4.,  5.,  6.,  7.,  8.,  9., 10.]),\n",
       " <BarContainer object of 10 artists>)"
      ]
     },
     "execution_count": 38,
     "metadata": {},
     "output_type": "execute_result"
    },
    {
     "data": {
      "image/png": "[encoded data removed]",
      "text/plain": [
       "<Figure size 640x480 with 1 Axes>"
      ]
     },
     "metadata": {},
     "output_type": "display_data"
    }
   ],
   "source": [
    "# Children Variable Step 4: Verifying distribution post imputation\n",
    "plt.hist(med_data['Children'])"
   ]
  },
  {
   "cell_type": "code",
   "execution_count": 39,
   "id": "1da9cb43",
   "metadata": {},
   "outputs": [
    {
     "data": {
      "text/plain": [
       "(array([823., 761., 746., 753., 746., 739., 730., 765., 710., 813.]),\n",
       " array([18. , 25.1, 32.2, 39.3, 46.4, 53.5, 60.6, 67.7, 74.8, 81.9, 89. ]),\n",
       " <BarContainer object of 10 artists>)"
      ]
     },
     "execution_count": 39,
     "metadata": {},
     "output_type": "execute_result"
    },
    {
     "data": {
      "image/png": "[encoded data removed]",
      "text/plain": [
       "<Figure size 640x480 with 1 Axes>"
      ]
     },
     "metadata": {},
     "output_type": "display_data"
    }
   ],
   "source": [
    "# Age Variable Step 1: Examining distribution\n",
    "# Uniform distribution, equally spread, no significant peaks\n",
    "# Will use mean for imputation based on distribution\n",
    "plt.hist(med_data['Age'])"
   ]
  },
  {
   "cell_type": "code",
   "execution_count": 40,
   "id": "4cf68282",
   "metadata": {},
   "outputs": [],
   "source": [
    "# Age Variable Step 2: Performing imputation of mean\n",
    "med_data['Age'].fillna(med_data['Age'].mean(), inplace=True)"
   ]
  },
  {
   "cell_type": "code",
   "execution_count": 41,
   "id": "384f963c",
   "metadata": {},
   "outputs": [
    {
     "data": {
      "text/plain": [
       "0"
      ]
     },
     "execution_count": 41,
     "metadata": {},
     "output_type": "execute_result"
    }
   ],
   "source": [
    "# Age Variable Step 3: Verifying that missing values were imputed\n",
    "med_data['Age'].isnull().sum()"
   ]
  },
  {
   "cell_type": "code",
   "execution_count": 42,
   "id": "071c2ca1",
   "metadata": {},
   "outputs": [
    {
     "data": {
      "text/plain": [
       "(array([ 823.,  761.,  746.,  753., 3160.,  739.,  730.,  765.,  710.,\n",
       "         813.]),\n",
       " array([18. , 25.1, 32.2, 39.3, 46.4, 53.5, 60.6, 67.7, 74.8, 81.9, 89. ]),\n",
       " <BarContainer object of 10 artists>)"
      ]
     },
     "execution_count": 42,
     "metadata": {},
     "output_type": "execute_result"
    },
    {
     "data": {
      "image/png": "[encoded data removed]",
      "text/plain": [
       "<Figure size 640x480 with 1 Axes>"
      ]
     },
     "metadata": {},
     "output_type": "display_data"
    }
   ],
   "source": [
    "# Age Variable Step 4: Verifying distribution post imputation\n",
    "plt.hist(med_data['Age'])"
   ]
  },
  {
   "cell_type": "code",
   "execution_count": 43,
   "id": "0c15b5fb",
   "metadata": {},
   "outputs": [
    {
     "data": {
      "text/plain": [
       "(array([2068., 2526., 1532.,  790.,  340.,  156.,   67.,   34.,   12.,\n",
       "          11.]),\n",
       " array([1.54080000e+02, 2.08635850e+04, 4.15730900e+04, 6.22825950e+04,\n",
       "        8.29921000e+04, 1.03701605e+05, 1.24411110e+05, 1.45120615e+05,\n",
       "        1.65830120e+05, 1.86539625e+05, 2.07249130e+05]),\n",
       " <BarContainer object of 10 artists>)"
      ]
     },
     "execution_count": 43,
     "metadata": {},
     "output_type": "execute_result"
    },
    {
     "data": {
      "image/png": "[encoded data removed]",
      "text/plain": [
       "<Figure size 640x480 with 1 Axes>"
      ]
     },
     "metadata": {},
     "output_type": "display_data"
    }
   ],
   "source": [
    "# Income Variable Step 1: Examining the Distribution\n",
    "# Positively skewed, skewed right\n",
    "# Will use median for imputation based on distribution\n",
    "plt.hist(med_data['Income'])"
   ]
  },
  {
   "cell_type": "code",
   "execution_count": 44,
   "id": "da12ddf5",
   "metadata": {},
   "outputs": [],
   "source": [
    "# Income Variable Step 2: Performing imputation of median\n",
    "med_data['Income'].fillna(med_data['Income'].median(), inplace=True)"
   ]
  },
  {
   "cell_type": "code",
   "execution_count": 45,
   "id": "380b8d81",
   "metadata": {},
   "outputs": [
    {
     "data": {
      "text/plain": [
       "0"
      ]
     },
     "execution_count": 45,
     "metadata": {},
     "output_type": "execute_result"
    }
   ],
   "source": [
    "# Income Variable Step 3: Verifying that missing values were imputed\n",
    "med_data['Income'].isnull().sum()"
   ]
  },
  {
   "cell_type": "code",
   "execution_count": 46,
   "id": "8929d71e",
   "metadata": {},
   "outputs": [
    {
     "data": {
      "text/plain": [
       "(array([2068., 4990., 1532.,  790.,  340.,  156.,   67.,   34.,   12.,\n",
       "          11.]),\n",
       " array([1.54080000e+02, 2.08635850e+04, 4.15730900e+04, 6.22825950e+04,\n",
       "        8.29921000e+04, 1.03701605e+05, 1.24411110e+05, 1.45120615e+05,\n",
       "        1.65830120e+05, 1.86539625e+05, 2.07249130e+05]),\n",
       " <BarContainer object of 10 artists>)"
      ]
     },
     "execution_count": 46,
     "metadata": {},
     "output_type": "execute_result"
    },
    {
     "data": {
      "image/png": "[encoded data removed]",
      "text/plain": [
       "<Figure size 640x480 with 1 Axes>"
      ]
     },
     "metadata": {},
     "output_type": "display_data"
    }
   ],
   "source": [
    "# Income Variable Step 4: Verifying distribution post imputation\n",
    "plt.hist(med_data['Income'])"
   ]
  },
  {
   "cell_type": "code",
   "execution_count": 47,
   "id": "78039882",
   "metadata": {
    "scrolled": true
   },
   "outputs": [
    {
     "name": "stdout",
     "output_type": "stream",
     "text": [
      "0       NaN\n",
      "1        No\n",
      "2        No\n",
      "3        No\n",
      "4       Yes\n",
      "       ... \n",
      "9995     No\n",
      "9996     No\n",
      "9997    Yes\n",
      "9998     No\n",
      "9999     No\n",
      "Name: Soft_drink, Length: 10000, dtype: object\n"
     ]
    }
   ],
   "source": [
    "print(med_data['Soft_drink'])"
   ]
  },
  {
   "cell_type": "code",
   "execution_count": 48,
   "id": "733da78c",
   "metadata": {},
   "outputs": [
    {
     "data": {
      "text/plain": [
       "(array([5589.,    0.,    0.,    0.,    0.,    0.,    0.,    0.,    0.,\n",
       "        1944.]),\n",
       " array([0. , 0.1, 0.2, 0.3, 0.4, 0.5, 0.6, 0.7, 0.8, 0.9, 1. ]),\n",
       " <BarContainer object of 10 artists>)"
      ]
     },
     "execution_count": 48,
     "metadata": {},
     "output_type": "execute_result"
    },
    {
     "data": {
      "image/png": "[encoded data removed]",
      "text/plain": [
       "<Figure size 640x480 with 1 Axes>"
      ]
     },
     "metadata": {},
     "output_type": "display_data"
    }
   ],
   "source": [
    "# Soft_drink Variable Step 1: Examining the Distribution\n",
    "# 0 is mode\n",
    "# Will impute value of 0\n",
    "plt.hist(med_data['Soft_drink_numeric'])"
   ]
  },
  {
   "cell_type": "code",
   "execution_count": 49,
   "id": "4329e76f",
   "metadata": {},
   "outputs": [],
   "source": [
    "# Soft_drink Variable Step 2: Performing imputation of 0\n",
    "med_data['Soft_drink'].fillna('No', inplace=True)\n",
    "med_data['Soft_drink_numeric'].fillna((0), inplace=True)"
   ]
  },
  {
   "cell_type": "code",
   "execution_count": 50,
   "id": "10285405",
   "metadata": {},
   "outputs": [
    {
     "data": {
      "text/plain": [
       "0"
      ]
     },
     "execution_count": 50,
     "metadata": {},
     "output_type": "execute_result"
    }
   ],
   "source": [
    "# Soft_drink Variable Step 3: Verifying that missing values were imputed\n",
    "med_data['Soft_drink'].isnull().sum()"
   ]
  },
  {
   "cell_type": "code",
   "execution_count": 51,
   "id": "9ce45b86",
   "metadata": {},
   "outputs": [
    {
     "name": "stdout",
     "output_type": "stream",
     "text": [
      "0        No\n",
      "1        No\n",
      "2        No\n",
      "3        No\n",
      "4       Yes\n",
      "       ... \n",
      "9995     No\n",
      "9996     No\n",
      "9997    Yes\n",
      "9998     No\n",
      "9999     No\n",
      "Name: Soft_drink, Length: 10000, dtype: object\n"
     ]
    }
   ],
   "source": [
    "# Soft_drink Variable Step 4: Verifying distribution post imputation\n",
    "print(med_data['Soft_drink'])"
   ]
  },
  {
   "cell_type": "code",
   "execution_count": 52,
   "id": "1e8131b9",
   "metadata": {},
   "outputs": [
    {
     "name": "stdout",
     "output_type": "stream",
     "text": [
      "0       0.0\n",
      "1       1.0\n",
      "2       1.0\n",
      "3       0.0\n",
      "4       0.0\n",
      "       ... \n",
      "9995    NaN\n",
      "9996    1.0\n",
      "9997    1.0\n",
      "9998    1.0\n",
      "9999    1.0\n",
      "Name: Overweight, Length: 10000, dtype: float64\n"
     ]
    }
   ],
   "source": [
    "# Ensuring Yes and No values are mapped to 1 and 0, respectively, for Overweight variable\n",
    "print(med_data['Overweight'])"
   ]
  },
  {
   "cell_type": "code",
   "execution_count": 53,
   "id": "3ad6b881",
   "metadata": {},
   "outputs": [
    {
     "data": {
      "text/plain": [
       "(array([2623.,    0.,    0.,    0.,    0.,    0.,    0.,    0.,    0.,\n",
       "        6395.]),\n",
       " array([0. , 0.1, 0.2, 0.3, 0.4, 0.5, 0.6, 0.7, 0.8, 0.9, 1. ]),\n",
       " <BarContainer object of 10 artists>)"
      ]
     },
     "execution_count": 53,
     "metadata": {},
     "output_type": "execute_result"
    },
    {
     "data": {
      "image/png": "[encoded data removed]",
      "text/plain": [
       "<Figure size 640x480 with 1 Axes>"
      ]
     },
     "metadata": {},
     "output_type": "display_data"
    }
   ],
   "source": [
    "# Overweight Variable Step 1: Examining the distribution\n",
    "# 1 is mode\n",
    "# Will impute value of 1, also potentially MNAR\n",
    "plt.hist(med_data['Overweight'])"
   ]
  },
  {
   "cell_type": "code",
   "execution_count": 54,
   "id": "b94961aa",
   "metadata": {},
   "outputs": [],
   "source": [
    "# Overweight Variable Step 2: Performing imputation of 1\n",
    "med_data['Overweight'].fillna((1), inplace=True)"
   ]
  },
  {
   "cell_type": "code",
   "execution_count": 55,
   "id": "b5031be3",
   "metadata": {},
   "outputs": [
    {
     "data": {
      "text/plain": [
       "0"
      ]
     },
     "execution_count": 55,
     "metadata": {},
     "output_type": "execute_result"
    }
   ],
   "source": [
    "# Overweight Variable Step 3: Verifying that missing values were imputed\n",
    "med_data['Overweight'].isnull().sum()"
   ]
  },
  {
   "cell_type": "code",
   "execution_count": 56,
   "id": "890402de",
   "metadata": {},
   "outputs": [
    {
     "data": {
      "text/plain": [
       "(array([2623.,    0.,    0.,    0.,    0.,    0.,    0.,    0.,    0.,\n",
       "        7377.]),\n",
       " array([0. , 0.1, 0.2, 0.3, 0.4, 0.5, 0.6, 0.7, 0.8, 0.9, 1. ]),\n",
       " <BarContainer object of 10 artists>)"
      ]
     },
     "execution_count": 56,
     "metadata": {},
     "output_type": "execute_result"
    },
    {
     "data": {
      "image/png": "[encoded data removed]",
      "text/plain": [
       "<Figure size 640x480 with 1 Axes>"
      ]
     },
     "metadata": {},
     "output_type": "display_data"
    }
   ],
   "source": [
    "# Overweight Variable Step 4: Verifying distribution post imputation\n",
    "plt.hist(med_data['Overweight'])"
   ]
  },
  {
   "cell_type": "code",
   "execution_count": 57,
   "id": "ac60c9f6",
   "metadata": {},
   "outputs": [
    {
     "data": {
      "text/plain": [
       "(array([6110.,    0.,    0.,    0.,    0.,    0.,    0.,    0.,    0.,\n",
       "        2906.]),\n",
       " array([0. , 0.1, 0.2, 0.3, 0.4, 0.5, 0.6, 0.7, 0.8, 0.9, 1. ]),\n",
       " <BarContainer object of 10 artists>)"
      ]
     },
     "execution_count": 57,
     "metadata": {},
     "output_type": "execute_result"
    },
    {
     "data": {
      "image/png": "[encoded data removed]",
      "text/plain": [
       "<Figure size 640x480 with 1 Axes>"
      ]
     },
     "metadata": {},
     "output_type": "display_data"
    }
   ],
   "source": [
    "# Anxiety Variable Step 1: Examining the distribution\n",
    "# 0 is mode\n",
    "# Will impute value of 0, also potentially MNAR\n",
    "plt.hist(med_data['Anxiety'])"
   ]
  },
  {
   "cell_type": "code",
   "execution_count": 58,
   "id": "ed16d03d",
   "metadata": {},
   "outputs": [],
   "source": [
    "# Anxiety Variable Step 2: Performing imputation of 0\n",
    "med_data['Anxiety'].fillna((0), inplace=True)"
   ]
  },
  {
   "cell_type": "code",
   "execution_count": 59,
   "id": "5c2bdd71",
   "metadata": {},
   "outputs": [
    {
     "data": {
      "text/plain": [
       "0"
      ]
     },
     "execution_count": 59,
     "metadata": {},
     "output_type": "execute_result"
    }
   ],
   "source": [
    "# Anxiety Variable Step 3: Verifying that missing values were imputed\n",
    "med_data['Anxiety'].isnull().sum()"
   ]
  },
  {
   "cell_type": "code",
   "execution_count": 60,
   "id": "a1e8e24d",
   "metadata": {
    "scrolled": true
   },
   "outputs": [
    {
     "data": {
      "text/plain": [
       "(array([7094.,    0.,    0.,    0.,    0.,    0.,    0.,    0.,    0.,\n",
       "        2906.]),\n",
       " array([0. , 0.1, 0.2, 0.3, 0.4, 0.5, 0.6, 0.7, 0.8, 0.9, 1. ]),\n",
       " <BarContainer object of 10 artists>)"
      ]
     },
     "execution_count": 60,
     "metadata": {},
     "output_type": "execute_result"
    },
    {
     "data": {
      "image/png": "[encoded data removed]",
      "text/plain": [
       "<Figure size 640x480 with 1 Axes>"
      ]
     },
     "metadata": {},
     "output_type": "display_data"
    }
   ],
   "source": [
    "# Anxiety Variable Step 4: Verifying distribution post imputation\n",
    "plt.hist(med_data['Anxiety'])"
   ]
  },
  {
   "cell_type": "code",
   "execution_count": 61,
   "id": "d55a8c08",
   "metadata": {},
   "outputs": [
    {
     "data": {
      "text/plain": [
       "(array([2288., 1429.,  599.,  134.,   32.,  235.,  502.,  916., 1314.,\n",
       "        1495.]),\n",
       " array([ 1.00198092,  8.09993146, 15.197882  , 22.29583253, 29.39378307,\n",
       "        36.49173361, 43.58968415, 50.68763469, 57.78558522, 64.88353576,\n",
       "        71.9814863 ]),\n",
       " <BarContainer object of 10 artists>)"
      ]
     },
     "execution_count": 61,
     "metadata": {},
     "output_type": "execute_result"
    },
    {
     "data": {
      "image/png": "[encoded data removed]",
      "text/plain": [
       "<Figure size 640x480 with 1 Axes>"
      ]
     },
     "metadata": {},
     "output_type": "display_data"
    }
   ],
   "source": [
    "# Initial_days variable Step 1: Examining the distribution\n",
    "# Bimodal distribution, non-symmetric\n",
    "# Will impute median based on distribution\n",
    "plt.hist(med_data['Initial_days'])"
   ]
  },
  {
   "cell_type": "code",
   "execution_count": 62,
   "id": "dd33e8d6",
   "metadata": {},
   "outputs": [],
   "source": [
    "# Initial_days Variable Step 2: Performing imputation of median\n",
    "med_data['Initial_days'].fillna(med_data['Initial_days'].median(), inplace=True)"
   ]
  },
  {
   "cell_type": "code",
   "execution_count": 63,
   "id": "b730e8fa",
   "metadata": {},
   "outputs": [
    {
     "data": {
      "text/plain": [
       "0"
      ]
     },
     "execution_count": 63,
     "metadata": {},
     "output_type": "execute_result"
    }
   ],
   "source": [
    "# Initial_days Variable Step 3: Verifying that missing values were imputed\n",
    "med_data['Initial_days'].isnull().sum()"
   ]
  },
  {
   "cell_type": "code",
   "execution_count": 64,
   "id": "684e0e03",
   "metadata": {
    "scrolled": true
   },
   "outputs": [
    {
     "data": {
      "text/plain": [
       "(array([2288., 1429.,  599.,  134., 1088.,  235.,  502.,  916., 1314.,\n",
       "        1495.]),\n",
       " array([ 1.00198092,  8.09993146, 15.197882  , 22.29583253, 29.39378307,\n",
       "        36.49173361, 43.58968415, 50.68763469, 57.78558522, 64.88353576,\n",
       "        71.9814863 ]),\n",
       " <BarContainer object of 10 artists>)"
      ]
     },
     "execution_count": 64,
     "metadata": {},
     "output_type": "execute_result"
    },
    {
     "data": {
      "image/png": "[encoded data removed]",
      "text/plain": [
       "<Figure size 640x480 with 1 Axes>"
      ]
     },
     "metadata": {},
     "output_type": "display_data"
    }
   ],
   "source": [
    "# Initial_days Variable Step 4: Verifying distribution post imputation\n",
    "plt.hist(med_data['Initial_days'])"
   ]
  },
  {
   "cell_type": "markdown",
   "id": "64d206ef",
   "metadata": {},
   "source": [
    "# Detecting Outliers"
   ]
  },
  {
   "cell_type": "code",
   "execution_count": 65,
   "id": "efeee2fc",
   "metadata": {
    "scrolled": true
   },
   "outputs": [
    {
     "data": {
      "text/plain": [
       "<bound method NDFrame.head of       Population  z_score_population\n",
       "0           2951           -0.473168\n",
       "1          11303            0.090242\n",
       "2          17125            0.482983\n",
       "3           2162           -0.526393\n",
       "4           5287           -0.315586\n",
       "...          ...                 ...\n",
       "9995        4762           -0.351002\n",
       "9996        1251           -0.587847\n",
       "9997         532           -0.636349\n",
       "9998         271           -0.653956\n",
       "9999       41524            2.128893\n",
       "\n",
       "[10000 rows x 2 columns]>"
      ]
     },
     "execution_count": 65,
     "metadata": {},
     "output_type": "execute_result"
    }
   ],
   "source": [
    "# Examining outliers for Population variable\n",
    "# Outliers are present and will be retained\n",
    "med_data['z_score_population']=stats.zscore(med_data['Population'])\n",
    "med_data[['Population','z_score_population']].head"
   ]
  },
  {
   "cell_type": "code",
   "execution_count": 66,
   "id": "98164188",
   "metadata": {},
   "outputs": [
    {
     "data": {
      "text/plain": [
       "(array([7.328e+03, 1.203e+03, 7.630e+02, 3.950e+02, 1.860e+02, 7.500e+01,\n",
       "        2.600e+01, 1.800e+01, 4.000e+00, 2.000e+00]),\n",
       " array([-0.67223706,  0.15624281,  0.98472269,  1.81320256,  2.64168243,\n",
       "         3.4701623 ,  4.29864217,  5.12712205,  5.95560192,  6.78408179,\n",
       "         7.61256166]),\n",
       " <BarContainer object of 10 artists>)"
      ]
     },
     "execution_count": 66,
     "metadata": {},
     "output_type": "execute_result"
    },
    {
     "data": {
      "image/png": "[encoded data removed]",
      "text/plain": [
       "<Figure size 640x480 with 1 Axes>"
      ]
     },
     "metadata": {},
     "output_type": "display_data"
    }
   ],
   "source": [
    "plt.hist(med_data['z_score_population'])"
   ]
  },
  {
   "cell_type": "code",
   "execution_count": 67,
   "id": "b1591521",
   "metadata": {
    "scrolled": false
   },
   "outputs": [
    {
     "data": {
      "image/png": "[encoded data removed]",
      "text/plain": [
       "<Figure size 640x480 with 1 Axes>"
      ]
     },
     "metadata": {},
     "output_type": "display_data"
    }
   ],
   "source": [
    "boxplot=sns.boxplot(x='Population',data=med_data)"
   ]
  },
  {
   "cell_type": "code",
   "execution_count": 68,
   "id": "a8ff4d1d",
   "metadata": {
    "scrolled": true
   },
   "outputs": [
    {
     "data": {
      "text/plain": [
       "<bound method NDFrame.head of       Children  z_score_children\n",
       "0          1.0         -0.268130\n",
       "1          3.0          0.697755\n",
       "2          3.0          0.697755\n",
       "3          0.0         -0.751072\n",
       "4          0.0         -0.751072\n",
       "...        ...               ...\n",
       "9995       0.0         -0.751072\n",
       "9996       4.0          1.180697\n",
       "9997       3.0          0.697755\n",
       "9998       3.0          0.697755\n",
       "9999       8.0          3.112467\n",
       "\n",
       "[10000 rows x 2 columns]>"
      ]
     },
     "execution_count": 68,
     "metadata": {},
     "output_type": "execute_result"
    }
   ],
   "source": [
    "# Examining outliers for Children variable\n",
    "# Outliers are present and will be retained\n",
    "med_data['z_score_children']=stats.zscore(med_data['Children'])\n",
    "med_data[['Children','z_score_children']].head"
   ]
  },
  {
   "cell_type": "code",
   "execution_count": 69,
   "id": "37d49e63",
   "metadata": {
    "scrolled": true
   },
   "outputs": [
    {
     "data": {
      "text/plain": [
       "(array([4468., 2952.,    0., 1852.,  126.,  145.,  154.,  157.,   83.,\n",
       "          63.]),\n",
       " array([-0.75107187, -0.26812957,  0.21481274,  0.69775504,  1.18069735,\n",
       "         1.66363965,  2.14658196,  2.62952427,  3.11246657,  3.59540888,\n",
       "         4.07835118]),\n",
       " <BarContainer object of 10 artists>)"
      ]
     },
     "execution_count": 69,
     "metadata": {},
     "output_type": "execute_result"
    },
    {
     "data": {
      "image/png": "[encoded data removed]",
      "text/plain": [
       "<Figure size 640x480 with 1 Axes>"
      ]
     },
     "metadata": {},
     "output_type": "display_data"
    }
   ],
   "source": [
    "plt.hist(med_data['z_score_children'])"
   ]
  },
  {
   "cell_type": "code",
   "execution_count": 70,
   "id": "14e47e27",
   "metadata": {
    "scrolled": true
   },
   "outputs": [
    {
     "data": {
      "image/png": "[encoded data removed]",
      "text/plain": [
       "<Figure size 640x480 with 1 Axes>"
      ]
     },
     "metadata": {},
     "output_type": "display_data"
    }
   ],
   "source": [
    "boxplot=sns.boxplot(x='Children',data=med_data)"
   ]
  },
  {
   "cell_type": "code",
   "execution_count": 71,
   "id": "db4ad625",
   "metadata": {},
   "outputs": [
    {
     "data": {
      "text/plain": [
       "<bound method NDFrame.head of             Age   z_score_age\n",
       "0     53.000000 -1.643333e-02\n",
       "1     51.000000 -1.275909e-01\n",
       "2     53.000000 -1.643333e-02\n",
       "3     78.000000  1.373036e+00\n",
       "4     22.000000 -1.739376e+00\n",
       "...         ...           ...\n",
       "9995  25.000000 -1.572639e+00\n",
       "9996  87.000000  1.873245e+00\n",
       "9997  53.295676  3.949110e-16\n",
       "9998  43.000000 -5.722212e-01\n",
       "9999  53.295676  3.949110e-16\n",
       "\n",
       "[10000 rows x 2 columns]>"
      ]
     },
     "execution_count": 71,
     "metadata": {},
     "output_type": "execute_result"
    }
   ],
   "source": [
    "# Examining outliers for Age variable\n",
    "# No outliers present\n",
    "med_data['z_score_age']=stats.zscore(med_data['Age'])\n",
    "med_data[['Age','z_score_age']].head"
   ]
  },
  {
   "cell_type": "code",
   "execution_count": 72,
   "id": "aa4c678b",
   "metadata": {
    "scrolled": false
   },
   "outputs": [
    {
     "data": {
      "text/plain": [
       "(array([ 823.,  761.,  746.,  753., 3160.,  739.,  730.,  765.,  710.,\n",
       "         813.]),\n",
       " array([-1.96169093, -1.56708153, -1.17247213, -0.77786273, -0.38325333,\n",
       "         0.01135607,  0.40596547,  0.80057486,  1.19518426,  1.58979366,\n",
       "         1.98440306]),\n",
       " <BarContainer object of 10 artists>)"
      ]
     },
     "execution_count": 72,
     "metadata": {},
     "output_type": "execute_result"
    },
    {
     "data": {
      "image/png": "[encoded data removed]",
      "text/plain": [
       "<Figure size 640x480 with 1 Axes>"
      ]
     },
     "metadata": {},
     "output_type": "display_data"
    }
   ],
   "source": [
    "plt.hist(med_data['z_score_age'])"
   ]
  },
  {
   "cell_type": "code",
   "execution_count": 73,
   "id": "53c5e178",
   "metadata": {
    "scrolled": true
   },
   "outputs": [
    {
     "data": {
      "image/png": "[encoded data removed]",
      "text/plain": [
       "<Figure size 640x480 with 1 Axes>"
      ]
     },
     "metadata": {},
     "output_type": "display_data"
    }
   ],
   "source": [
    "boxplot=sns.boxplot(x='Age',data=med_data)"
   ]
  },
  {
   "cell_type": "code",
   "execution_count": 74,
   "id": "1f4ac21a",
   "metadata": {},
   "outputs": [
    {
     "data": {
      "text/plain": [
       "<bound method NDFrame.head of         Income  z_score_income\n",
       "0     86575.93        1.904974\n",
       "1     46805.99        0.316815\n",
       "2     14370.14       -0.978466\n",
       "3     39741.49        0.034704\n",
       "4      1209.56       -1.504016\n",
       "...        ...             ...\n",
       "9995  45967.61        0.283336\n",
       "9996  14983.02       -0.953992\n",
       "9997  65917.81        1.080020\n",
       "9998  29702.32       -0.366197\n",
       "9999  62682.63        0.950827\n",
       "\n",
       "[10000 rows x 2 columns]>"
      ]
     },
     "execution_count": 74,
     "metadata": {},
     "output_type": "execute_result"
    }
   ],
   "source": [
    "# Examining outliers for Income variable\n",
    "# Outliers are present and will be retained\n",
    "med_data['z_score_income']=stats.zscore(med_data['Income'])\n",
    "med_data[['Income','z_score_income']].head"
   ]
  },
  {
   "cell_type": "code",
   "execution_count": 75,
   "id": "201f47f5",
   "metadata": {
    "scrolled": true
   },
   "outputs": [
    {
     "data": {
      "text/plain": [
       "(array([2068., 4990., 1532.,  790.,  340.,  156.,   67.,   34.,   12.,\n",
       "          11.]),\n",
       " array([-1.54616546, -0.71915955,  0.10784637,  0.93485228,  1.76185819,\n",
       "         2.5888641 ,  3.41587002,  4.24287593,  5.06988184,  5.89688776,\n",
       "         6.72389367]),\n",
       " <BarContainer object of 10 artists>)"
      ]
     },
     "execution_count": 75,
     "metadata": {},
     "output_type": "execute_result"
    },
    {
     "data": {
      "image/png": "[encoded data removed]",
      "text/plain": [
       "<Figure size 640x480 with 1 Axes>"
      ]
     },
     "metadata": {},
     "output_type": "display_data"
    }
   ],
   "source": [
    "plt.hist(med_data['z_score_income'])"
   ]
  },
  {
   "cell_type": "code",
   "execution_count": 76,
   "id": "23ac60d0",
   "metadata": {},
   "outputs": [
    {
     "data": {
      "image/png": "[encoded data removed]",
      "text/plain": [
       "<Figure size 640x480 with 1 Axes>"
      ]
     },
     "metadata": {},
     "output_type": "display_data"
    }
   ],
   "source": [
    "boxplot=sns.boxplot(x='Income',data=med_data)"
   ]
  },
  {
   "cell_type": "code",
   "execution_count": 77,
   "id": "59ac6818",
   "metadata": {},
   "outputs": [
    {
     "data": {
      "text/plain": [
       "<bound method NDFrame.head of       VitD_levels  z_score_vitd\n",
       "0       17.802330     -0.239530\n",
       "1       18.994640     -0.062181\n",
       "2       17.415889     -0.297011\n",
       "3       17.420079     -0.296388\n",
       "4       16.870524     -0.378131\n",
       "...           ...           ...\n",
       "9995    16.481612     -0.435979\n",
       "9996    18.451601     -0.142954\n",
       "9997    15.752751     -0.544393\n",
       "9998    21.956305      0.378351\n",
       "9999    20.421883      0.150114\n",
       "\n",
       "[10000 rows x 2 columns]>"
      ]
     },
     "execution_count": 77,
     "metadata": {},
     "output_type": "execute_result"
    }
   ],
   "source": [
    "# Examining outliers for VitD_levels variable\n",
    "# Outliers are present and will be retained\n",
    "med_data['z_score_vitd']=stats.zscore(med_data['VitD_levels'])\n",
    "med_data[['VitD_levels','z_score_vitd']].head"
   ]
  },
  {
   "cell_type": "code",
   "execution_count": 78,
   "id": "9bbd6dfb",
   "metadata": {},
   "outputs": [
    {
     "data": {
      "text/plain": [
       "(array([ 313., 4930., 4063.,  194.,    0.,    0.,    0.,   49.,  329.,\n",
       "         122.]),\n",
       " array([-1.47162731, -0.8245874 , -0.17754748,  0.46949244,  1.11653235,\n",
       "         1.76357227,  2.41061218,  3.0576521 ,  3.70469201,  4.35173193,\n",
       "         4.99877184]),\n",
       " <BarContainer object of 10 artists>)"
      ]
     },
     "execution_count": 78,
     "metadata": {},
     "output_type": "execute_result"
    },
    {
     "data": {
      "image/png": "[encoded data removed]",
      "text/plain": [
       "<Figure size 640x480 with 1 Axes>"
      ]
     },
     "metadata": {},
     "output_type": "display_data"
    }
   ],
   "source": [
    "plt.hist(med_data['z_score_vitd'])"
   ]
  },
  {
   "cell_type": "code",
   "execution_count": 79,
   "id": "8d3caa8a",
   "metadata": {},
   "outputs": [
    {
     "data": {
      "image/png": "[encoded data removed]",
      "text/plain": [
       "<Figure size 640x480 with 1 Axes>"
      ]
     },
     "metadata": {},
     "output_type": "display_data"
    }
   ],
   "source": [
    "boxplot=sns.boxplot(x='VitD_levels',data=med_data)"
   ]
  },
  {
   "cell_type": "code",
   "execution_count": 80,
   "id": "1e39d343",
   "metadata": {},
   "outputs": [
    {
     "data": {
      "text/plain": [
       "<bound method NDFrame.head of       Doc_visits  z_score_doc_visits\n",
       "0              6            0.944647\n",
       "1              4           -0.967981\n",
       "2              4           -0.967981\n",
       "3              4           -0.967981\n",
       "4              5           -0.011667\n",
       "...          ...                 ...\n",
       "9995           4           -0.967981\n",
       "9996           5           -0.011667\n",
       "9997           4           -0.967981\n",
       "9998           5           -0.011667\n",
       "9999           5           -0.011667\n",
       "\n",
       "[10000 rows x 2 columns]>"
      ]
     },
     "execution_count": 80,
     "metadata": {},
     "output_type": "execute_result"
    }
   ],
   "source": [
    "# Examining outliers via z-scores for Doc_visits variable\n",
    "# No outliers present\n",
    "med_data['z_score_doc_visits']=stats.zscore(med_data['Doc_visits'])\n",
    "med_data[['Doc_visits','z_score_doc_visits']].head"
   ]
  },
  {
   "cell_type": "code",
   "execution_count": 81,
   "id": "bd65b92e",
   "metadata": {},
   "outputs": [
    {
     "data": {
      "text/plain": [
       "(array([6.000e+00, 5.800e+01, 5.950e+02, 2.385e+03, 0.000e+00, 3.823e+03,\n",
       "        2.436e+03, 6.340e+02, 6.100e+01, 2.000e+00]),\n",
       " array([-3.83692119, -3.07187036, -2.30681952, -1.54176869, -0.77671786,\n",
       "        -0.01166703,  0.75338381,  1.51843464,  2.28348547,  3.04853631,\n",
       "         3.81358714]),\n",
       " <BarContainer object of 10 artists>)"
      ]
     },
     "execution_count": 81,
     "metadata": {},
     "output_type": "execute_result"
    },
    {
     "data": {
      "image/png": "[encoded data removed]",
      "text/plain": [
       "<Figure size 640x480 with 1 Axes>"
      ]
     },
     "metadata": {},
     "output_type": "display_data"
    }
   ],
   "source": [
    "plt.hist(med_data['z_score_doc_visits'])"
   ]
  },
  {
   "cell_type": "code",
   "execution_count": 82,
   "id": "daba131a",
   "metadata": {},
   "outputs": [
    {
     "data": {
      "image/png": "[encoded data removed]",
      "text/plain": [
       "<Figure size 640x480 with 1 Axes>"
      ]
     },
     "metadata": {},
     "output_type": "display_data"
    }
   ],
   "source": [
    "boxplot=sns.boxplot(x='Doc_visits',data=med_data)"
   ]
  },
  {
   "cell_type": "code",
   "execution_count": 83,
   "id": "e888784e",
   "metadata": {},
   "outputs": [
    {
     "data": {
      "text/plain": [
       "<bound method NDFrame.head of       Full_meals_eaten  z_score_meals\n",
       "0                    0      -0.993387\n",
       "1                    2       0.990609\n",
       "2                    1      -0.001389\n",
       "3                    1      -0.001389\n",
       "4                    0      -0.993387\n",
       "...                ...            ...\n",
       "9995                 2       0.990609\n",
       "9996                 0      -0.993387\n",
       "9997                 2       0.990609\n",
       "9998                 2       0.990609\n",
       "9999                 0      -0.993387\n",
       "\n",
       "[10000 rows x 2 columns]>"
      ]
     },
     "execution_count": 83,
     "metadata": {},
     "output_type": "execute_result"
    }
   ],
   "source": [
    "# Examining outliers for Full_meals_eaten variable\n",
    "# Outliers are present and will be retained\n",
    "med_data['z_score_meals']=stats.zscore(med_data['Full_meals_eaten'])\n",
    "med_data[['Full_meals_eaten','z_score_meals']].head"
   ]
  },
  {
   "cell_type": "code",
   "execution_count": 84,
   "id": "32727745",
   "metadata": {
    "scrolled": true
   },
   "outputs": [
    {
     "data": {
      "text/plain": [
       "(array([3.715e+03, 3.615e+03, 1.856e+03, 0.000e+00, 6.120e+02, 1.690e+02,\n",
       "        0.000e+00, 2.500e+01, 6.000e+00, 2.000e+00]),\n",
       " array([-0.99338686, -0.29898822,  0.39541043,  1.08980907,  1.78420771,\n",
       "         2.47860636,  3.173005  ,  3.86740364,  4.56180229,  5.25620093,\n",
       "         5.95059957]),\n",
       " <BarContainer object of 10 artists>)"
      ]
     },
     "execution_count": 84,
     "metadata": {},
     "output_type": "execute_result"
    },
    {
     "data": {
      "image/png": "[encoded data removed]",
      "text/plain": [
       "<Figure size 640x480 with 1 Axes>"
      ]
     },
     "metadata": {},
     "output_type": "display_data"
    }
   ],
   "source": [
    "plt.hist(med_data['z_score_meals'])"
   ]
  },
  {
   "cell_type": "code",
   "execution_count": 85,
   "id": "1129366a",
   "metadata": {
    "scrolled": false
   },
   "outputs": [
    {
     "data": {
      "image/png": "[encoded data removed]",
      "text/plain": [
       "<Figure size 640x480 with 1 Axes>"
      ]
     },
     "metadata": {},
     "output_type": "display_data"
    }
   ],
   "source": [
    "boxplot=sns.boxplot(x='Full_meals_eaten',data=med_data)"
   ]
  },
  {
   "cell_type": "code",
   "execution_count": 86,
   "id": "a5b5f7f7",
   "metadata": {},
   "outputs": [
    {
     "data": {
      "text/plain": [
       "<bound method NDFrame.head of       VitD_supp  z_score_vitd_supp\n",
       "0             0          -0.634713\n",
       "1             1           0.956445\n",
       "2             0          -0.634713\n",
       "3             0          -0.634713\n",
       "4             2           2.547602\n",
       "...         ...                ...\n",
       "9995          1           0.956445\n",
       "9996          0          -0.634713\n",
       "9997          0          -0.634713\n",
       "9998          1           0.956445\n",
       "9999          1           0.956445\n",
       "\n",
       "[10000 rows x 2 columns]>"
      ]
     },
     "execution_count": 86,
     "metadata": {},
     "output_type": "execute_result"
    }
   ],
   "source": [
    "# Examining outliers for VitD_supp variable\n",
    "# Outliers are present and will be retained\n",
    "med_data['z_score_vitd_supp']=stats.zscore(med_data['VitD_supp'])\n",
    "med_data[['VitD_supp','z_score_vitd_supp']].head"
   ]
  },
  {
   "cell_type": "code",
   "execution_count": 87,
   "id": "3b7cf2a7",
   "metadata": {},
   "outputs": [
    {
     "data": {
      "text/plain": [
       "(array([6.702e+03, 2.684e+03, 0.000e+00, 5.440e+02, 0.000e+00, 0.000e+00,\n",
       "        6.400e+01, 0.000e+00, 5.000e+00, 1.000e+00]),\n",
       " array([-0.63471264,  0.160866  ,  0.95644465,  1.75202329,  2.54760193,\n",
       "         3.34318058,  4.13875922,  4.93433787,  5.72991651,  6.52549516,\n",
       "         7.3210738 ]),\n",
       " <BarContainer object of 10 artists>)"
      ]
     },
     "execution_count": 87,
     "metadata": {},
     "output_type": "execute_result"
    },
    {
     "data": {
      "image/png": "[encoded data removed]",
      "text/plain": [
       "<Figure size 640x480 with 1 Axes>"
      ]
     },
     "metadata": {},
     "output_type": "display_data"
    }
   ],
   "source": [
    "plt.hist(med_data['z_score_vitd_supp'])"
   ]
  },
  {
   "cell_type": "code",
   "execution_count": 88,
   "id": "c450eaa4",
   "metadata": {},
   "outputs": [
    {
     "data": {
      "image/png": "[encoded data removed]",
      "text/plain": [
       "<Figure size 640x480 with 1 Axes>"
      ]
     },
     "metadata": {},
     "output_type": "display_data"
    }
   ],
   "source": [
    "boxplot=sns.boxplot(x='VitD_supp',data=med_data)"
   ]
  },
  {
   "cell_type": "code",
   "execution_count": 89,
   "id": "c1670377",
   "metadata": {},
   "outputs": [
    {
     "data": {
      "text/plain": [
       "<bound method NDFrame.head of       Initial_days  z_score_initial_days\n",
       "0        10.585770             -0.959326\n",
       "1        15.129562             -0.776544\n",
       "2         4.772177             -1.193189\n",
       "3         1.714879             -1.316175\n",
       "4         1.254807             -1.334682\n",
       "...            ...                   ...\n",
       "9995     51.561217              0.688989\n",
       "9996     68.668237              1.377151\n",
       "9997     34.446941              0.000535\n",
       "9998     63.356903              1.163493\n",
       "9999     70.850592              1.464941\n",
       "\n",
       "[10000 rows x 2 columns]>"
      ]
     },
     "execution_count": 89,
     "metadata": {},
     "output_type": "execute_result"
    }
   ],
   "source": [
    "# Examining outliers for Initial_days variable\n",
    "# No outliers present\n",
    "med_data['z_score_initial_days']=stats.zscore(med_data['Initial_days'])\n",
    "med_data[['Initial_days','z_score_initial_days']].head"
   ]
  },
  {
   "cell_type": "code",
   "execution_count": 90,
   "id": "27875c6f",
   "metadata": {},
   "outputs": [
    {
     "data": {
      "text/plain": [
       "(array([2288., 1429.,  599.,  134., 1088.,  235.,  502.,  916., 1314.,\n",
       "        1495.]),\n",
       " array([-1.34485234, -1.05932382, -0.7737953 , -0.48826677, -0.20273825,\n",
       "         0.08279028,  0.3683188 ,  0.65384732,  0.93937585,  1.22490437,\n",
       "         1.51043289]),\n",
       " <BarContainer object of 10 artists>)"
      ]
     },
     "execution_count": 90,
     "metadata": {},
     "output_type": "execute_result"
    },
    {
     "data": {
      "image/png": "[encoded data removed]",
      "text/plain": [
       "<Figure size 640x480 with 1 Axes>"
      ]
     },
     "metadata": {},
     "output_type": "display_data"
    }
   ],
   "source": [
    "plt.hist(med_data['z_score_initial_days'])"
   ]
  },
  {
   "cell_type": "code",
   "execution_count": 91,
   "id": "754c52e2",
   "metadata": {
    "scrolled": true
   },
   "outputs": [
    {
     "data": {
      "image/png": "[encoded data removed]",
      "text/plain": [
       "<Figure size 640x480 with 1 Axes>"
      ]
     },
     "metadata": {},
     "output_type": "display_data"
    }
   ],
   "source": [
    "boxplot=sns.boxplot(x='Initial_days',data=med_data)"
   ]
  },
  {
   "cell_type": "code",
   "execution_count": 92,
   "id": "a900da87",
   "metadata": {},
   "outputs": [
    {
     "data": {
      "text/plain": [
       "<bound method NDFrame.head of       Additional_charges  z_score_charges\n",
       "0           17939.403420         0.765005\n",
       "1           17612.998120         0.715114\n",
       "2           17505.192460         0.698635\n",
       "3           12993.437350         0.009004\n",
       "4            3716.525786        -1.408991\n",
       "...                  ...              ...\n",
       "9995         8927.642189        -0.612461\n",
       "9996        28507.147340         2.380307\n",
       "9997        15281.214660         0.358696\n",
       "9998         7781.678412        -0.787624\n",
       "9999        11643.189930        -0.197384\n",
       "\n",
       "[10000 rows x 2 columns]>"
      ]
     },
     "execution_count": 92,
     "metadata": {},
     "output_type": "execute_result"
    }
   ],
   "source": [
    "# Examining outliers for Additional_charges variable\n",
    "# Outliers are present and will be retained\n",
    "med_data['z_score_charges']=stats.zscore(med_data['Additional_charges'])\n",
    "med_data[['Additional_charges','z_score_charges']].head"
   ]
  },
  {
   "cell_type": "code",
   "execution_count": 93,
   "id": "00eecd9b",
   "metadata": {},
   "outputs": [
    {
     "data": {
      "text/plain": [
       "(array([1120., 1818., 1891., 1856., 1032.,  497.,  494.,  507.,  487.,\n",
       "         298.]),\n",
       " array([-1.49929906, -1.0798674 , -0.66043573, -0.24100407,  0.1784276 ,\n",
       "         0.59785926,  1.01729092,  1.43672259,  1.85615425,  2.27558592,\n",
       "         2.69501758]),\n",
       " <BarContainer object of 10 artists>)"
      ]
     },
     "execution_count": 93,
     "metadata": {},
     "output_type": "execute_result"
    },
    {
     "data": {
      "image/png": "[encoded data removed]",
      "text/plain": [
       "<Figure size 640x480 with 1 Axes>"
      ]
     },
     "metadata": {},
     "output_type": "display_data"
    }
   ],
   "source": [
    "plt.hist(med_data['z_score_charges'])"
   ]
  },
  {
   "cell_type": "code",
   "execution_count": 94,
   "id": "b91ec6f9",
   "metadata": {
    "scrolled": true
   },
   "outputs": [
    {
     "data": {
      "image/png": "[encoded data removed]",
      "text/plain": [
       "<Figure size 640x480 with 1 Axes>"
      ]
     },
     "metadata": {},
     "output_type": "display_data"
    }
   ],
   "source": [
    "boxplot=sns.boxplot(x='Additional_charges',data=med_data)"
   ]
  },
  {
   "cell_type": "markdown",
   "id": "a309df8e",
   "metadata": {},
   "source": [
    "# Performing PCA"
   ]
  },
  {
   "cell_type": "code",
   "execution_count": 95,
   "id": "86a913ce",
   "metadata": {},
   "outputs": [],
   "source": [
    "med_pca = med_data[['Population', 'Children', 'Age', 'Income', 'VitD_levels', 'Doc_visits', 'Full_meals_eaten', 'VitD_supp', 'Initial_days', 'Additional_charges']]"
   ]
  },
  {
   "cell_type": "code",
   "execution_count": 96,
   "id": "f69a2d67",
   "metadata": {},
   "outputs": [],
   "source": [
    "med_pca_normalized = (med_pca-med_pca.mean())/med_pca.std()"
   ]
  },
  {
   "cell_type": "code",
   "execution_count": 97,
   "id": "80c123c5",
   "metadata": {},
   "outputs": [],
   "source": [
    "pca = PCA(n_components=med_pca.shape[1])"
   ]
  },
  {
   "cell_type": "code",
   "execution_count": 98,
   "id": "1a676334",
   "metadata": {},
   "outputs": [
    {
     "data": {
      "text/html": [
       "<style>#sk-container-id-1 {color: black;background-color: white;}#sk-container-id-1 pre{padding: 0;}#sk-container-id-1 div.sk-toggleable {background-color: white;}#sk-container-id-1 label.sk-toggleable__label {cursor: pointer;display: block;width: 100%;margin-bottom: 0;padding: 0.3em;box-sizing: border-box;text-align: center;}#sk-container-id-1 label.sk-toggleable__label-arrow:before {content: \"▸\";float: left;margin-right: 0.25em;color: #696969;}#sk-container-id-1 label.sk-toggleable__label-arrow:hover:before {color: black;}#sk-container-id-1 div.sk-estimator:hover label.sk-toggleable__label-arrow:before {color: black;}#sk-container-id-1 div.sk-toggleable__content {max-height: 0;max-width: 0;overflow: hidden;text-align: left;background-color: #f0f8ff;}#sk-container-id-1 div.sk-toggleable__content pre {margin: 0.2em;color: black;border-radius: 0.25em;background-color: #f0f8ff;}#sk-container-id-1 input.sk-toggleable__control:checked~div.sk-toggleable__content {max-height: 200px;max-width: 100%;overflow: auto;}#sk-container-id-1 input.sk-toggleable__control:checked~label.sk-toggleable__label-arrow:before {content: \"▾\";}#sk-container-id-1 div.sk-estimator input.sk-toggleable__control:checked~label.sk-toggleable__label {background-color: #d4ebff;}#sk-container-id-1 div.sk-label input.sk-toggleable__control:checked~label.sk-toggleable__label {background-color: #d4ebff;}#sk-container-id-1 input.sk-hidden--visually {border: 0;clip: rect(1px 1px 1px 1px);clip: rect(1px, 1px, 1px, 1px);height: 1px;margin: -1px;overflow: hidden;padding: 0;position: absolute;width: 1px;}#sk-container-id-1 div.sk-estimator {font-family: monospace;background-color: #f0f8ff;border: 1px dotted black;border-radius: 0.25em;box-sizing: border-box;margin-bottom: 0.5em;}#sk-container-id-1 div.sk-estimator:hover {background-color: #d4ebff;}#sk-container-id-1 div.sk-parallel-item::after {content: \"\";width: 100%;border-bottom: 1px solid gray;flex-grow: 1;}#sk-container-id-1 div.sk-label:hover label.sk-toggleable__label {background-color: #d4ebff;}#sk-container-id-1 div.sk-serial::before {content: \"\";position: absolute;border-left: 1px solid gray;box-sizing: border-box;top: 0;bottom: 0;left: 50%;z-index: 0;}#sk-container-id-1 div.sk-serial {display: flex;flex-direction: column;align-items: center;background-color: white;padding-right: 0.2em;padding-left: 0.2em;position: relative;}#sk-container-id-1 div.sk-item {position: relative;z-index: 1;}#sk-container-id-1 div.sk-parallel {display: flex;align-items: stretch;justify-content: center;background-color: white;position: relative;}#sk-container-id-1 div.sk-item::before, #sk-container-id-1 div.sk-parallel-item::before {content: \"\";position: absolute;border-left: 1px solid gray;box-sizing: border-box;top: 0;bottom: 0;left: 50%;z-index: -1;}#sk-container-id-1 div.sk-parallel-item {display: flex;flex-direction: column;z-index: 1;position: relative;background-color: white;}#sk-container-id-1 div.sk-parallel-item:first-child::after {align-self: flex-end;width: 50%;}#sk-container-id-1 div.sk-parallel-item:last-child::after {align-self: flex-start;width: 50%;}#sk-container-id-1 div.sk-parallel-item:only-child::after {width: 0;}#sk-container-id-1 div.sk-dashed-wrapped {border: 1px dashed gray;margin: 0 0.4em 0.5em 0.4em;box-sizing: border-box;padding-bottom: 0.4em;background-color: white;}#sk-container-id-1 div.sk-label label {font-family: monospace;font-weight: bold;display: inline-block;line-height: 1.2em;}#sk-container-id-1 div.sk-label-container {text-align: center;}#sk-container-id-1 div.sk-container {/* jupyter's `normalize.less` sets `[hidden] { display: none; }` but bootstrap.min.css set `[hidden] { display: none !important; }` so we also need the `!important` here to be able to override the default hidden behavior on the sphinx rendered scikit-learn.org. See: https://github.com/scikit-learn/scikit-learn/issues/21755 */display: inline-block !important;position: relative;}#sk-container-id-1 div.sk-text-repr-fallback {display: none;}</style><div id=\"sk-container-id-1\" class=\"sk-top-container\"><div class=\"sk-text-repr-fallback\"><pre>PCA(n_components=10)</pre><b>In a Jupyter environment, please rerun this cell to show the HTML representation or trust the notebook. <br />On GitHub, the HTML representation is unable to render, please try loading this page with nbviewer.org.</b></div><div class=\"sk-container\" hidden><div class=\"sk-item\"><div class=\"sk-estimator sk-toggleable\"><input class=\"sk-toggleable__control sk-hidden--visually\" id=\"sk-estimator-id-1\" type=\"checkbox\" checked><label for=\"sk-estimator-id-1\" class=\"sk-toggleable__label sk-toggleable__label-arrow\">PCA</label><div class=\"sk-toggleable__content\"><pre>PCA(n_components=10)</pre></div></div></div></div></div>"
      ],
      "text/plain": [
       "PCA(n_components=10)"
      ]
     },
     "execution_count": 98,
     "metadata": {},
     "output_type": "execute_result"
    }
   ],
   "source": [
    "pca.fit(med_pca_normalized)"
   ]
  },
  {
   "cell_type": "code",
   "execution_count": 99,
   "id": "77051098",
   "metadata": {},
   "outputs": [],
   "source": [
    "med_pca2 = pd.DataFrame(pca.transform(med_pca_normalized),columns=['PC1', 'PC2', 'PC3', 'PC4', 'PC5', 'PC6', 'PC7', 'PC8', 'PC9', 'PC10'])"
   ]
  },
  {
   "cell_type": "code",
   "execution_count": 100,
   "id": "cd5c0067",
   "metadata": {},
   "outputs": [
    {
     "data": {
      "text/html": [
       "<div>\n",
       "<style scoped>\n",
       "    .dataframe tbody tr th:only-of-type {\n",
       "        vertical-align: middle;\n",
       "    }\n",
       "\n",
       "    .dataframe tbody tr th {\n",
       "        vertical-align: top;\n",
       "    }\n",
       "\n",
       "    .dataframe thead th {\n",
       "        text-align: right;\n",
       "    }\n",
       "</style>\n",
       "<table border=\"1\" class=\"dataframe\">\n",
       "  <thead>\n",
       "    <tr style=\"text-align: right;\">\n",
       "      <th></th>\n",
       "      <th>PC1</th>\n",
       "      <th>PC2</th>\n",
       "      <th>PC3</th>\n",
       "      <th>PC4</th>\n",
       "      <th>PC5</th>\n",
       "      <th>PC6</th>\n",
       "      <th>PC7</th>\n",
       "      <th>PC8</th>\n",
       "      <th>PC9</th>\n",
       "      <th>PC10</th>\n",
       "    </tr>\n",
       "  </thead>\n",
       "  <tbody>\n",
       "    <tr>\n",
       "      <th>Population</th>\n",
       "      <td>-0.021978</td>\n",
       "      <td>0.493564</td>\n",
       "      <td>0.040128</td>\n",
       "      <td>-0.189645</td>\n",
       "      <td>-0.027483</td>\n",
       "      <td>0.540261</td>\n",
       "      <td>0.302677</td>\n",
       "      <td>0.283016</td>\n",
       "      <td>0.503846</td>\n",
       "      <td>-0.011195</td>\n",
       "    </tr>\n",
       "    <tr>\n",
       "      <th>Children</th>\n",
       "      <td>0.010953</td>\n",
       "      <td>0.090238</td>\n",
       "      <td>0.015947</td>\n",
       "      <td>-0.438647</td>\n",
       "      <td>0.832287</td>\n",
       "      <td>0.109107</td>\n",
       "      <td>-0.247519</td>\n",
       "      <td>-0.159293</td>\n",
       "      <td>-0.087934</td>\n",
       "      <td>-0.009677</td>\n",
       "    </tr>\n",
       "    <tr>\n",
       "      <th>Age</th>\n",
       "      <td>0.705697</td>\n",
       "      <td>0.012460</td>\n",
       "      <td>-0.020764</td>\n",
       "      <td>-0.023898</td>\n",
       "      <td>-0.026846</td>\n",
       "      <td>-0.008225</td>\n",
       "      <td>0.001184</td>\n",
       "      <td>0.019288</td>\n",
       "      <td>-0.008660</td>\n",
       "      <td>-0.706822</td>\n",
       "    </tr>\n",
       "    <tr>\n",
       "      <th>Income</th>\n",
       "      <td>-0.006626</td>\n",
       "      <td>0.100040</td>\n",
       "      <td>0.640854</td>\n",
       "      <td>-0.076414</td>\n",
       "      <td>0.166791</td>\n",
       "      <td>-0.450780</td>\n",
       "      <td>0.328259</td>\n",
       "      <td>0.462771</td>\n",
       "      <td>-0.142932</td>\n",
       "      <td>-0.007255</td>\n",
       "    </tr>\n",
       "    <tr>\n",
       "      <th>VitD_levels</th>\n",
       "      <td>0.039149</td>\n",
       "      <td>0.023692</td>\n",
       "      <td>0.142290</td>\n",
       "      <td>0.749761</td>\n",
       "      <td>0.318396</td>\n",
       "      <td>0.435943</td>\n",
       "      <td>-0.088271</td>\n",
       "      <td>0.212296</td>\n",
       "      <td>-0.266894</td>\n",
       "      <td>0.001724</td>\n",
       "    </tr>\n",
       "    <tr>\n",
       "      <th>Doc_visits</th>\n",
       "      <td>0.011542</td>\n",
       "      <td>0.122116</td>\n",
       "      <td>0.644647</td>\n",
       "      <td>-0.134422</td>\n",
       "      <td>-0.289445</td>\n",
       "      <td>0.327908</td>\n",
       "      <td>-0.067050</td>\n",
       "      <td>-0.544777</td>\n",
       "      <td>-0.242291</td>\n",
       "      <td>-0.005547</td>\n",
       "    </tr>\n",
       "    <tr>\n",
       "      <th>Full_meals_eaten</th>\n",
       "      <td>0.033956</td>\n",
       "      <td>-0.512235</td>\n",
       "      <td>0.126591</td>\n",
       "      <td>0.165812</td>\n",
       "      <td>0.273130</td>\n",
       "      <td>0.039335</td>\n",
       "      <td>0.563712</td>\n",
       "      <td>-0.373520</td>\n",
       "      <td>0.399273</td>\n",
       "      <td>-0.009425</td>\n",
       "    </tr>\n",
       "    <tr>\n",
       "      <th>VitD_supp</th>\n",
       "      <td>0.017850</td>\n",
       "      <td>0.464538</td>\n",
       "      <td>0.140967</td>\n",
       "      <td>0.384045</td>\n",
       "      <td>0.106306</td>\n",
       "      <td>-0.418935</td>\n",
       "      <td>-0.301132</td>\n",
       "      <td>-0.313253</td>\n",
       "      <td>0.490795</td>\n",
       "      <td>-0.005344</td>\n",
       "    </tr>\n",
       "    <tr>\n",
       "      <th>Initial_days</th>\n",
       "      <td>0.003115</td>\n",
       "      <td>0.494304</td>\n",
       "      <td>-0.339552</td>\n",
       "      <td>0.094353</td>\n",
       "      <td>0.082091</td>\n",
       "      <td>-0.135344</td>\n",
       "      <td>0.564469</td>\n",
       "      <td>-0.316342</td>\n",
       "      <td>-0.432996</td>\n",
       "      <td>0.014684</td>\n",
       "    </tr>\n",
       "    <tr>\n",
       "      <th>Additional_charges</th>\n",
       "      <td>0.705832</td>\n",
       "      <td>0.009852</td>\n",
       "      <td>0.001188</td>\n",
       "      <td>-0.033415</td>\n",
       "      <td>-0.014481</td>\n",
       "      <td>-0.001122</td>\n",
       "      <td>-0.000839</td>\n",
       "      <td>0.020765</td>\n",
       "      <td>0.013426</td>\n",
       "      <td>0.706940</td>\n",
       "    </tr>\n",
       "  </tbody>\n",
       "</table>\n",
       "</div>"
      ],
      "text/plain": [
       "                         PC1       PC2       PC3       PC4       PC5  \\\n",
       "Population         -0.021978  0.493564  0.040128 -0.189645 -0.027483   \n",
       "Children            0.010953  0.090238  0.015947 -0.438647  0.832287   \n",
       "Age                 0.705697  0.012460 -0.020764 -0.023898 -0.026846   \n",
       "Income             -0.006626  0.100040  0.640854 -0.076414  0.166791   \n",
       "VitD_levels         0.039149  0.023692  0.142290  0.749761  0.318396   \n",
       "Doc_visits          0.011542  0.122116  0.644647 -0.134422 -0.289445   \n",
       "Full_meals_eaten    0.033956 -0.512235  0.126591  0.165812  0.273130   \n",
       "VitD_supp           0.017850  0.464538  0.140967  0.384045  0.106306   \n",
       "Initial_days        0.003115  0.494304 -0.339552  0.094353  0.082091   \n",
       "Additional_charges  0.705832  0.009852  0.001188 -0.033415 -0.014481   \n",
       "\n",
       "                         PC6       PC7       PC8       PC9      PC10  \n",
       "Population          0.540261  0.302677  0.283016  0.503846 -0.011195  \n",
       "Children            0.109107 -0.247519 -0.159293 -0.087934 -0.009677  \n",
       "Age                -0.008225  0.001184  0.019288 -0.008660 -0.706822  \n",
       "Income             -0.450780  0.328259  0.462771 -0.142932 -0.007255  \n",
       "VitD_levels         0.435943 -0.088271  0.212296 -0.266894  0.001724  \n",
       "Doc_visits          0.327908 -0.067050 -0.544777 -0.242291 -0.005547  \n",
       "Full_meals_eaten    0.039335  0.563712 -0.373520  0.399273 -0.009425  \n",
       "VitD_supp          -0.418935 -0.301132 -0.313253  0.490795 -0.005344  \n",
       "Initial_days       -0.135344  0.564469 -0.316342 -0.432996  0.014684  \n",
       "Additional_charges -0.001122 -0.000839  0.020765  0.013426  0.706940  "
      ]
     },
     "execution_count": 100,
     "metadata": {},
     "output_type": "execute_result"
    }
   ],
   "source": [
    "loadings = pd.DataFrame(pca.components_.T,\n",
    "columns = ['PC1', 'PC2', 'PC3', 'PC4', 'PC5', 'PC6', 'PC7', 'PC8', 'PC9', 'PC10'],\n",
    "index = med_pca_normalized.columns)\n",
    "loadings"
   ]
  },
  {
   "cell_type": "code",
   "execution_count": 101,
   "id": "b9328fa7",
   "metadata": {},
   "outputs": [],
   "source": [
    "cov_matrix = np.dot(med_pca_normalized.T, med_pca_normalized) / med_pca.shape[0]\n",
    "eigenvalues = [np.dot(eigenvector.T, np.dot(cov_matrix, eigenvector)) for eigenvector in pca.components_]"
   ]
  },
  {
   "cell_type": "code",
   "execution_count": 102,
   "id": "0d125af6",
   "metadata": {
    "scrolled": true
   },
   "outputs": [
    {
     "data": {
      "image/png": "[encoded data removed]",
      "text/plain": [
       "<Figure size 640x480 with 1 Axes>"
      ]
     },
     "metadata": {},
     "output_type": "display_data"
    }
   ],
   "source": [
    "plt.plot(eigenvalues)\n",
    "plt.xlabel('number of components')\n",
    "plt.ylabel('eigenvalues')\n",
    "plt.axhline(y=1, color=\"red\")\n",
    "plt.show()"
   ]
  },
  {
   "cell_type": "code",
   "execution_count": 103,
   "id": "8c3f77d6",
   "metadata": {},
   "outputs": [
    {
     "name": "stdout",
     "output_type": "stream",
     "text": [
      "<class 'pandas.core.frame.DataFrame'>\n",
      "RangeIndex: 10000 entries, 0 to 9999\n",
      "Data columns (total 75 columns):\n",
      " #   Column                      Non-Null Count  Dtype  \n",
      "---  ------                      --------------  -----  \n",
      " 0   Unnamed: 0                  10000 non-null  int64  \n",
      " 1   CaseOrder                   10000 non-null  int64  \n",
      " 2   Customer_id                 10000 non-null  object \n",
      " 3   Interaction                 10000 non-null  object \n",
      " 4   UID                         10000 non-null  object \n",
      " 5   City                        10000 non-null  object \n",
      " 6   State                       10000 non-null  object \n",
      " 7   County                      10000 non-null  object \n",
      " 8   Zip                         10000 non-null  int64  \n",
      " 9   Lat                         10000 non-null  float64\n",
      " 10  Lng                         10000 non-null  float64\n",
      " 11  Population                  10000 non-null  int64  \n",
      " 12  Area                        10000 non-null  object \n",
      " 13  Timezone                    10000 non-null  object \n",
      " 14  Job                         10000 non-null  object \n",
      " 15  Children                    10000 non-null  float64\n",
      " 16  Age                         10000 non-null  float64\n",
      " 17  Education                   10000 non-null  object \n",
      " 18  Employment                  10000 non-null  object \n",
      " 19  Income                      10000 non-null  float64\n",
      " 20  Marital                     10000 non-null  object \n",
      " 21  Gender                      10000 non-null  object \n",
      " 22  ReAdmis                     10000 non-null  object \n",
      " 23  VitD_levels                 10000 non-null  float64\n",
      " 24  Doc_visits                  10000 non-null  int64  \n",
      " 25  Full_meals_eaten            10000 non-null  int64  \n",
      " 26  VitD_supp                   10000 non-null  int64  \n",
      " 27  Soft_drink                  10000 non-null  object \n",
      " 28  Initial_admin               10000 non-null  object \n",
      " 29  HighBlood                   10000 non-null  object \n",
      " 30  Stroke                      10000 non-null  object \n",
      " 31  Complication_risk           10000 non-null  object \n",
      " 32  Overweight                  10000 non-null  float64\n",
      " 33  Arthritis                   10000 non-null  object \n",
      " 34  Diabetes                    10000 non-null  object \n",
      " 35  Hyperlipidemia              10000 non-null  object \n",
      " 36  BackPain                    10000 non-null  object \n",
      " 37  Anxiety                     10000 non-null  float64\n",
      " 38  Allergic_rhinitis           10000 non-null  object \n",
      " 39  Reflux_esophagitis          10000 non-null  object \n",
      " 40  Asthma                      10000 non-null  object \n",
      " 41  Services                    10000 non-null  object \n",
      " 42  Initial_days                10000 non-null  float64\n",
      " 43  TotalCharge                 10000 non-null  float64\n",
      " 44  Additional_charges          10000 non-null  float64\n",
      " 45  Item1                       10000 non-null  int64  \n",
      " 46  Item2                       10000 non-null  int64  \n",
      " 47  Item3                       10000 non-null  int64  \n",
      " 48  Item4                       10000 non-null  int64  \n",
      " 49  Item5                       10000 non-null  int64  \n",
      " 50  Item6                       10000 non-null  int64  \n",
      " 51  Item7                       10000 non-null  int64  \n",
      " 52  Item8                       10000 non-null  int64  \n",
      " 53  ReAdmis_numeric             10000 non-null  int64  \n",
      " 54  Soft_drink_numeric          10000 non-null  float64\n",
      " 55  HighBlood_numeric           10000 non-null  int64  \n",
      " 56  Stroke_numeric              10000 non-null  int64  \n",
      " 57  Complication_risk_numeric   10000 non-null  int64  \n",
      " 58  Arthritis_numeric           10000 non-null  int64  \n",
      " 59  Diabetes_numeric            10000 non-null  int64  \n",
      " 60  Hyperlipidemia_numeric      10000 non-null  int64  \n",
      " 61  BackPain_numeric            10000 non-null  int64  \n",
      " 62  Allergic_rhinitis_numeric   10000 non-null  int64  \n",
      " 63  Reflux_esophagitis_numeric  10000 non-null  int64  \n",
      " 64  Asthma_numeric              10000 non-null  int64  \n",
      " 65  z_score_population          10000 non-null  float64\n",
      " 66  z_score_children            10000 non-null  float64\n",
      " 67  z_score_age                 10000 non-null  float64\n",
      " 68  z_score_income              10000 non-null  float64\n",
      " 69  z_score_vitd                10000 non-null  float64\n",
      " 70  z_score_doc_visits          10000 non-null  float64\n",
      " 71  z_score_meals               10000 non-null  float64\n",
      " 72  z_score_vitd_supp           10000 non-null  float64\n",
      " 73  z_score_initial_days        10000 non-null  float64\n",
      " 74  z_score_charges             10000 non-null  float64\n",
      "dtypes: float64(22), int64(26), object(27)\n",
      "memory usage: 5.7+ MB\n"
     ]
    }
   ],
   "source": [
    "med_data.info()"
   ]
  },
  {
   "cell_type": "code",
   "execution_count": 104,
   "id": "5e556316",
   "metadata": {
    "scrolled": true
   },
   "outputs": [],
   "source": [
    " med_data.to_csv('/Users/astro/Downloads/medical_cleaned_data.csv') "
   ]
  }
 ],
 "metadata": {
  "kernelspec": {
   "display_name": "Python 3 (ipykernel)",
   "language": "python",
   "name": "python3"
  },
  "language_info": {
   "codemirror_mode": {
    "name": "ipython",
    "version": 3
   },
   "file_extension": ".py",
   "mimetype": "text/x-python",
   "name": "python",
   "nbconvert_exporter": "python",
   "pygments_lexer": "ipython3",
   "version": "3.10.9"
  }
 },
 "nbformat": 4,
 "nbformat_minor": 5
}
