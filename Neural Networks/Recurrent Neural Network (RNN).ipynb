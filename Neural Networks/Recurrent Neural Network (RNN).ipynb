{
 "cells": [
  {
   "cell_type": "markdown",
   "id": "cb2c513d",
   "metadata": {},
   "source": [
    "# Sentiment Analysis Using Recurrent Neural Network (RNN)\n",
    "## Jessica Schmidt"
   ]
  },
  {
   "cell_type": "markdown",
   "id": "2e02ee2e",
   "metadata": {},
   "source": [
    "# PART I: Research Question\n",
    "\n",
    "## A1. Research Question\n",
    "Can we use a Recurrent Neural Network (RNN) to find the Sentiment Index among the reviews from Amazon, IMDB, and Yelp? \n",
    "\n",
    "Sentiment Index is essentially an economic measure of how a consumer feels about economic conditions - either optimistic or pessimistic - in this case, the market is Amazon, IMDB, and Yelp. (Source: Investopedia)\n",
    "\n",
    "## A2. Objectives and Goals of the Analysis\n",
    "The goal of this analysis is to create a RNN model that can find the Sentiment Index for the reviews from Amazon, IMDB, and Yelp.\n",
    "\n",
    "## A3. Type of Neural Network for Classification Task (source: D213 Webinars)\n",
    "For this task, we will use a Recurrent Neural Network (RNN). An RNN \"is a class of neural networks that uses connections between neurons to form a directed cycle to create feedback.\" (D213 webinar.) It is frequently used for text classification and natural language processing. Additionally, RNN is useful because \"unlike other networks, RNN can remember previous computation and reuse it for the next element.\" (D213) It works by "
   ]
  },
  {
   "cell_type": "markdown",
   "id": "e2ab6110",
   "metadata": {},
   "source": [
    "# PART II: Data Preparation\n",
    "\n",
    "## B1. Exploratory Data Analysis"
   ]
  },
  {
   "cell_type": "code",
   "execution_count": 1,
   "id": "1f271237",
   "metadata": {},
   "outputs": [],
   "source": [
    "# Disabling warnings\n",
    "import warnings\n",
    "warnings.filterwarnings(\"ignore\")"
   ]
  },
  {
   "cell_type": "code",
   "execution_count": 2,
   "id": "4b03b7fe",
   "metadata": {},
   "outputs": [
    {
     "name": "stderr",
     "output_type": "stream",
     "text": [
      "[nltk_data] Downloading package omw-1.4 to\n",
      "[nltk_data]     C:\\Users\\astro\\AppData\\Roaming\\nltk_data...\n",
      "[nltk_data]   Package omw-1.4 is already up-to-date!\n",
      "[nltk_data] Downloading package stopwords to\n",
      "[nltk_data]     C:\\Users\\astro\\AppData\\Roaming\\nltk_data...\n",
      "[nltk_data]   Package stopwords is already up-to-date!\n",
      "[nltk_data] Downloading package wordnet to\n",
      "[nltk_data]     C:\\Users\\astro\\AppData\\Roaming\\nltk_data...\n",
      "[nltk_data]   Package wordnet is already up-to-date!\n"
     ]
    }
   ],
   "source": [
    "# Importing relevant packages\n",
    "import pandas as pd\n",
    "import numpy as np\n",
    "import matplotlib.pyplot as plt\n",
    "import seaborn as sns\n",
    "import tensorflow as tf\n",
    "from tensorflow.keras.preprocessing.text import Tokenizer\n",
    "from tensorflow.keras.preprocessing.sequence import pad_sequences\n",
    "from tensorflow.keras.models import Sequential\n",
    "from tensorflow.keras.layers import LSTM, Dense, Dropout, SpatialDropout1D\n",
    "from tensorflow.keras.layers import Embedding\n",
    "import unicodedata\n",
    "import re\n",
    "import nltk\n",
    "nltk.download('omw-1.4')\n",
    "nltk.download('stopwords')\n",
    "nltk.download('wordnet')\n",
    "from nltk.corpus import stopwords\n",
    "from collections import Counter\n",
    "from sklearn.model_selection import train_test_split"
   ]
  },
  {
   "cell_type": "code",
   "execution_count": 3,
   "id": "a3926d21",
   "metadata": {},
   "outputs": [
    {
     "name": "stdout",
     "output_type": "stream",
     "text": [
      "2.10.0\n"
     ]
    }
   ],
   "source": [
    "# Confirming version of TensorFlow\n",
    "print(tf.version.VERSION)"
   ]
  },
  {
   "cell_type": "code",
   "execution_count": 4,
   "id": "e6b16f1d",
   "metadata": {},
   "outputs": [],
   "source": [
    "# Importing data for dataframe from Amazon, IMDB, and Yelp\n",
    "colnames = ['text', 'label']\n",
    "amazon = pd.read_csv('/Users/astro/Downloads/amazon_cells_labelled.txt', sep='\\t', names=colnames, header=None)\n",
    "imdb = pd.read_csv('/Users/astro/Downloads/imdb_labelled.txt', sep='\\t', names=colnames, header=None)\n",
    "yelp = pd.read_csv('/Users/astro/Downloads/yelp_labelled.txt', sep='\\t', names=colnames, header=None)\n",
    "df = pd.concat([amazon, imdb, yelp])\n",
    "df = df.reset_index(drop=True)"
   ]
  },
  {
   "cell_type": "code",
   "execution_count": 5,
   "id": "9a6a95ea",
   "metadata": {
    "scrolled": true
   },
   "outputs": [
    {
     "name": "stdout",
     "output_type": "stream",
     "text": [
      "<class 'pandas.core.frame.DataFrame'>\n",
      "RangeIndex: 2748 entries, 0 to 2747\n",
      "Data columns (total 2 columns):\n",
      " #   Column  Non-Null Count  Dtype \n",
      "---  ------  --------------  ----- \n",
      " 0   text    2748 non-null   object\n",
      " 1   label   2748 non-null   int64 \n",
      "dtypes: int64(1), object(1)\n",
      "memory usage: 43.1+ KB\n"
     ]
    }
   ],
   "source": [
    "# Examining dataframe\n",
    "df.info()"
   ]
  },
  {
   "cell_type": "code",
   "execution_count": 6,
   "id": "4dd84b1a",
   "metadata": {},
   "outputs": [
    {
     "data": {
      "text/plain": [
       "(2748, 2)"
      ]
     },
     "execution_count": 6,
     "metadata": {},
     "output_type": "execute_result"
    }
   ],
   "source": [
    "df.shape"
   ]
  },
  {
   "cell_type": "code",
   "execution_count": 7,
   "id": "0f382426",
   "metadata": {
    "scrolled": true
   },
   "outputs": [
    {
     "data": {
      "text/html": [
       "<div>\n",
       "<style scoped>\n",
       "    .dataframe tbody tr th:only-of-type {\n",
       "        vertical-align: middle;\n",
       "    }\n",
       "\n",
       "    .dataframe tbody tr th {\n",
       "        vertical-align: top;\n",
       "    }\n",
       "\n",
       "    .dataframe thead th {\n",
       "        text-align: right;\n",
       "    }\n",
       "</style>\n",
       "<table border=\"1\" class=\"dataframe\">\n",
       "  <thead>\n",
       "    <tr style=\"text-align: right;\">\n",
       "      <th></th>\n",
       "      <th>text</th>\n",
       "      <th>label</th>\n",
       "    </tr>\n",
       "  </thead>\n",
       "  <tbody>\n",
       "    <tr>\n",
       "      <th>0</th>\n",
       "      <td>So there is no way for me to plug it in here i...</td>\n",
       "      <td>0</td>\n",
       "    </tr>\n",
       "    <tr>\n",
       "      <th>1</th>\n",
       "      <td>Good case, Excellent value.</td>\n",
       "      <td>1</td>\n",
       "    </tr>\n",
       "    <tr>\n",
       "      <th>2</th>\n",
       "      <td>Great for the jawbone.</td>\n",
       "      <td>1</td>\n",
       "    </tr>\n",
       "    <tr>\n",
       "      <th>3</th>\n",
       "      <td>Tied to charger for conversations lasting more...</td>\n",
       "      <td>0</td>\n",
       "    </tr>\n",
       "    <tr>\n",
       "      <th>4</th>\n",
       "      <td>The mic is great.</td>\n",
       "      <td>1</td>\n",
       "    </tr>\n",
       "  </tbody>\n",
       "</table>\n",
       "</div>"
      ],
      "text/plain": [
       "                                                text  label\n",
       "0  So there is no way for me to plug it in here i...      0\n",
       "1                        Good case, Excellent value.      1\n",
       "2                             Great for the jawbone.      1\n",
       "3  Tied to charger for conversations lasting more...      0\n",
       "4                                  The mic is great.      1"
      ]
     },
     "execution_count": 7,
     "metadata": {},
     "output_type": "execute_result"
    }
   ],
   "source": [
    "df.head()"
   ]
  },
  {
   "cell_type": "markdown",
   "id": "8ec2e49c",
   "metadata": {},
   "source": [
    "## 1. Presence of unusual characters"
   ]
  },
  {
   "cell_type": "code",
   "execution_count": 8,
   "id": "33f8354a",
   "metadata": {},
   "outputs": [],
   "source": [
    "def isEnglish(c):\n",
    "    try:\n",
    "        c.encode(encoding='utf-8').decode('ascii')\n",
    "    except UnicodeDecodeError:\n",
    "        return False\n",
    "    else:\n",
    "        return True"
   ]
  },
  {
   "cell_type": "code",
   "execution_count": 9,
   "id": "1123773d",
   "metadata": {},
   "outputs": [
    {
     "data": {
      "text/plain": [
       "['\\x96', 'é', '\\x85', '\\x96', 'é', 'é', 'å', '\\x96', '\\x97', '\\x96']"
      ]
     },
     "execution_count": 9,
     "metadata": {},
     "output_type": "execute_result"
    }
   ],
   "source": [
    "non_english = []\n",
    "for index, row in df.iterrows():\n",
    "    for l in list(row['text']):\n",
    "        for c in l:\n",
    "            if isEnglish(c) == True:\n",
    "                pass\n",
    "            else:\n",
    "                non_english.append(c)\n",
    "non_english[:10]"
   ]
  },
  {
   "cell_type": "code",
   "execution_count": 10,
   "id": "b51d6ec0",
   "metadata": {},
   "outputs": [
    {
     "data": {
      "text/html": [
       "<div>\n",
       "<style scoped>\n",
       "    .dataframe tbody tr th:only-of-type {\n",
       "        vertical-align: middle;\n",
       "    }\n",
       "\n",
       "    .dataframe tbody tr th {\n",
       "        vertical-align: top;\n",
       "    }\n",
       "\n",
       "    .dataframe thead th {\n",
       "        text-align: right;\n",
       "    }\n",
       "</style>\n",
       "<table border=\"1\" class=\"dataframe\">\n",
       "  <thead>\n",
       "    <tr style=\"text-align: right;\">\n",
       "      <th></th>\n",
       "      <th>text</th>\n",
       "      <th>label</th>\n",
       "    </tr>\n",
       "  </thead>\n",
       "  <tbody>\n",
       "    <tr>\n",
       "      <th>0</th>\n",
       "      <td>So there is no way for me to plug it in here i...</td>\n",
       "      <td>0</td>\n",
       "    </tr>\n",
       "    <tr>\n",
       "      <th>1</th>\n",
       "      <td>Good case, Excellent value.</td>\n",
       "      <td>1</td>\n",
       "    </tr>\n",
       "    <tr>\n",
       "      <th>2</th>\n",
       "      <td>Great for the jawbone.</td>\n",
       "      <td>1</td>\n",
       "    </tr>\n",
       "    <tr>\n",
       "      <th>3</th>\n",
       "      <td>Tied to charger for conversations lasting more...</td>\n",
       "      <td>0</td>\n",
       "    </tr>\n",
       "    <tr>\n",
       "      <th>4</th>\n",
       "      <td>The mic is great.</td>\n",
       "      <td>1</td>\n",
       "    </tr>\n",
       "    <tr>\n",
       "      <th>...</th>\n",
       "      <td>...</td>\n",
       "      <td>...</td>\n",
       "    </tr>\n",
       "    <tr>\n",
       "      <th>95</th>\n",
       "      <td>Will order from them again!</td>\n",
       "      <td>1</td>\n",
       "    </tr>\n",
       "    <tr>\n",
       "      <th>96</th>\n",
       "      <td>If you plan to use this in a car forget about it.</td>\n",
       "      <td>0</td>\n",
       "    </tr>\n",
       "    <tr>\n",
       "      <th>97</th>\n",
       "      <td>I found this product to be waaay too big.</td>\n",
       "      <td>0</td>\n",
       "    </tr>\n",
       "    <tr>\n",
       "      <th>98</th>\n",
       "      <td>Best I've found so far .... I've tried 2 other...</td>\n",
       "      <td>1</td>\n",
       "    </tr>\n",
       "    <tr>\n",
       "      <th>99</th>\n",
       "      <td>I'm very disappointed with my decision.</td>\n",
       "      <td>0</td>\n",
       "    </tr>\n",
       "  </tbody>\n",
       "</table>\n",
       "<p>100 rows × 2 columns</p>\n",
       "</div>"
      ],
      "text/plain": [
       "                                                 text  label\n",
       "0   So there is no way for me to plug it in here i...      0\n",
       "1                         Good case, Excellent value.      1\n",
       "2                              Great for the jawbone.      1\n",
       "3   Tied to charger for conversations lasting more...      0\n",
       "4                                   The mic is great.      1\n",
       "..                                                ...    ...\n",
       "95                        Will order from them again!      1\n",
       "96  If you plan to use this in a car forget about it.      0\n",
       "97          I found this product to be waaay too big.      0\n",
       "98  Best I've found so far .... I've tried 2 other...      1\n",
       "99            I'm very disappointed with my decision.      0\n",
       "\n",
       "[100 rows x 2 columns]"
      ]
     },
     "execution_count": 10,
     "metadata": {},
     "output_type": "execute_result"
    }
   ],
   "source": [
    "df.head(100)"
   ]
  },
  {
   "cell_type": "code",
   "execution_count": 11,
   "id": "0be19af4",
   "metadata": {},
   "outputs": [],
   "source": [
    "ADDITIONAL_STOPWORDS = []\n",
    "\n",
    "def clean_sentence(sentence):\n",
    "    wnl = nltk.stem.WordNetLemmatizer()\n",
    "    stopwords = nltk.corpus.stopwords.words('english') + ADDITIONAL_STOPWORDS\n",
    "    sentence = (unicodedata.normalize('NFKD', sentence)\n",
    "        .encode('ascii', 'ignore')\n",
    "        .decode('utf-8', 'ignore')\n",
    "        .lower())\n",
    "    words = re.sub(r'[^\\w\\s]', '', sentence).split()\n",
    "    word_list = [wnl.lemmatize(word) for word in words if word not in stopwords]\n",
    "    return word_list"
   ]
  },
  {
   "cell_type": "code",
   "execution_count": 12,
   "id": "e91dfe31",
   "metadata": {},
   "outputs": [],
   "source": [
    "def get_words(df, column):\n",
    "    \"\"\"\n",
    "    Takes a dataframe and a column and returns a list of\n",
    "    cleaned words that is returned by clean().\n",
    "\n",
    "            Parameters:\n",
    "                    df (dataframe): A pandas dataframe\n",
    "                    column (series): A pandas series\n",
    "\n",
    "            Returns:\n",
    "                    word_list (list): A list of cleaned words\n",
    "    \"\"\"\n",
    "    return clean_sentence(''.join(str(df[column].tolist())))"
   ]
  },
  {
   "cell_type": "code",
   "execution_count": 13,
   "id": "31a11361",
   "metadata": {},
   "outputs": [],
   "source": [
    "df_sat =  df.loc[df['label'] == 1]\n",
    "df_dsat =  df.loc[df['label'] == 0]"
   ]
  },
  {
   "cell_type": "code",
   "execution_count": 14,
   "id": "f93245d1",
   "metadata": {},
   "outputs": [],
   "source": [
    "all_words = get_words(df, 'text')\n",
    "sat_words = get_words(df_sat, 'text')\n",
    "dsat_words = get_words(df_dsat, 'text')"
   ]
  },
  {
   "cell_type": "code",
   "execution_count": 15,
   "id": "a0384fff",
   "metadata": {},
   "outputs": [],
   "source": [
    "sat_freq = pd.Series(sat_words).value_counts()\n",
    "dsat_freq = pd.Series(dsat_words).value_counts()\n",
    "all_freq = pd.Series(all_words).value_counts()\n",
    "\n",
    "word_counts = (pd.concat([all_freq, sat_freq, dsat_freq], axis=1, sort=True)\n",
    "                .set_axis(['all', 'sat', 'dsat'], axis=1)\n",
    "                .fillna(0)\n",
    "                .apply(lambda s: s.astype(int)))"
   ]
  },
  {
   "cell_type": "markdown",
   "id": "2dfcc631",
   "metadata": {},
   "source": [
    "## 2. Vocabulary size"
   ]
  },
  {
   "cell_type": "code",
   "execution_count": 16,
   "id": "5cbd9041",
   "metadata": {
    "scrolled": true
   },
   "outputs": [
    {
     "name": "stdout",
     "output_type": "stream",
     "text": [
      "Satisfied reviews: 3102\n",
      "Dissatisfied reviews: 3197\n",
      "All reviews: 4967\n"
     ]
    }
   ],
   "source": [
    "print('Satisfied reviews: ' + str(len(sat_freq)))\n",
    "print('Dissatisfied reviews: ' + str(len(dsat_freq)))\n",
    "print('All reviews: ' + str(len(all_freq)))"
   ]
  },
  {
   "cell_type": "code",
   "execution_count": 17,
   "id": "f7b20ac0",
   "metadata": {},
   "outputs": [
    {
     "data": {
      "text/plain": [
       "4967"
      ]
     },
     "execution_count": 17,
     "metadata": {},
     "output_type": "execute_result"
    }
   ],
   "source": [
    "vocab_size = len(all_freq)\n",
    "vocab_size"
   ]
  },
  {
   "cell_type": "markdown",
   "id": "f8985392",
   "metadata": {},
   "source": [
    "## 3 and 4. Proposed word embedding length and statistical justification for the chosen maximum sequence length"
   ]
  },
  {
   "cell_type": "code",
   "execution_count": 18,
   "id": "387fcbf1",
   "metadata": {
    "scrolled": true
   },
   "outputs": [
    {
     "data": {
      "text/html": [
       "<div>\n",
       "<style scoped>\n",
       "    .dataframe tbody tr th:only-of-type {\n",
       "        vertical-align: middle;\n",
       "    }\n",
       "\n",
       "    .dataframe tbody tr th {\n",
       "        vertical-align: top;\n",
       "    }\n",
       "\n",
       "    .dataframe thead th {\n",
       "        text-align: right;\n",
       "    }\n",
       "</style>\n",
       "<table border=\"1\" class=\"dataframe\">\n",
       "  <thead>\n",
       "    <tr style=\"text-align: right;\">\n",
       "      <th></th>\n",
       "      <th>all</th>\n",
       "      <th>sat</th>\n",
       "      <th>dsat</th>\n",
       "    </tr>\n",
       "  </thead>\n",
       "  <tbody>\n",
       "    <tr>\n",
       "      <th>good</th>\n",
       "      <td>226</td>\n",
       "      <td>170</td>\n",
       "      <td>56</td>\n",
       "    </tr>\n",
       "    <tr>\n",
       "      <th>movie</th>\n",
       "      <td>208</td>\n",
       "      <td>101</td>\n",
       "      <td>107</td>\n",
       "    </tr>\n",
       "    <tr>\n",
       "      <th>great</th>\n",
       "      <td>205</td>\n",
       "      <td>188</td>\n",
       "      <td>17</td>\n",
       "    </tr>\n",
       "    <tr>\n",
       "      <th>film</th>\n",
       "      <td>182</td>\n",
       "      <td>96</td>\n",
       "      <td>86</td>\n",
       "    </tr>\n",
       "    <tr>\n",
       "      <th>phone</th>\n",
       "      <td>173</td>\n",
       "      <td>91</td>\n",
       "      <td>82</td>\n",
       "    </tr>\n",
       "    <tr>\n",
       "      <th>one</th>\n",
       "      <td>145</td>\n",
       "      <td>69</td>\n",
       "      <td>76</td>\n",
       "    </tr>\n",
       "    <tr>\n",
       "      <th>time</th>\n",
       "      <td>133</td>\n",
       "      <td>57</td>\n",
       "      <td>76</td>\n",
       "    </tr>\n",
       "    <tr>\n",
       "      <th>like</th>\n",
       "      <td>127</td>\n",
       "      <td>61</td>\n",
       "      <td>66</td>\n",
       "    </tr>\n",
       "    <tr>\n",
       "      <th>food</th>\n",
       "      <td>125</td>\n",
       "      <td>60</td>\n",
       "      <td>65</td>\n",
       "    </tr>\n",
       "    <tr>\n",
       "      <th>place</th>\n",
       "      <td>123</td>\n",
       "      <td>62</td>\n",
       "      <td>61</td>\n",
       "    </tr>\n",
       "    <tr>\n",
       "      <th>work</th>\n",
       "      <td>107</td>\n",
       "      <td>64</td>\n",
       "      <td>43</td>\n",
       "    </tr>\n",
       "    <tr>\n",
       "      <th>service</th>\n",
       "      <td>107</td>\n",
       "      <td>54</td>\n",
       "      <td>53</td>\n",
       "    </tr>\n",
       "    <tr>\n",
       "      <th>really</th>\n",
       "      <td>102</td>\n",
       "      <td>60</td>\n",
       "      <td>42</td>\n",
       "    </tr>\n",
       "    <tr>\n",
       "      <th>bad</th>\n",
       "      <td>98</td>\n",
       "      <td>7</td>\n",
       "      <td>91</td>\n",
       "    </tr>\n",
       "    <tr>\n",
       "      <th>well</th>\n",
       "      <td>87</td>\n",
       "      <td>58</td>\n",
       "      <td>29</td>\n",
       "    </tr>\n",
       "    <tr>\n",
       "      <th>dont</th>\n",
       "      <td>85</td>\n",
       "      <td>19</td>\n",
       "      <td>66</td>\n",
       "    </tr>\n",
       "    <tr>\n",
       "      <th>would</th>\n",
       "      <td>84</td>\n",
       "      <td>28</td>\n",
       "      <td>56</td>\n",
       "    </tr>\n",
       "    <tr>\n",
       "      <th>best</th>\n",
       "      <td>78</td>\n",
       "      <td>59</td>\n",
       "      <td>19</td>\n",
       "    </tr>\n",
       "    <tr>\n",
       "      <th>ever</th>\n",
       "      <td>76</td>\n",
       "      <td>28</td>\n",
       "      <td>48</td>\n",
       "    </tr>\n",
       "    <tr>\n",
       "      <th>even</th>\n",
       "      <td>75</td>\n",
       "      <td>28</td>\n",
       "      <td>47</td>\n",
       "    </tr>\n",
       "  </tbody>\n",
       "</table>\n",
       "</div>"
      ],
      "text/plain": [
       "         all  sat  dsat\n",
       "good     226  170    56\n",
       "movie    208  101   107\n",
       "great    205  188    17\n",
       "film     182   96    86\n",
       "phone    173   91    82\n",
       "one      145   69    76\n",
       "time     133   57    76\n",
       "like     127   61    66\n",
       "food     125   60    65\n",
       "place    123   62    61\n",
       "work     107   64    43\n",
       "service  107   54    53\n",
       "really   102   60    42\n",
       "bad       98    7    91\n",
       "well      87   58    29\n",
       "dont      85   19    66\n",
       "would     84   28    56\n",
       "best      78   59    19\n",
       "ever      76   28    48\n",
       "even      75   28    47"
      ]
     },
     "execution_count": 18,
     "metadata": {},
     "output_type": "execute_result"
    }
   ],
   "source": [
    "# Determining most common words\n",
    "word_counts.sort_values(by='all', ascending=False).head(20)"
   ]
  },
  {
   "cell_type": "code",
   "execution_count": 19,
   "id": "d33dc7e3",
   "metadata": {
    "scrolled": false
   },
   "outputs": [
    {
     "data": {
      "text/html": [
       "<div>\n",
       "<style scoped>\n",
       "    .dataframe tbody tr th:only-of-type {\n",
       "        vertical-align: middle;\n",
       "    }\n",
       "\n",
       "    .dataframe tbody tr th {\n",
       "        vertical-align: top;\n",
       "    }\n",
       "\n",
       "    .dataframe thead th {\n",
       "        text-align: right;\n",
       "    }\n",
       "</style>\n",
       "<table border=\"1\" class=\"dataframe\">\n",
       "  <thead>\n",
       "    <tr style=\"text-align: right;\">\n",
       "      <th></th>\n",
       "      <th>all</th>\n",
       "      <th>sat</th>\n",
       "      <th>dsat</th>\n",
       "    </tr>\n",
       "  </thead>\n",
       "  <tbody>\n",
       "    <tr>\n",
       "      <th>priced</th>\n",
       "      <td>7</td>\n",
       "      <td>7</td>\n",
       "      <td>0</td>\n",
       "    </tr>\n",
       "    <tr>\n",
       "      <th>town</th>\n",
       "      <td>7</td>\n",
       "      <td>7</td>\n",
       "      <td>0</td>\n",
       "    </tr>\n",
       "    <tr>\n",
       "      <th>joy</th>\n",
       "      <td>7</td>\n",
       "      <td>7</td>\n",
       "      <td>0</td>\n",
       "    </tr>\n",
       "    <tr>\n",
       "      <th>superb</th>\n",
       "      <td>7</td>\n",
       "      <td>7</td>\n",
       "      <td>0</td>\n",
       "    </tr>\n",
       "    <tr>\n",
       "      <th>brilliant</th>\n",
       "      <td>7</td>\n",
       "      <td>7</td>\n",
       "      <td>0</td>\n",
       "    </tr>\n",
       "    <tr>\n",
       "      <th>role</th>\n",
       "      <td>9</td>\n",
       "      <td>9</td>\n",
       "      <td>0</td>\n",
       "    </tr>\n",
       "    <tr>\n",
       "      <th>pleased</th>\n",
       "      <td>10</td>\n",
       "      <td>10</td>\n",
       "      <td>0</td>\n",
       "    </tr>\n",
       "    <tr>\n",
       "      <th>interesting</th>\n",
       "      <td>15</td>\n",
       "      <td>15</td>\n",
       "      <td>0</td>\n",
       "    </tr>\n",
       "    <tr>\n",
       "      <th>fantastic</th>\n",
       "      <td>18</td>\n",
       "      <td>18</td>\n",
       "      <td>0</td>\n",
       "    </tr>\n",
       "    <tr>\n",
       "      <th>delicious</th>\n",
       "      <td>23</td>\n",
       "      <td>23</td>\n",
       "      <td>0</td>\n",
       "    </tr>\n",
       "    <tr>\n",
       "      <th>unit</th>\n",
       "      <td>9</td>\n",
       "      <td>0</td>\n",
       "      <td>9</td>\n",
       "    </tr>\n",
       "    <tr>\n",
       "      <th>wasted</th>\n",
       "      <td>10</td>\n",
       "      <td>0</td>\n",
       "      <td>10</td>\n",
       "    </tr>\n",
       "    <tr>\n",
       "      <th>waited</th>\n",
       "      <td>10</td>\n",
       "      <td>0</td>\n",
       "      <td>10</td>\n",
       "    </tr>\n",
       "    <tr>\n",
       "      <th>unfortunately</th>\n",
       "      <td>11</td>\n",
       "      <td>0</td>\n",
       "      <td>11</td>\n",
       "    </tr>\n",
       "    <tr>\n",
       "      <th>mediocre</th>\n",
       "      <td>11</td>\n",
       "      <td>0</td>\n",
       "      <td>11</td>\n",
       "    </tr>\n",
       "    <tr>\n",
       "      <th>disappointment</th>\n",
       "      <td>11</td>\n",
       "      <td>0</td>\n",
       "      <td>11</td>\n",
       "    </tr>\n",
       "    <tr>\n",
       "      <th>sucked</th>\n",
       "      <td>11</td>\n",
       "      <td>0</td>\n",
       "      <td>11</td>\n",
       "    </tr>\n",
       "    <tr>\n",
       "      <th>disappointing</th>\n",
       "      <td>12</td>\n",
       "      <td>0</td>\n",
       "      <td>12</td>\n",
       "    </tr>\n",
       "    <tr>\n",
       "      <th>bland</th>\n",
       "      <td>13</td>\n",
       "      <td>0</td>\n",
       "      <td>13</td>\n",
       "    </tr>\n",
       "    <tr>\n",
       "      <th>poor</th>\n",
       "      <td>27</td>\n",
       "      <td>0</td>\n",
       "      <td>27</td>\n",
       "    </tr>\n",
       "  </tbody>\n",
       "</table>\n",
       "</div>"
      ],
      "text/plain": [
       "                all  sat  dsat\n",
       "priced            7    7     0\n",
       "town              7    7     0\n",
       "joy               7    7     0\n",
       "superb            7    7     0\n",
       "brilliant         7    7     0\n",
       "role              9    9     0\n",
       "pleased          10   10     0\n",
       "interesting      15   15     0\n",
       "fantastic        18   18     0\n",
       "delicious        23   23     0\n",
       "unit              9    0     9\n",
       "wasted           10    0    10\n",
       "waited           10    0    10\n",
       "unfortunately    11    0    11\n",
       "mediocre         11    0    11\n",
       "disappointment   11    0    11\n",
       "sucked           11    0    11\n",
       "disappointing    12    0    12\n",
       "bland            13    0    13\n",
       "poor             27    0    27"
      ]
     },
     "execution_count": 19,
     "metadata": {},
     "output_type": "execute_result"
    }
   ],
   "source": [
    "# Checking for satisfied and dissatisfied review keywords\n",
    "pd.concat([word_counts[word_counts.dsat == 0].sort_values(by='sat').tail(10),\n",
    "          word_counts[word_counts.sat == 0].sort_values(by='dsat').tail(10)])"
   ]
  },
  {
   "cell_type": "code",
   "execution_count": 20,
   "id": "4e25933d",
   "metadata": {},
   "outputs": [],
   "source": [
    "def get_unigrams(words):\n",
    "    \"\"\"\n",
    "    Takes in a list of words and returns a series of\n",
    "    unigrams with value counts.\n",
    "    \"\"\"\n",
    "    return  pd.Series(words).value_counts()\n",
    "\n",
    "def get_bigrams(words):\n",
    "    \"\"\"\n",
    "    Takes in a list of words and returns a series of\n",
    "    bigrams with value counts.\n",
    "    \"\"\"\n",
    "    return (pd.Series(nltk.ngrams(words, 2)).value_counts())[:20]\n",
    "\n",
    "def get_trigrams(words):\n",
    "    \"\"\"\n",
    "    Takes in a list of words and returns a series of\n",
    "    trigrams with value counts.\n",
    "    \"\"\"\n",
    "    return (pd.Series(nltk.ngrams(words, 3)).value_counts())[:20]\n",
    "\n",
    "def get_qualgrams(words):\n",
    "    \"\"\"\n",
    "    Takes in a list of words and returns a series of\n",
    "    qualgrams with value counts.\n",
    "    \"\"\"\n",
    "    return (pd.Series(nltk.ngrams(words, 4)).value_counts())[:20]\n",
    "\n",
    "def get_ngrams(df,column):\n",
    "    \"\"\"\n",
    "    Takes in a dataframe with column name and generates a\n",
    "    dataframe of unigrams, bigrams, trigrams, and qualgrams.\n",
    "    \"\"\"\n",
    "    return get_bigrams(get_words(df,column)).to_frame().reset_index().rename(columns={'index':'bigram','0':'count'}), \\\n",
    "           get_trigrams(get_words(df,column)).to_frame().reset_index().rename(columns={'index':'trigram','0':'count'}), \\\n",
    "           get_qualgrams(get_words(df,column)).to_frame().reset_index().rename(columns={'index':'qualgram','0':'count'})"
   ]
  },
  {
   "cell_type": "code",
   "execution_count": 21,
   "id": "6ba26504",
   "metadata": {},
   "outputs": [],
   "source": [
    "def viz_bigrams(df, column, title):\n",
    "    \"\"\"\n",
    "    Takes in a dataframe, target column name, and specified title\n",
    "    for the bar chart visualization of bigrams.\n",
    "    \"\"\"\n",
    "    get_bigrams(get_words(df,column)).sort_values().plot.barh(color='blue', width=.9, figsize=(12, 8))\n",
    "\n",
    "    plt.title(title)\n",
    "    plt.ylabel('Bigram')\n",
    "    plt.xlabel('# Occurances')\n",
    "\n",
    "def viz_trigrams(df, column, title):\n",
    "    \"\"\"\n",
    "    Takes in a dataframe, target column name, and specified title\n",
    "    for the bar chart visualization of trigrams.\n",
    "    \"\"\"\n",
    "    get_trigrams(get_words(df,column)).sort_values().plot.barh(color='blue', width=.9, figsize=(12, 8))\n",
    "\n",
    "    plt.title(title)\n",
    "    plt.ylabel('Trigram')\n",
    "    plt.xlabel('# Occurances')\n",
    "    \n",
    "def viz_qualgrams(df, column, title):\n",
    "    \"\"\"\n",
    "    Takes in a dataframe, target column name, and specified title\n",
    "    for the bar chart visualization of qualgrams.\n",
    "    \"\"\"\n",
    "    get_bigrams(get_words(df,column)).sort_values().plot.barh(color='blue', width=.9, figsize=(12, 8))\n",
    "\n",
    "    plt.title(title)\n",
    "    plt.ylabel('Qualgram')\n",
    "    plt.xlabel('# Occurances')"
   ]
  },
  {
   "cell_type": "code",
   "execution_count": 22,
   "id": "d508d4a4",
   "metadata": {},
   "outputs": [
    {
     "data": {
      "image/png": "[encoded data removed]",
      "text/plain": [
       "<Figure size 1200x800 with 1 Axes>"
      ]
     },
     "metadata": {},
     "output_type": "display_data"
    }
   ],
   "source": [
    "viz_bigrams(df, 'text', 'Popular Bigrams')"
   ]
  },
  {
   "cell_type": "code",
   "execution_count": 23,
   "id": "ebbdc04e",
   "metadata": {
    "scrolled": true
   },
   "outputs": [
    {
     "name": "stdout",
     "output_type": "stream",
     "text": [
      "Max sequence embedding: 8\n"
     ]
    }
   ],
   "source": [
    "max_sequence_embedding = int(round(np.sqrt(np.sqrt(vocab_size)), 0))\n",
    "print('Max sequence embedding: ' + str(max_sequence_embedding))"
   ]
  },
  {
   "cell_type": "code",
   "execution_count": 24,
   "id": "1c515f9f",
   "metadata": {},
   "outputs": [
    {
     "name": "stdout",
     "output_type": "stream",
     "text": [
      "Sequence length: 789\n"
     ]
    }
   ],
   "source": [
    "list_of_lens = []\n",
    "for index, row in df.iterrows():\n",
    "    list_of_lens.append(len(clean_sentence(row['text'])))\n",
    "sequence_length = max(list_of_lens)\n",
    "print('Sequence length: ' + str(sequence_length))"
   ]
  },
  {
   "cell_type": "code",
   "execution_count": 25,
   "id": "82deb470",
   "metadata": {},
   "outputs": [
    {
     "name": "stdout",
     "output_type": "stream",
     "text": [
      "Mean sequence length: 7\n"
     ]
    }
   ],
   "source": [
    "sequence_length = max(list_of_lens)\n",
    "mean_sequence_length = int(round(np.mean(list_of_lens), 0))\n",
    "print('Mean sequence length: ' + str(mean_sequence_length))"
   ]
  },
  {
   "cell_type": "markdown",
   "id": "0f4ed036",
   "metadata": {},
   "source": [
    "## B2. Goals of the Tokenization Process (source: D213 Webinars)\n",
    "The goal of the tokenization process for this analysis includes normalization, removing stopwords, encoding/decoding, removing special characters, fixing capitalization, and lemmatization. Essentially, we want to take the sentences from the reviews and make them into an array of characters, or a token, to then be run through the model."
   ]
  },
  {
   "cell_type": "code",
   "execution_count": 26,
   "id": "897bd4df",
   "metadata": {},
   "outputs": [],
   "source": [
    "df['cleaned_text'] = df[\"text\"].apply(clean_sentence)"
   ]
  },
  {
   "cell_type": "code",
   "execution_count": 27,
   "id": "7a7eb510",
   "metadata": {},
   "outputs": [
    {
     "data": {
      "text/html": [
       "<div>\n",
       "<style scoped>\n",
       "    .dataframe tbody tr th:only-of-type {\n",
       "        vertical-align: middle;\n",
       "    }\n",
       "\n",
       "    .dataframe tbody tr th {\n",
       "        vertical-align: top;\n",
       "    }\n",
       "\n",
       "    .dataframe thead th {\n",
       "        text-align: right;\n",
       "    }\n",
       "</style>\n",
       "<table border=\"1\" class=\"dataframe\">\n",
       "  <thead>\n",
       "    <tr style=\"text-align: right;\">\n",
       "      <th></th>\n",
       "      <th>text</th>\n",
       "      <th>label</th>\n",
       "      <th>cleaned_text</th>\n",
       "    </tr>\n",
       "  </thead>\n",
       "  <tbody>\n",
       "    <tr>\n",
       "      <th>0</th>\n",
       "      <td>So there is no way for me to plug it in here i...</td>\n",
       "      <td>0</td>\n",
       "      <td>[way, plug, u, unless, go, converter]</td>\n",
       "    </tr>\n",
       "    <tr>\n",
       "      <th>1</th>\n",
       "      <td>Good case, Excellent value.</td>\n",
       "      <td>1</td>\n",
       "      <td>[good, case, excellent, value]</td>\n",
       "    </tr>\n",
       "    <tr>\n",
       "      <th>2</th>\n",
       "      <td>Great for the jawbone.</td>\n",
       "      <td>1</td>\n",
       "      <td>[great, jawbone]</td>\n",
       "    </tr>\n",
       "    <tr>\n",
       "      <th>3</th>\n",
       "      <td>Tied to charger for conversations lasting more...</td>\n",
       "      <td>0</td>\n",
       "      <td>[tied, charger, conversation, lasting, 45, min...</td>\n",
       "    </tr>\n",
       "    <tr>\n",
       "      <th>4</th>\n",
       "      <td>The mic is great.</td>\n",
       "      <td>1</td>\n",
       "      <td>[mic, great]</td>\n",
       "    </tr>\n",
       "  </tbody>\n",
       "</table>\n",
       "</div>"
      ],
      "text/plain": [
       "                                                text  label  \\\n",
       "0  So there is no way for me to plug it in here i...      0   \n",
       "1                        Good case, Excellent value.      1   \n",
       "2                             Great for the jawbone.      1   \n",
       "3  Tied to charger for conversations lasting more...      0   \n",
       "4                                  The mic is great.      1   \n",
       "\n",
       "                                        cleaned_text  \n",
       "0              [way, plug, u, unless, go, converter]  \n",
       "1                     [good, case, excellent, value]  \n",
       "2                                   [great, jawbone]  \n",
       "3  [tied, charger, conversation, lasting, 45, min...  \n",
       "4                                       [mic, great]  "
      ]
     },
     "execution_count": 27,
     "metadata": {},
     "output_type": "execute_result"
    }
   ],
   "source": [
    "df.head()"
   ]
  },
  {
   "cell_type": "code",
   "execution_count": 28,
   "id": "15b2a50b",
   "metadata": {},
   "outputs": [],
   "source": [
    "def listToString(s):\n",
    "    string = \" \"\n",
    "    return (string.join(s))"
   ]
  },
  {
   "cell_type": "code",
   "execution_count": 29,
   "id": "4c03a084",
   "metadata": {},
   "outputs": [],
   "source": [
    "df['highly_cleaned_text'] = df['cleaned_text'].apply(listToString)"
   ]
  },
  {
   "cell_type": "code",
   "execution_count": 30,
   "id": "d9a4cd41",
   "metadata": {},
   "outputs": [
    {
     "data": {
      "text/html": [
       "<div>\n",
       "<style scoped>\n",
       "    .dataframe tbody tr th:only-of-type {\n",
       "        vertical-align: middle;\n",
       "    }\n",
       "\n",
       "    .dataframe tbody tr th {\n",
       "        vertical-align: top;\n",
       "    }\n",
       "\n",
       "    .dataframe thead th {\n",
       "        text-align: right;\n",
       "    }\n",
       "</style>\n",
       "<table border=\"1\" class=\"dataframe\">\n",
       "  <thead>\n",
       "    <tr style=\"text-align: right;\">\n",
       "      <th></th>\n",
       "      <th>text</th>\n",
       "      <th>label</th>\n",
       "      <th>cleaned_text</th>\n",
       "      <th>highly_cleaned_text</th>\n",
       "    </tr>\n",
       "  </thead>\n",
       "  <tbody>\n",
       "    <tr>\n",
       "      <th>0</th>\n",
       "      <td>So there is no way for me to plug it in here i...</td>\n",
       "      <td>0</td>\n",
       "      <td>[way, plug, u, unless, go, converter]</td>\n",
       "      <td>way plug u unless go converter</td>\n",
       "    </tr>\n",
       "    <tr>\n",
       "      <th>1</th>\n",
       "      <td>Good case, Excellent value.</td>\n",
       "      <td>1</td>\n",
       "      <td>[good, case, excellent, value]</td>\n",
       "      <td>good case excellent value</td>\n",
       "    </tr>\n",
       "    <tr>\n",
       "      <th>2</th>\n",
       "      <td>Great for the jawbone.</td>\n",
       "      <td>1</td>\n",
       "      <td>[great, jawbone]</td>\n",
       "      <td>great jawbone</td>\n",
       "    </tr>\n",
       "    <tr>\n",
       "      <th>3</th>\n",
       "      <td>Tied to charger for conversations lasting more...</td>\n",
       "      <td>0</td>\n",
       "      <td>[tied, charger, conversation, lasting, 45, min...</td>\n",
       "      <td>tied charger conversation lasting 45 minutesma...</td>\n",
       "    </tr>\n",
       "    <tr>\n",
       "      <th>4</th>\n",
       "      <td>The mic is great.</td>\n",
       "      <td>1</td>\n",
       "      <td>[mic, great]</td>\n",
       "      <td>mic great</td>\n",
       "    </tr>\n",
       "  </tbody>\n",
       "</table>\n",
       "</div>"
      ],
      "text/plain": [
       "                                                text  label  \\\n",
       "0  So there is no way for me to plug it in here i...      0   \n",
       "1                        Good case, Excellent value.      1   \n",
       "2                             Great for the jawbone.      1   \n",
       "3  Tied to charger for conversations lasting more...      0   \n",
       "4                                  The mic is great.      1   \n",
       "\n",
       "                                        cleaned_text  \\\n",
       "0              [way, plug, u, unless, go, converter]   \n",
       "1                     [good, case, excellent, value]   \n",
       "2                                   [great, jawbone]   \n",
       "3  [tied, charger, conversation, lasting, 45, min...   \n",
       "4                                       [mic, great]   \n",
       "\n",
       "                                 highly_cleaned_text  \n",
       "0                     way plug u unless go converter  \n",
       "1                          good case excellent value  \n",
       "2                                      great jawbone  \n",
       "3  tied charger conversation lasting 45 minutesma...  \n",
       "4                                          mic great  "
      ]
     },
     "execution_count": 30,
     "metadata": {},
     "output_type": "execute_result"
    }
   ],
   "source": [
    "df.head()"
   ]
  },
  {
   "cell_type": "code",
   "execution_count": 31,
   "id": "9ba4c265",
   "metadata": {},
   "outputs": [],
   "source": [
    "tokenizer = Tokenizer(oov_token=\"<OOV>\")"
   ]
  },
  {
   "cell_type": "code",
   "execution_count": 32,
   "id": "fbb15a78",
   "metadata": {},
   "outputs": [],
   "source": [
    "split = round(len(df)*0.8)\n",
    "train_reviews = df['highly_cleaned_text'][:split]\n",
    "train_label = df['label'][:split]\n",
    "test_reviews = df['highly_cleaned_text'][split:]\n",
    "test_label = df['label'][split:]"
   ]
  },
  {
   "cell_type": "code",
   "execution_count": 33,
   "id": "8ebad52c",
   "metadata": {},
   "outputs": [],
   "source": [
    "training_sentences = []\n",
    "training_labels = []\n",
    "testing_sentences = []\n",
    "testing_labels = []\n",
    "\n",
    "for row in train_reviews:\n",
    "    training_sentences.append(str(row))\n",
    "for row in train_label:\n",
    "    training_labels.append(row)\n",
    "for row in test_reviews:\n",
    "    testing_sentences.append(str(row))\n",
    "for row in test_label:\n",
    "    testing_labels.append(row)"
   ]
  },
  {
   "cell_type": "code",
   "execution_count": 34,
   "id": "c2e623ac",
   "metadata": {},
   "outputs": [],
   "source": [
    "vocab_size = 4967\n",
    "embedding_dim = 8\n",
    "max_length = 78\n",
    "trunc_type = 'post'\n",
    "oov_tok = '<OOV>'\n",
    "padding_type = 'post'"
   ]
  },
  {
   "cell_type": "code",
   "execution_count": 35,
   "id": "58ce3313",
   "metadata": {},
   "outputs": [],
   "source": [
    "tokenizer = Tokenizer(num_words=vocab_size, oov_token=oov_tok)\n",
    "tokenizer.fit_on_texts(training_sentences)\n",
    "word_index = tokenizer.word_index"
   ]
  },
  {
   "cell_type": "markdown",
   "id": "d6f56845",
   "metadata": {},
   "source": [
    "## B3. Padding Process (source: D213 Webinars)\n",
    "The padding process is a necessary part of sentiment analysis in that it allows the RNN model to process sequences of different lengths efficiently. The padding occurs before the sequence."
   ]
  },
  {
   "cell_type": "code",
   "execution_count": 36,
   "id": "ada47a0b",
   "metadata": {},
   "outputs": [],
   "source": [
    "sequences = tokenizer.texts_to_sequences(training_sentences)\n",
    "padded = pad_sequences(sequences,maxlen=max_length, truncating=trunc_type)\n",
    "testing_sentences = tokenizer.texts_to_sequences(testing_sentences)\n",
    "testing_padded = pad_sequences(testing_sentences, maxlen=max_length)"
   ]
  },
  {
   "cell_type": "code",
   "execution_count": 37,
   "id": "d9389011",
   "metadata": {},
   "outputs": [
    {
     "data": {
      "text/plain": [
       "array([[  0,   0,   0,   0,   0,   0,   0,   0,   0,   0,   0,   0,   0,\n",
       "          0,   0,   0,   0,   0,   0,   0,   0,   0,   0,   0,   0,   0,\n",
       "          0,   0,   0,   0,   0,   0,   0,   0,   0,   0,   0,   0,   0,\n",
       "          0,   0,   0,   0,   0,   0,   0,   0,   0,   0,   0,   0,   0,\n",
       "          0,   0,   0,   0,   0,   0,   0,   0,   0,   0,   0,   0,   0,\n",
       "          0,   0,   0,   0,   0,   0,  16,  55,  15, 109,  47,   1, 717]])"
      ]
     },
     "execution_count": 37,
     "metadata": {},
     "output_type": "execute_result"
    }
   ],
   "source": [
    "testing_padded[:1]"
   ]
  },
  {
   "cell_type": "markdown",
   "id": "3bdfa5b2",
   "metadata": {},
   "source": [
    "## B4. Categories of Sentiment (sources: D213 Webinars, Brownlee)\n",
    "For this analysis, we want two types of sentiment for the sentiment index: binary: optimistic (positive) or pessimistic (negative). We will also have a sigmoid activiation function for the final layer."
   ]
  },
  {
   "cell_type": "code",
   "execution_count": 38,
   "id": "1040736b",
   "metadata": {},
   "outputs": [],
   "source": [
    "model = tf.keras.Sequential([\n",
    "    tf.keras.layers.Embedding(vocab_size, embedding_dim, input_length=max_length),\n",
    "    tf.keras.layers.Bidirectional(tf.keras.layers.LSTM(32, dropout=0.2)),\n",
    "    tf.keras.layers.Dense(24,activation='relu'),\n",
    "    tf.keras.layers.Dense(12, activation='relu'),\n",
    "    tf.keras.layers.Dense(1, activation='sigmoid')\n",
    "])"
   ]
  },
  {
   "cell_type": "code",
   "execution_count": 39,
   "id": "7f08807d",
   "metadata": {},
   "outputs": [],
   "source": [
    "model.compile(loss='binary_crossentropy', optimizer='adam', metrics=['accuracy'])"
   ]
  },
  {
   "cell_type": "code",
   "execution_count": 40,
   "id": "158968c2",
   "metadata": {},
   "outputs": [],
   "source": [
    "training_labels_final = np.array(training_labels)\n",
    "testing_labels_final = np.array(testing_labels)"
   ]
  },
  {
   "cell_type": "code",
   "execution_count": 41,
   "id": "f5240782",
   "metadata": {},
   "outputs": [],
   "source": [
    "early_stopping_monitor = tf.keras.callbacks.EarlyStopping(monitor='val_loss', mode=\"min\", patience=2)"
   ]
  },
  {
   "cell_type": "code",
   "execution_count": 42,
   "id": "b3818c3a",
   "metadata": {
    "scrolled": true
   },
   "outputs": [
    {
     "name": "stdout",
     "output_type": "stream",
     "text": [
      "Epoch 1/20\n",
      "69/69 [==============================] - 7s 50ms/step - loss: 0.6922 - accuracy: 0.5159 - val_loss: 0.6923 - val_accuracy: 0.4527\n",
      "Epoch 2/20\n",
      "69/69 [==============================] - 3s 49ms/step - loss: 0.6207 - accuracy: 0.6588 - val_loss: 0.6304 - val_accuracy: 0.6327\n",
      "Epoch 3/20\n",
      "69/69 [==============================] - 3s 50ms/step - loss: 0.3240 - accuracy: 0.8758 - val_loss: 0.4862 - val_accuracy: 0.7964\n",
      "Epoch 4/20\n",
      "69/69 [==============================] - 4s 52ms/step - loss: 0.2008 - accuracy: 0.9231 - val_loss: 0.5886 - val_accuracy: 0.7618\n",
      "Epoch 5/20\n",
      "69/69 [==============================] - 4s 58ms/step - loss: 0.1376 - accuracy: 0.9518 - val_loss: 0.6052 - val_accuracy: 0.7891\n"
     ]
    }
   ],
   "source": [
    "num_epochs = 20\n",
    "history = model.fit(padded, training_labels_final, epochs=num_epochs, callbacks=[early_stopping_monitor], validation_data=(testing_padded, testing_labels_final))"
   ]
  },
  {
   "cell_type": "code",
   "execution_count": 43,
   "id": "cf58ab0d",
   "metadata": {},
   "outputs": [
    {
     "data": {
      "text/plain": [
       "<Figure size 640x480 with 0 Axes>"
      ]
     },
     "execution_count": 43,
     "metadata": {},
     "output_type": "execute_result"
    },
    {
     "data": {
      "image/png": "[encoded data removed]",
      "text/plain": [
       "<Figure size 640x480 with 1 Axes>"
      ]
     },
     "metadata": {},
     "output_type": "display_data"
    },
    {
     "data": {
      "image/png": "[encoded data removed]",
      "text/plain": [
       "<Figure size 640x480 with 1 Axes>"
      ]
     },
     "metadata": {},
     "output_type": "display_data"
    },
    {
     "data": {
      "text/plain": [
       "<Figure size 640x480 with 0 Axes>"
      ]
     },
     "metadata": {},
     "output_type": "display_data"
    }
   ],
   "source": [
    "%matplotlib inline\n",
    "import matplotlib.image as mpimg\n",
    "acc = history.history['accuracy']\n",
    "val_acc = history.history['val_accuracy']\n",
    "loss = history.history['loss']\n",
    "val_loss = history.history['val_loss']\n",
    "epochs=range(len(acc))\n",
    "plt.plot(epochs, acc, 'r', 'Training Accuracy', label=\"Training\")\n",
    "plt.plot(epochs, val_acc, 'b', 'Validation Accuracy', label=\"Validation\")\n",
    "plt.legend([\"Training\", \"Validation\"], fontsize=\"small\", loc=\"lower right\")\n",
    "plt.title('Training and validation accuracy')\n",
    "plt.figure()\n",
    "plt.plot(epochs, loss, 'r', 'Training Loss')\n",
    "plt.plot(epochs, val_loss, 'b', 'Validation Loss')\n",
    "plt.title('Training and validation loss')\n",
    "plt.legend([\"Training\", \"Validation\"], fontsize=\"small\", loc=\"lower right\")\n",
    "plt.figure()"
   ]
  },
  {
   "cell_type": "markdown",
   "id": "cd294300",
   "metadata": {},
   "source": [
    "## B5. Steps to Prepare the Data\n",
    "The steps to prepare the data were to combine all of the Amazon, IMDB, and Yelp reviews into one dataframe, fix the index, stopwords, normalization, removing special characters, lemmatization, tokenization, and creating the test split of the 80-20 industry standard."
   ]
  },
  {
   "cell_type": "markdown",
   "id": "91011372",
   "metadata": {},
   "source": [
    "## B6. Copy of Prepared Dataset\n",
    "Please see the prepared dataset being submitted as part of this PA."
   ]
  },
  {
   "cell_type": "code",
   "execution_count": 44,
   "id": "64915aba",
   "metadata": {},
   "outputs": [],
   "source": [
    "x_training = pd.DataFrame(padded)\n",
    "x_testing = pd.DataFrame(testing_padded)\n",
    "y_training = pd.DataFrame(training_labels)\n",
    "y_testing = pd.DataFrame(testing_labels)"
   ]
  },
  {
   "cell_type": "code",
   "execution_count": 45,
   "id": "d13df632",
   "metadata": {},
   "outputs": [],
   "source": [
    "x_training.to_csv('/Users/astro/Downloads/d213_task2_x_train_clean.csv')\n",
    "x_testing.to_csv('/Users/astro/Downloads/d213_task2_x_test_clean.csv')\n",
    "y_training.to_csv('/Users/astro/Downloads/d213_task2_y_train_clean.csv')\n",
    "y_testing.to_csv('/Users/astro/Downloads/d213_task2_y_test_clean.csv')"
   ]
  },
  {
   "cell_type": "markdown",
   "id": "714d3923",
   "metadata": {},
   "source": [
    "# PART III: Network Architecture"
   ]
  },
  {
   "cell_type": "markdown",
   "id": "ef3332d9",
   "metadata": {},
   "source": [
    "## C1. Output of the Model Summary"
   ]
  },
  {
   "cell_type": "code",
   "execution_count": 46,
   "id": "d3f3cc64",
   "metadata": {},
   "outputs": [
    {
     "name": "stdout",
     "output_type": "stream",
     "text": [
      "Model: \"sequential\"\n",
      "_________________________________________________________________\n",
      " Layer (type)                Output Shape              Param #   \n",
      "=================================================================\n",
      " embedding (Embedding)       (None, 78, 8)             39736     \n",
      "                                                                 \n",
      " bidirectional (Bidirectiona  (None, 64)               10496     \n",
      " l)                                                              \n",
      "                                                                 \n",
      " dense (Dense)               (None, 24)                1560      \n",
      "                                                                 \n",
      " dense_1 (Dense)             (None, 12)                300       \n",
      "                                                                 \n",
      " dense_2 (Dense)             (None, 1)                 13        \n",
      "                                                                 \n",
      "=================================================================\n",
      "Total params: 52,105\n",
      "Trainable params: 52,105\n",
      "Non-trainable params: 0\n",
      "_________________________________________________________________\n"
     ]
    }
   ],
   "source": [
    "model.summary()"
   ]
  },
  {
   "cell_type": "markdown",
   "id": "bd09173f",
   "metadata": {},
   "source": [
    "## C2. Discussion of the Layers\n",
    "As we can see from the Output of the Model Summary above, there are five layers: one embedding type with 39736 parameters, one bidirectional type with 10496 parameters, and three dense types with 1560, 300, and 13 parameters, respectively. We can see that the total parameters are 52105, and the trainable parameters are also 52105."
   ]
  },
  {
   "cell_type": "markdown",
   "id": "7682178e",
   "metadata": {},
   "source": [
    "## C3. Jutification of Hyperparameters\n",
    "\n",
    "1. Activation Functions: As stated, a sigmoid activiation function was used for the last layer because we are looking for a binary classification of the sentiment index (positive or negative). Also, the rest consisted of a ReLU function for ease of implementation using the max function.\n",
    "\n",
    "2. Number of Nodes per Layer: Here, we used the systematic experimentation method to determine the number of nodes per layer (source: Brownlee).\n",
    "\n",
    "3. Loss Function: Here, we utilized the binary crossentropy loss function since, again, our sentiment index output is binary.\n",
    "\n",
    "4. Optimizer: The optimizer used for this model was the adaptive moment estimation, or ADAM, which \"uses a square gradient to scale the learning rate (an approach called adaptive learning rates), and tracks the moving average of the gradient (an approach called momentum). This makes ADAM an algorithm that is adaptive with regards to moments.\" (source: Medium)\n",
    "\n",
    "5. Stopping Criteria: The stopping criteria for this model was value loss critera based on instruction in the D213 webinars because we want to minimize loss for this type of analysis.\n",
    "\n",
    "6. Evaluation Metric: For this model, we used the accuracy evaluation metric also as per the guidance of the D213 webinars and for the ease of understanding."
   ]
  },
  {
   "cell_type": "markdown",
   "id": "1bd6566a",
   "metadata": {},
   "source": [
    "# PART IV: Model Evaluation"
   ]
  },
  {
   "cell_type": "markdown",
   "id": "334e4dae",
   "metadata": {},
   "source": [
    "## D1. Impact of Stopping Criteria\n",
    "The stopping criteria from the value loss criteria hyperparameter caused the model to stop training at epoch 5 instead of the given epoch 20. This can be seen from the output above in part B4, and copied here:\n",
    "\n",
    "Epoch 5/20\n",
    "69/69 [==============================] - 4s 58ms/step - loss: 0.1376 - accuracy: 0.9518 - val_loss: 0.6052 - val_accuracy: 0.7891"
   ]
  },
  {
   "cell_type": "markdown",
   "id": "00f7ff40",
   "metadata": {},
   "source": [
    "## D2. Fitness of the Model\n",
    "There may be some overfitting in this model. However, attempts to reconcile the effects on the accuracy proved fruitless (i.e., adding a dropout layer and changing hyperparameters)."
   ]
  },
  {
   "cell_type": "markdown",
   "id": "d05de68e",
   "metadata": {},
   "source": [
    "## D3. Visualizations of Model's Training Process"
   ]
  },
  {
   "cell_type": "code",
   "execution_count": 47,
   "id": "bb646d95",
   "metadata": {},
   "outputs": [
    {
     "data": {
      "text/plain": [
       "<Figure size 640x480 with 0 Axes>"
      ]
     },
     "execution_count": 47,
     "metadata": {},
     "output_type": "execute_result"
    },
    {
     "data": {
      "image/png": "[encoded data removed]",
      "text/plain": [
       "<Figure size 640x480 with 1 Axes>"
      ]
     },
     "metadata": {},
     "output_type": "display_data"
    },
    {
     "data": {
      "image/png": "[encoded data removed]",
      "text/plain": [
       "<Figure size 640x480 with 1 Axes>"
      ]
     },
     "metadata": {},
     "output_type": "display_data"
    },
    {
     "data": {
      "text/plain": [
       "<Figure size 640x480 with 0 Axes>"
      ]
     },
     "metadata": {},
     "output_type": "display_data"
    }
   ],
   "source": [
    "%matplotlib inline\n",
    "import matplotlib.pyplot as plt\n",
    "import matplotlib.image as mpimg\n",
    "acc = history.history['accuracy']\n",
    "val_acc = history.history['val_accuracy']\n",
    "loss = history.history['loss']\n",
    "val_loss = history.history['val_loss']\n",
    "epochs=range(len(acc))\n",
    "plt.plot(epochs, acc, 'r', 'Training Accuracy', label=\"Training\")\n",
    "plt.plot(epochs, val_acc, 'b', 'Validation Accuracy', label=\"Validation\")\n",
    "plt.legend([\"Training\", \"Validation\"], fontsize=\"small\", loc=\"lower right\")\n",
    "plt.title('Training and validation accuracy')\n",
    "plt.figure()\n",
    "plt.plot(epochs, loss, 'r', 'Training Loss')\n",
    "plt.plot(epochs, val_loss, 'b', 'Validation Loss')\n",
    "plt.title('Training and validation loss')\n",
    "plt.legend([\"Training\", \"Validation\"], fontsize=\"small\", loc=\"lower right\")\n",
    "plt.figure()"
   ]
  },
  {
   "cell_type": "markdown",
   "id": "9a61ec08",
   "metadata": {},
   "source": [
    "## D4. Predictive Accuracy of Trained Network\n",
    "As we can see from above, the model had a predictive accuracy of 95.18% of the trained network."
   ]
  },
  {
   "cell_type": "markdown",
   "id": "779d7957",
   "metadata": {},
   "source": [
    "# PART V: Summary and Recommendations\n",
    "\n",
    "## E. Code Used to Save the Trained Network within the Neural Network\n",
    "Please see the code above.\n",
    "\n",
    "## F. Functionality of Neural Network (w/impact of architecture)\n",
    "Unfortunately, there were some signs of overfitting with this model, but any attempts to fix it ended up making it worse, so it turns out that, despite the overfitting, the most basic version of this model was the best. There was little impact of the architecture given the overfitting.\n",
    "\n",
    "## G. Recommended Course of Action\n",
    "My recommended course of action in relation to the research question of \"Can we use a Recurrent Neural Network (RNN) to find the Sentiment Index among the reviews from Amazon, IMDB, and Yelp?\" for this analysis is to perform the analysis again once more reviews/data is available. I feel that this analysis would likely have turned out better if there was more data for the RNN."
   ]
  }
 ],
 "metadata": {
  "kernelspec": {
   "display_name": "Python 3 (ipykernel)",
   "language": "python",
   "name": "python3"
  },
  "language_info": {
   "codemirror_mode": {
    "name": "ipython",
    "version": 3
   },
   "file_extension": ".py",
   "mimetype": "text/x-python",
   "name": "python",
   "nbconvert_exporter": "python",
   "pygments_lexer": "ipython3",
   "version": "3.10.9"
  }
 },
 "nbformat": 4,
 "nbformat_minor": 5
}
