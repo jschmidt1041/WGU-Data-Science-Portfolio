{
 "cells": [
  {
   "cell_type": "markdown",
   "id": "58d6f05a-2555-4ecf-af2a-29189abe3efd",
   "metadata": {},
   "source": [
    "# Data Mining: Predictive Analysis, Decision Tree\n",
    "## Jessica Schmidt"
   ]
  },
  {
   "cell_type": "markdown",
   "id": "a667a217-8ccc-41b8-866a-aa01cfa84952",
   "metadata": {},
   "source": [
    "# PART I: Research Question\n",
    "## A1. Research Question and Prediction Method\n",
    "Is it possible to predict the incidence of high blood pressure of a patient and identify key contributors using the decision tree method based on the available data?\n",
    "\n",
    "## A2. Goal of the Analysis\n",
    "The primary goal of the analysis is to develop a decision tree machine learning model to help the institution predict the incidence of high blood pressure of its patients."
   ]
  },
  {
   "cell_type": "markdown",
   "id": "2344267b-98da-46dd-b0ae-c103357f2841",
   "metadata": {},
   "source": [
    "# PART II: Method Justification\n",
    "## B1. Explanation of Prediction Method and Expected Outcomes\n",
    "A decision tree is a machine learning algorithm/model that can work with both categorical and numeric data to \"break down the data set into smaller subsets of instances with similar values like a flowchart diagram. Each subset has a leaf node and decision node. Each node represents features, and each branch represents a decision rule (test outcome).\" (Source: Sehra) Decision trees also require less computing and training time, are not sensitive to outliers, and are nonparametric. Therefore, the decision tree will work well with my dataset.\n",
    "\n",
    "For the expected outcomes, there are two or three branches/sub_trees on a decision node, and the terminal leaf node is the end of the algorithm which represents the final decision or outcome. The topmost decision node is called the root node and is the best predictor. (Source: D209 Webinar)\n",
    "\n",
    "## B2. Assumption of the Prediction Method\n",
    "The main assumption of a decision tree prediction method is that \"the data can be split into subsets based on the input variables from the data features\" (source: Medium).\n",
    "\n",
    "## B3. How Each Python Package/Library Supports the Analysis\n",
    "- Pandas is used to import data into dataframe and for data manipulations.\n",
    "- NumPy provides array objects for calculations.\n",
    "- Seaborn and Matplotlib are used for visualizations. Seaborn is used for things like the correlation matrix whereas Matplotlib is used for things like the ROC curve.\n",
    "- SciPy is used for visualizations and bivariate analyses.\n",
    "- Scikit-learn is used for many things: namely, feature selection, splitting data into train and test sets, decision trees, searches over the specified parameter for an estimator, accuracy scores, getting the mean squared error metric, getting the R2, and getting the mean absolute error metric."
   ]
  },
  {
   "cell_type": "code",
   "execution_count": 1,
   "id": "52fd359f-43d4-4165-a896-617d37a4145d",
   "metadata": {},
   "outputs": [],
   "source": [
    "# Importing relevant packages\n",
    "\n",
    "# Standard imports\n",
    "import numpy as np\n",
    "import pandas as pd\n",
    "\n",
    "# Visualization imports\n",
    "import matplotlib.pyplot as plt\n",
    "import seaborn as sns\n",
    "\n",
    "# SciPy imports\n",
    "from scipy import stats\n",
    "\n",
    "# Scikit-Learn imports\n",
    "from sklearn.model_selection import train_test_split\n",
    "from sklearn.tree import DecisionTreeClassifier\n",
    "from sklearn.ensemble import AdaBoostClassifier\n",
    "from sklearn.model_selection import GridSearchCV\n",
    "from sklearn.metrics import confusion_matrix\n",
    "from sklearn.metrics import roc_auc_score\n",
    "from sklearn.metrics import roc_curve\n",
    "from sklearn.metrics import classification_report\n",
    "from sklearn.metrics import accuracy_score \n",
    "from sklearn.metrics import mean_squared_error"
   ]
  },
  {
   "cell_type": "code",
   "execution_count": 2,
   "id": "ab4a9dce-ca42-4195-bce1-02c9b0139c8b",
   "metadata": {},
   "outputs": [
    {
     "name": "stdout",
     "output_type": "stream",
     "text": [
      "<class 'pandas.core.frame.DataFrame'>\n",
      "RangeIndex: 10000 entries, 0 to 9999\n",
      "Data columns (total 50 columns):\n",
      " #   Column              Non-Null Count  Dtype  \n",
      "---  ------              --------------  -----  \n",
      " 0   CaseOrder           10000 non-null  int64  \n",
      " 1   Customer_id         10000 non-null  object \n",
      " 2   Interaction         10000 non-null  object \n",
      " 3   UID                 10000 non-null  object \n",
      " 4   City                10000 non-null  object \n",
      " 5   State               10000 non-null  object \n",
      " 6   County              10000 non-null  object \n",
      " 7   Zip                 10000 non-null  int64  \n",
      " 8   Lat                 10000 non-null  float64\n",
      " 9   Lng                 10000 non-null  float64\n",
      " 10  Population          10000 non-null  int64  \n",
      " 11  Area                10000 non-null  object \n",
      " 12  TimeZone            10000 non-null  object \n",
      " 13  Job                 10000 non-null  object \n",
      " 14  Children            10000 non-null  int64  \n",
      " 15  Age                 10000 non-null  int64  \n",
      " 16  Income              10000 non-null  float64\n",
      " 17  Marital             10000 non-null  object \n",
      " 18  Gender              10000 non-null  object \n",
      " 19  ReAdmis             10000 non-null  object \n",
      " 20  VitD_levels         10000 non-null  float64\n",
      " 21  Doc_visits          10000 non-null  int64  \n",
      " 22  Full_meals_eaten    10000 non-null  int64  \n",
      " 23  vitD_supp           10000 non-null  int64  \n",
      " 24  Soft_drink          10000 non-null  object \n",
      " 25  Initial_admin       10000 non-null  object \n",
      " 26  HighBlood           10000 non-null  object \n",
      " 27  Stroke              10000 non-null  object \n",
      " 28  Complication_risk   10000 non-null  object \n",
      " 29  Overweight          10000 non-null  object \n",
      " 30  Arthritis           10000 non-null  object \n",
      " 31  Diabetes            10000 non-null  object \n",
      " 32  Hyperlipidemia      10000 non-null  object \n",
      " 33  BackPain            10000 non-null  object \n",
      " 34  Anxiety             10000 non-null  object \n",
      " 35  Allergic_rhinitis   10000 non-null  object \n",
      " 36  Reflux_esophagitis  10000 non-null  object \n",
      " 37  Asthma              10000 non-null  object \n",
      " 38  Services            10000 non-null  object \n",
      " 39  Initial_days        10000 non-null  float64\n",
      " 40  TotalCharge         10000 non-null  float64\n",
      " 41  Additional_charges  10000 non-null  float64\n",
      " 42  Item1               10000 non-null  int64  \n",
      " 43  Item2               10000 non-null  int64  \n",
      " 44  Item3               10000 non-null  int64  \n",
      " 45  Item4               10000 non-null  int64  \n",
      " 46  Item5               10000 non-null  int64  \n",
      " 47  Item6               10000 non-null  int64  \n",
      " 48  Item7               10000 non-null  int64  \n",
      " 49  Item8               10000 non-null  int64  \n",
      "dtypes: float64(7), int64(16), object(27)\n",
      "memory usage: 3.8+ MB\n"
     ]
    }
   ],
   "source": [
    "# Import CSV file\n",
    "df = pd.read_csv('/Users/astro/Downloads/medical_clean.csv')\n",
    "\n",
    "# Examine the data\n",
    "df.info()"
   ]
  },
  {
   "cell_type": "code",
   "execution_count": 3,
   "id": "46a650b0-a0a3-4b16-bbb3-2b2570efb168",
   "metadata": {},
   "outputs": [
    {
     "data": {
      "text/html": [
       "<div>\n",
       "<style scoped>\n",
       "    .dataframe tbody tr th:only-of-type {\n",
       "        vertical-align: middle;\n",
       "    }\n",
       "\n",
       "    .dataframe tbody tr th {\n",
       "        vertical-align: top;\n",
       "    }\n",
       "\n",
       "    .dataframe thead th {\n",
       "        text-align: right;\n",
       "    }\n",
       "</style>\n",
       "<table border=\"1\" class=\"dataframe\">\n",
       "  <thead>\n",
       "    <tr style=\"text-align: right;\">\n",
       "      <th></th>\n",
       "      <th>CaseOrder</th>\n",
       "      <th>Customer_id</th>\n",
       "      <th>Interaction</th>\n",
       "      <th>UID</th>\n",
       "      <th>City</th>\n",
       "      <th>State</th>\n",
       "      <th>County</th>\n",
       "      <th>Zip</th>\n",
       "      <th>Lat</th>\n",
       "      <th>Lng</th>\n",
       "      <th>...</th>\n",
       "      <th>TotalCharge</th>\n",
       "      <th>Additional_charges</th>\n",
       "      <th>Item1</th>\n",
       "      <th>Item2</th>\n",
       "      <th>Item3</th>\n",
       "      <th>Item4</th>\n",
       "      <th>Item5</th>\n",
       "      <th>Item6</th>\n",
       "      <th>Item7</th>\n",
       "      <th>Item8</th>\n",
       "    </tr>\n",
       "  </thead>\n",
       "  <tbody>\n",
       "    <tr>\n",
       "      <th>0</th>\n",
       "      <td>1</td>\n",
       "      <td>C412403</td>\n",
       "      <td>8cd49b13-f45a-4b47-a2bd-173ffa932c2f</td>\n",
       "      <td>3a83ddb66e2ae73798bdf1d705dc0932</td>\n",
       "      <td>Eva</td>\n",
       "      <td>AL</td>\n",
       "      <td>Morgan</td>\n",
       "      <td>35621</td>\n",
       "      <td>34.34960</td>\n",
       "      <td>-86.72508</td>\n",
       "      <td>...</td>\n",
       "      <td>3726.702860</td>\n",
       "      <td>17939.403420</td>\n",
       "      <td>3</td>\n",
       "      <td>3</td>\n",
       "      <td>2</td>\n",
       "      <td>2</td>\n",
       "      <td>4</td>\n",
       "      <td>3</td>\n",
       "      <td>3</td>\n",
       "      <td>4</td>\n",
       "    </tr>\n",
       "    <tr>\n",
       "      <th>1</th>\n",
       "      <td>2</td>\n",
       "      <td>Z919181</td>\n",
       "      <td>d2450b70-0337-4406-bdbb-bc1037f1734c</td>\n",
       "      <td>176354c5eef714957d486009feabf195</td>\n",
       "      <td>Marianna</td>\n",
       "      <td>FL</td>\n",
       "      <td>Jackson</td>\n",
       "      <td>32446</td>\n",
       "      <td>30.84513</td>\n",
       "      <td>-85.22907</td>\n",
       "      <td>...</td>\n",
       "      <td>4193.190458</td>\n",
       "      <td>17612.998120</td>\n",
       "      <td>3</td>\n",
       "      <td>4</td>\n",
       "      <td>3</td>\n",
       "      <td>4</td>\n",
       "      <td>4</td>\n",
       "      <td>4</td>\n",
       "      <td>3</td>\n",
       "      <td>3</td>\n",
       "    </tr>\n",
       "    <tr>\n",
       "      <th>2</th>\n",
       "      <td>3</td>\n",
       "      <td>F995323</td>\n",
       "      <td>a2057123-abf5-4a2c-abad-8ffe33512562</td>\n",
       "      <td>e19a0fa00aeda885b8a436757e889bc9</td>\n",
       "      <td>Sioux Falls</td>\n",
       "      <td>SD</td>\n",
       "      <td>Minnehaha</td>\n",
       "      <td>57110</td>\n",
       "      <td>43.54321</td>\n",
       "      <td>-96.63772</td>\n",
       "      <td>...</td>\n",
       "      <td>2434.234222</td>\n",
       "      <td>17505.192460</td>\n",
       "      <td>2</td>\n",
       "      <td>4</td>\n",
       "      <td>4</td>\n",
       "      <td>4</td>\n",
       "      <td>3</td>\n",
       "      <td>4</td>\n",
       "      <td>3</td>\n",
       "      <td>3</td>\n",
       "    </tr>\n",
       "    <tr>\n",
       "      <th>3</th>\n",
       "      <td>4</td>\n",
       "      <td>A879973</td>\n",
       "      <td>1dec528d-eb34-4079-adce-0d7a40e82205</td>\n",
       "      <td>cd17d7b6d152cb6f23957346d11c3f07</td>\n",
       "      <td>New Richland</td>\n",
       "      <td>MN</td>\n",
       "      <td>Waseca</td>\n",
       "      <td>56072</td>\n",
       "      <td>43.89744</td>\n",
       "      <td>-93.51479</td>\n",
       "      <td>...</td>\n",
       "      <td>2127.830423</td>\n",
       "      <td>12993.437350</td>\n",
       "      <td>3</td>\n",
       "      <td>5</td>\n",
       "      <td>5</td>\n",
       "      <td>3</td>\n",
       "      <td>4</td>\n",
       "      <td>5</td>\n",
       "      <td>5</td>\n",
       "      <td>5</td>\n",
       "    </tr>\n",
       "    <tr>\n",
       "      <th>4</th>\n",
       "      <td>5</td>\n",
       "      <td>C544523</td>\n",
       "      <td>5885f56b-d6da-43a3-8760-83583af94266</td>\n",
       "      <td>d2f0425877b10ed6bb381f3e2579424a</td>\n",
       "      <td>West Point</td>\n",
       "      <td>VA</td>\n",
       "      <td>King William</td>\n",
       "      <td>23181</td>\n",
       "      <td>37.59894</td>\n",
       "      <td>-76.88958</td>\n",
       "      <td>...</td>\n",
       "      <td>2113.073274</td>\n",
       "      <td>3716.525786</td>\n",
       "      <td>2</td>\n",
       "      <td>1</td>\n",
       "      <td>3</td>\n",
       "      <td>3</td>\n",
       "      <td>5</td>\n",
       "      <td>3</td>\n",
       "      <td>4</td>\n",
       "      <td>3</td>\n",
       "    </tr>\n",
       "  </tbody>\n",
       "</table>\n",
       "<p>5 rows × 50 columns</p>\n",
       "</div>"
      ],
      "text/plain": [
       "   CaseOrder Customer_id                           Interaction  \\\n",
       "0          1     C412403  8cd49b13-f45a-4b47-a2bd-173ffa932c2f   \n",
       "1          2     Z919181  d2450b70-0337-4406-bdbb-bc1037f1734c   \n",
       "2          3     F995323  a2057123-abf5-4a2c-abad-8ffe33512562   \n",
       "3          4     A879973  1dec528d-eb34-4079-adce-0d7a40e82205   \n",
       "4          5     C544523  5885f56b-d6da-43a3-8760-83583af94266   \n",
       "\n",
       "                                UID          City State        County    Zip  \\\n",
       "0  3a83ddb66e2ae73798bdf1d705dc0932           Eva    AL        Morgan  35621   \n",
       "1  176354c5eef714957d486009feabf195      Marianna    FL       Jackson  32446   \n",
       "2  e19a0fa00aeda885b8a436757e889bc9   Sioux Falls    SD     Minnehaha  57110   \n",
       "3  cd17d7b6d152cb6f23957346d11c3f07  New Richland    MN        Waseca  56072   \n",
       "4  d2f0425877b10ed6bb381f3e2579424a    West Point    VA  King William  23181   \n",
       "\n",
       "        Lat       Lng  ...  TotalCharge Additional_charges Item1 Item2  Item3  \\\n",
       "0  34.34960 -86.72508  ...  3726.702860       17939.403420     3     3      2   \n",
       "1  30.84513 -85.22907  ...  4193.190458       17612.998120     3     4      3   \n",
       "2  43.54321 -96.63772  ...  2434.234222       17505.192460     2     4      4   \n",
       "3  43.89744 -93.51479  ...  2127.830423       12993.437350     3     5      5   \n",
       "4  37.59894 -76.88958  ...  2113.073274        3716.525786     2     1      3   \n",
       "\n",
       "   Item4  Item5 Item6 Item7 Item8  \n",
       "0      2      4     3     3     4  \n",
       "1      4      4     4     3     3  \n",
       "2      4      3     4     3     3  \n",
       "3      3      4     5     5     5  \n",
       "4      3      5     3     4     3  \n",
       "\n",
       "[5 rows x 50 columns]"
      ]
     },
     "execution_count": 3,
     "metadata": {},
     "output_type": "execute_result"
    }
   ],
   "source": [
    "# Print the header\n",
    "df.head()"
   ]
  },
  {
   "cell_type": "markdown",
   "id": "b6d4481c-c41c-4424-baa0-f7b969e61d1b",
   "metadata": {},
   "source": [
    "# PART III: Data Preparation\n",
    "## C1. Prediction Method-Relevant Data Preprocessing Goal\n",
    "One prediction method relevant data preprocessing goal is the re-expression of categorical variables. Many machine learning models cannot work directly with categorical variables, and therefore we must re-express them into numeric form.\n",
    "\n",
    "## C2. Initial Dataset Variables for Analysis\n",
    "1. Numeric: Initial Days\n",
    "2. Numeric: Age\n",
    "3. Numeric: Doctor Visits\n",
    "4. Numeric: Vitamin D Levels\n",
    "5. Numeric: Vitamin D Supplements\n",
    "6. Numeric: Full Meals Eaten\n",
    "\n",
    "7. Categorical: High Blood Pressure (Target/Dependent Variable)\n",
    "8. Categorical: Overweight\n",
    "9. Categorical: Anxiety\n",
    "10. Categorical: Reflux Esophagitis\n",
    "11. Categorical: Back Pain\n",
    "12. Categorical: Hyperlipidemia\n",
    "13. Categorical: Stroke\n",
    "14. Categorical: Arthritis\n",
    "\n",
    "## C3. Each Step to Prepare Data"
   ]
  },
  {
   "cell_type": "markdown",
   "id": "4579f96d-66b8-4b37-be80-e9fb0944c7cd",
   "metadata": {},
   "source": [
    "### Detecting Duplicates (Source: D206 Webinars)"
   ]
  },
  {
   "cell_type": "code",
   "execution_count": 4,
   "id": "d28349f7-bbf8-4939-b0f4-ef65e4964c35",
   "metadata": {},
   "outputs": [
    {
     "name": "stdout",
     "output_type": "stream",
     "text": [
      "False    10000\n",
      "dtype: int64\n"
     ]
    }
   ],
   "source": [
    "# No Duplicates Detected\n",
    "df.duplicated()\n",
    "print(df.duplicated().value_counts())"
   ]
  },
  {
   "cell_type": "markdown",
   "id": "0528d402-9a29-49e2-b0b1-18ff9fc0dbf5",
   "metadata": {},
   "source": [
    "### Detecting Missingness (Source: D206 Webinars)"
   ]
  },
  {
   "cell_type": "code",
   "execution_count": 5,
   "id": "88744e73-cf6c-46bc-982d-ffa47257226f",
   "metadata": {},
   "outputs": [
    {
     "data": {
      "text/plain": [
       "CaseOrder             0\n",
       "Customer_id           0\n",
       "Interaction           0\n",
       "UID                   0\n",
       "City                  0\n",
       "State                 0\n",
       "County                0\n",
       "Zip                   0\n",
       "Lat                   0\n",
       "Lng                   0\n",
       "Population            0\n",
       "Area                  0\n",
       "TimeZone              0\n",
       "Job                   0\n",
       "Children              0\n",
       "Age                   0\n",
       "Income                0\n",
       "Marital               0\n",
       "Gender                0\n",
       "ReAdmis               0\n",
       "VitD_levels           0\n",
       "Doc_visits            0\n",
       "Full_meals_eaten      0\n",
       "vitD_supp             0\n",
       "Soft_drink            0\n",
       "Initial_admin         0\n",
       "HighBlood             0\n",
       "Stroke                0\n",
       "Complication_risk     0\n",
       "Overweight            0\n",
       "Arthritis             0\n",
       "Diabetes              0\n",
       "Hyperlipidemia        0\n",
       "BackPain              0\n",
       "Anxiety               0\n",
       "Allergic_rhinitis     0\n",
       "Reflux_esophagitis    0\n",
       "Asthma                0\n",
       "Services              0\n",
       "Initial_days          0\n",
       "TotalCharge           0\n",
       "Additional_charges    0\n",
       "Item1                 0\n",
       "Item2                 0\n",
       "Item3                 0\n",
       "Item4                 0\n",
       "Item5                 0\n",
       "Item6                 0\n",
       "Item7                 0\n",
       "Item8                 0\n",
       "dtype: int64"
      ]
     },
     "execution_count": 5,
     "metadata": {},
     "output_type": "execute_result"
    }
   ],
   "source": [
    "# No Missing Values Detected\n",
    "df.isnull().sum()"
   ]
  },
  {
   "cell_type": "markdown",
   "id": "403a3845-2298-4e11-9ae1-8ab4ee5744ad",
   "metadata": {},
   "source": [
    "### Detecting Outliers (Source: D206 Webinars)"
   ]
  },
  {
   "cell_type": "code",
   "execution_count": 6,
   "id": "12dda43d-660a-4ce0-bef2-6a19fdad0b9d",
   "metadata": {},
   "outputs": [
    {
     "data": {
      "text/plain": [
       "<bound method NDFrame.head of       Initial_days  z_score_initial_days\n",
       "0        10.585770             -0.907310\n",
       "1        15.129562             -0.734595\n",
       "2         4.772177             -1.128292\n",
       "3         1.714879             -1.244503\n",
       "4         1.254807             -1.261991\n",
       "...            ...                   ...\n",
       "9995     51.561220              0.650217\n",
       "9996     68.668240              1.300475\n",
       "9997     70.154180              1.356958\n",
       "9998     63.356900              1.098585\n",
       "9999     70.850590              1.383429\n",
       "\n",
       "[10000 rows x 2 columns]>"
      ]
     },
     "execution_count": 6,
     "metadata": {},
     "output_type": "execute_result"
    }
   ],
   "source": [
    "# Detecting outliers for Initial Days variable\n",
    "# No outliers present\n",
    "df['z_score_initial_days']=stats.zscore(df['Initial_days'])\n",
    "df[['Initial_days','z_score_initial_days']].head"
   ]
  },
  {
   "cell_type": "code",
   "execution_count": 7,
   "id": "5543d6bc-b299-480c-8a65-393b107c62dd",
   "metadata": {},
   "outputs": [
    {
     "data": {
      "text/plain": [
       "(array([2563., 1586.,  669.,  157.,   34.,  271.,  546., 1033., 1451.,\n",
       "        1690.]),\n",
       " array([-1.27160124, -1.00179951, -0.73199778, -0.46219605, -0.19239432,\n",
       "         0.07740741,  0.34720914,  0.61701087,  0.88681261,  1.15661434,\n",
       "         1.42641607]),\n",
       " <BarContainer object of 10 artists>)"
      ]
     },
     "execution_count": 7,
     "metadata": {},
     "output_type": "execute_result"
    },
    {
     "data": {
      "image/png": "[encoded data removed]",
      "text/plain": [
       "<Figure size 640x480 with 1 Axes>"
      ]
     },
     "metadata": {},
     "output_type": "display_data"
    }
   ],
   "source": [
    "plt.hist(df['z_score_initial_days'])"
   ]
  },
  {
   "cell_type": "code",
   "execution_count": 8,
   "id": "b17696e9-582d-4c62-92cb-712996f290a0",
   "metadata": {},
   "outputs": [
    {
     "data": {
      "image/png": "[encoded data removed]",
      "text/plain": [
       "<Figure size 640x480 with 1 Axes>"
      ]
     },
     "metadata": {},
     "output_type": "display_data"
    }
   ],
   "source": [
    "boxplot=sns.boxplot(x='Initial_days',data=df)"
   ]
  },
  {
   "cell_type": "code",
   "execution_count": 9,
   "id": "3398ac2f-a1bf-4d8f-a8ed-591025c0c457",
   "metadata": {},
   "outputs": [
    {
     "data": {
      "text/plain": [
       "<bound method NDFrame.head of       Age  z_score_age\n",
       "0      53    -0.024795\n",
       "1      51    -0.121706\n",
       "2      53    -0.024795\n",
       "3      78     1.186592\n",
       "4      22    -1.526914\n",
       "...   ...          ...\n",
       "9995   25    -1.381548\n",
       "9996   87     1.622691\n",
       "9997   45    -0.412438\n",
       "9998   43    -0.509349\n",
       "9999   70     0.798948\n",
       "\n",
       "[10000 rows x 2 columns]>"
      ]
     },
     "execution_count": 9,
     "metadata": {},
     "output_type": "execute_result"
    }
   ],
   "source": [
    "# Detecting outliers for Age variable\n",
    "# No outliers present\n",
    "df['z_score_age']=stats.zscore(df['Age'])\n",
    "df[['Age','z_score_age']].head"
   ]
  },
  {
   "cell_type": "code",
   "execution_count": 10,
   "id": "2abfafe0-9f7c-4988-98eb-cb76bcd9c3f5",
   "metadata": {},
   "outputs": [
    {
     "data": {
      "text/plain": [
       "(array([1067.,  977.,  981.,  988.,  998.,  977.,  970., 1007.,  948.,\n",
       "        1087.]),\n",
       " array([-1.72073600e+00, -1.37670219e+00, -1.03266837e+00, -6.88634559e-01,\n",
       "        -3.44600744e-01, -5.66928963e-04,  3.43466886e-01,  6.87500701e-01,\n",
       "         1.03153452e+00,  1.37556833e+00,  1.71960215e+00]),\n",
       " <BarContainer object of 10 artists>)"
      ]
     },
     "execution_count": 10,
     "metadata": {},
     "output_type": "execute_result"
    },
    {
     "data": {
      "image/png": "[encoded data removed]",
      "text/plain": [
       "<Figure size 640x480 with 1 Axes>"
      ]
     },
     "metadata": {},
     "output_type": "display_data"
    }
   ],
   "source": [
    "plt.hist(df['z_score_age'])"
   ]
  },
  {
   "cell_type": "code",
   "execution_count": 11,
   "id": "73584427-7d0d-432a-a2d1-6d0260aa85d0",
   "metadata": {},
   "outputs": [
    {
     "data": {
      "image/png": "[encoded data removed]",
      "text/plain": [
       "<Figure size 640x480 with 1 Axes>"
      ]
     },
     "metadata": {},
     "output_type": "display_data"
    }
   ],
   "source": [
    "boxplot=sns.boxplot(x='Age',data=df)"
   ]
  },
  {
   "cell_type": "code",
   "execution_count": 12,
   "id": "1b0ca729-ae46-4783-a80a-19f110e81c95",
   "metadata": {},
   "outputs": [
    {
     "data": {
      "text/plain": [
       "<bound method NDFrame.head of       Doc_visits  z_score_doc_visits\n",
       "0              6            0.944647\n",
       "1              4           -0.967981\n",
       "2              4           -0.967981\n",
       "3              4           -0.967981\n",
       "4              5           -0.011667\n",
       "...          ...                 ...\n",
       "9995           4           -0.967981\n",
       "9996           5           -0.011667\n",
       "9997           4           -0.967981\n",
       "9998           5           -0.011667\n",
       "9999           5           -0.011667\n",
       "\n",
       "[10000 rows x 2 columns]>"
      ]
     },
     "execution_count": 12,
     "metadata": {},
     "output_type": "execute_result"
    }
   ],
   "source": [
    "# Detecting outliers via z-scores for Doc_visits variable\n",
    "# No outliers present\n",
    "df['z_score_doc_visits']=stats.zscore(df['Doc_visits'])\n",
    "df[['Doc_visits','z_score_doc_visits']].head"
   ]
  },
  {
   "cell_type": "code",
   "execution_count": 13,
   "id": "29790148-cd45-4315-96d4-7cbced1b30e3",
   "metadata": {},
   "outputs": [
    {
     "data": {
      "text/plain": [
       "(array([6.000e+00, 5.800e+01, 5.950e+02, 2.385e+03, 0.000e+00, 3.823e+03,\n",
       "        2.436e+03, 6.340e+02, 6.100e+01, 2.000e+00]),\n",
       " array([-3.83692119, -3.07187036, -2.30681952, -1.54176869, -0.77671786,\n",
       "        -0.01166703,  0.75338381,  1.51843464,  2.28348547,  3.04853631,\n",
       "         3.81358714]),\n",
       " <BarContainer object of 10 artists>)"
      ]
     },
     "execution_count": 13,
     "metadata": {},
     "output_type": "execute_result"
    },
    {
     "data": {
      "image/png": "[encoded data removed]",
      "text/plain": [
       "<Figure size 640x480 with 1 Axes>"
      ]
     },
     "metadata": {},
     "output_type": "display_data"
    }
   ],
   "source": [
    "plt.hist(df['z_score_doc_visits'])"
   ]
  },
  {
   "cell_type": "code",
   "execution_count": 14,
   "id": "8e724271-4893-4fa8-b80a-59e176655c4e",
   "metadata": {},
   "outputs": [
    {
     "data": {
      "image/png": "[encoded data removed]",
      "text/plain": [
       "<Figure size 640x480 with 1 Axes>"
      ]
     },
     "metadata": {},
     "output_type": "display_data"
    }
   ],
   "source": [
    "boxplot=sns.boxplot(x='Doc_visits',data=df)"
   ]
  },
  {
   "cell_type": "code",
   "execution_count": 15,
   "id": "f87978d3-9890-43dd-a3be-6b3cf12436ee",
   "metadata": {},
   "outputs": [
    {
     "data": {
      "text/plain": [
       "<bound method NDFrame.head of       VitD_levels  z_score_vitd\n",
       "0       19.141466      0.583603\n",
       "1       18.940352      0.483901\n",
       "2       18.057507      0.046227\n",
       "3       16.576858     -0.687811\n",
       "4       17.439069     -0.260366\n",
       "...           ...           ...\n",
       "9995    16.980860     -0.487525\n",
       "9996    18.177020      0.105476\n",
       "9997    17.129070     -0.414049\n",
       "9998    19.910430      0.964820\n",
       "9999    18.388620      0.210377\n",
       "\n",
       "[10000 rows x 2 columns]>"
      ]
     },
     "execution_count": 15,
     "metadata": {},
     "output_type": "execute_result"
    }
   ],
   "source": [
    "# Detecting outliers for VitD_levels variable\n",
    "# Minor outliers are present and will be retained since not outside realm of possibility\n",
    "df['z_score_vitd']=stats.zscore(df['VitD_levels'])\n",
    "df[['VitD_levels','z_score_vitd']].head"
   ]
  },
  {
   "cell_type": "code",
   "execution_count": 16,
   "id": "1f5b962e-10d3-42d6-a35d-31e18199bf96",
   "metadata": {},
   "outputs": [
    {
     "data": {
      "text/plain": [
       "(array([   4.,   69.,  498., 1677., 3085., 2769., 1450.,  393.,   51.,\n",
       "           4.]),\n",
       " array([-4.04424997, -3.22189522, -2.39954048, -1.57718573, -0.75483099,\n",
       "         0.06752375,  0.8898785 ,  1.71223324,  2.53458799,  3.35694273,\n",
       "         4.17929747]),\n",
       " <BarContainer object of 10 artists>)"
      ]
     },
     "execution_count": 16,
     "metadata": {},
     "output_type": "execute_result"
    },
    {
     "data": {
      "image/png": "[encoded data removed]",
      "text/plain": [
       "<Figure size 640x480 with 1 Axes>"
      ]
     },
     "metadata": {},
     "output_type": "display_data"
    }
   ],
   "source": [
    "plt.hist(df['z_score_vitd'])"
   ]
  },
  {
   "cell_type": "code",
   "execution_count": 17,
   "id": "c49a040f-ef71-49e6-9f31-8ecbdc33a5c7",
   "metadata": {},
   "outputs": [
    {
     "data": {
      "image/png": "[encoded data removed]",
      "text/plain": [
       "<Figure size 640x480 with 1 Axes>"
      ]
     },
     "metadata": {},
     "output_type": "display_data"
    }
   ],
   "source": [
    "boxplot=sns.boxplot(x='VitD_levels',data=df)"
   ]
  },
  {
   "cell_type": "code",
   "execution_count": 18,
   "id": "4c1950df-f892-494a-8f2f-0c0565641a09",
   "metadata": {},
   "outputs": [
    {
     "data": {
      "text/plain": [
       "<bound method NDFrame.head of       vitD_supp  z_score_vitd_supp\n",
       "0             0          -0.634713\n",
       "1             1           0.956445\n",
       "2             0          -0.634713\n",
       "3             0          -0.634713\n",
       "4             2           2.547602\n",
       "...         ...                ...\n",
       "9995          1           0.956445\n",
       "9996          0          -0.634713\n",
       "9997          0          -0.634713\n",
       "9998          1           0.956445\n",
       "9999          1           0.956445\n",
       "\n",
       "[10000 rows x 2 columns]>"
      ]
     },
     "execution_count": 18,
     "metadata": {},
     "output_type": "execute_result"
    }
   ],
   "source": [
    "# Detecting outliers for VitD_supp variable\n",
    "# Minor outliers are present and will be retained since not outside realm of possibility\n",
    "df['z_score_vitd_supp']=stats.zscore(df['vitD_supp'])\n",
    "df[['vitD_supp','z_score_vitd_supp']].head"
   ]
  },
  {
   "cell_type": "code",
   "execution_count": 19,
   "id": "5042d6c4-3262-46fc-9fff-8cf3c0c8fc32",
   "metadata": {},
   "outputs": [
    {
     "data": {
      "text/plain": [
       "(array([6.702e+03, 2.684e+03, 0.000e+00, 5.440e+02, 0.000e+00, 0.000e+00,\n",
       "        6.400e+01, 0.000e+00, 5.000e+00, 1.000e+00]),\n",
       " array([-0.63471264,  0.160866  ,  0.95644465,  1.75202329,  2.54760193,\n",
       "         3.34318058,  4.13875922,  4.93433787,  5.72991651,  6.52549516,\n",
       "         7.3210738 ]),\n",
       " <BarContainer object of 10 artists>)"
      ]
     },
     "execution_count": 19,
     "metadata": {},
     "output_type": "execute_result"
    },
    {
     "data": {
      "image/png": "[encoded data removed]",
      "text/plain": [
       "<Figure size 640x480 with 1 Axes>"
      ]
     },
     "metadata": {},
     "output_type": "display_data"
    }
   ],
   "source": [
    "plt.hist(df['z_score_vitd_supp'])"
   ]
  },
  {
   "cell_type": "code",
   "execution_count": 20,
   "id": "289e477f-2b95-4291-bf56-07ed3e16559a",
   "metadata": {},
   "outputs": [
    {
     "data": {
      "image/png": "[encoded data removed]",
      "text/plain": [
       "<Figure size 640x480 with 1 Axes>"
      ]
     },
     "metadata": {},
     "output_type": "display_data"
    }
   ],
   "source": [
    "boxplot=sns.boxplot(x='vitD_supp',data=df)"
   ]
  },
  {
   "cell_type": "code",
   "execution_count": 21,
   "id": "26411b8f-0c67-4283-984c-5b4c55ce4bb3",
   "metadata": {},
   "outputs": [
    {
     "data": {
      "text/plain": [
       "<bound method NDFrame.head of       Full_meals_eaten  z_score_meals\n",
       "0                    0      -0.993387\n",
       "1                    2       0.990609\n",
       "2                    1      -0.001389\n",
       "3                    1      -0.001389\n",
       "4                    0      -0.993387\n",
       "...                ...            ...\n",
       "9995                 2       0.990609\n",
       "9996                 0      -0.993387\n",
       "9997                 2       0.990609\n",
       "9998                 2       0.990609\n",
       "9999                 0      -0.993387\n",
       "\n",
       "[10000 rows x 2 columns]>"
      ]
     },
     "execution_count": 21,
     "metadata": {},
     "output_type": "execute_result"
    }
   ],
   "source": [
    "# Detecting outliers for Full_meals_eaten variable\n",
    "# Minor outliers are present and will be retained since not outside realm of possibility\n",
    "df['z_score_meals']=stats.zscore(df['Full_meals_eaten'])\n",
    "df[['Full_meals_eaten','z_score_meals']].head"
   ]
  },
  {
   "cell_type": "code",
   "execution_count": 22,
   "id": "94fc34ad-33d1-4cec-a286-c37a783ba89b",
   "metadata": {},
   "outputs": [
    {
     "data": {
      "text/plain": [
       "(array([3.715e+03, 3.615e+03, 1.856e+03, 0.000e+00, 6.120e+02, 1.690e+02,\n",
       "        0.000e+00, 2.500e+01, 6.000e+00, 2.000e+00]),\n",
       " array([-0.99338686, -0.29898822,  0.39541043,  1.08980907,  1.78420771,\n",
       "         2.47860636,  3.173005  ,  3.86740364,  4.56180229,  5.25620093,\n",
       "         5.95059957]),\n",
       " <BarContainer object of 10 artists>)"
      ]
     },
     "execution_count": 22,
     "metadata": {},
     "output_type": "execute_result"
    },
    {
     "data": {
      "image/png": "[encoded data removed]",
      "text/plain": [
       "<Figure size 640x480 with 1 Axes>"
      ]
     },
     "metadata": {},
     "output_type": "display_data"
    }
   ],
   "source": [
    "plt.hist(df['z_score_meals'])"
   ]
  },
  {
   "cell_type": "code",
   "execution_count": 23,
   "id": "7fb53412-4d98-44cd-9e28-06e03ade82bc",
   "metadata": {},
   "outputs": [
    {
     "data": {
      "image/png": "[encoded data removed]",
      "text/plain": [
       "<Figure size 640x480 with 1 Axes>"
      ]
     },
     "metadata": {},
     "output_type": "display_data"
    }
   ],
   "source": [
    "boxplot=sns.boxplot(x='Full_meals_eaten',data=df)"
   ]
  },
  {
   "cell_type": "markdown",
   "id": "3bc779b2-9668-4413-8f18-be2eeaef10e8",
   "metadata": {},
   "source": [
    "### Re-Expression of Categorical Variables"
   ]
  },
  {
   "cell_type": "code",
   "execution_count": 24,
   "id": "dad5ac56-e69c-43e7-9e54-0afdd0acd5ff",
   "metadata": {},
   "outputs": [],
   "source": [
    "# Mapping bools\n",
    "bool_mapping = {\"Yes\": 1, \"No\": 0}\n",
    "\n",
    "# HighBlood variable\n",
    "df[\"HighBlood\"] = df[\"HighBlood\"].map(bool_mapping)\n",
    "\n",
    "# Overweight variable\n",
    "df[\"Overweight\"] = df[\"Overweight\"].map(bool_mapping)\n",
    "\n",
    "# Anxiety variable\n",
    "df[\"Anxiety\"] = df[\"Anxiety\"].map(bool_mapping)\n",
    "\n",
    "# Reflux_esophagitis variable\n",
    "df[\"Reflux_esophagitis\"] = df[\"Reflux_esophagitis\"].map(bool_mapping)\n",
    "\n",
    "# BackPain variable\n",
    "df[\"BackPain\"] = df[\"BackPain\"].map(bool_mapping)\n",
    "\n",
    "# Hyperlipidemia variable\n",
    "df[\"Hyperlipidemia\"] = df[\"Hyperlipidemia\"].map(bool_mapping)\n",
    "\n",
    "# Stroke variable\n",
    "df[\"Stroke\"] = df[\"Stroke\"].map(bool_mapping)\n",
    "\n",
    "# Arthritis variable\n",
    "df[\"Arthritis\"] = df[\"Arthritis\"].map(bool_mapping)"
   ]
  },
  {
   "cell_type": "markdown",
   "id": "e327e362-a154-440b-8732-7d04ad07f50b",
   "metadata": {},
   "source": [
    "# PART IV: Analysis\n",
    "## D1. Training and Test Datasets"
   ]
  },
  {
   "cell_type": "code",
   "execution_count": 25,
   "id": "697d0b07-67f5-4253-a82f-5da3ebec2a7b",
   "metadata": {},
   "outputs": [],
   "source": [
    "dt_df = df[['Initial_days', 'Age', 'Doc_visits', 'VitD_levels', 'vitD_supp', 'Full_meals_eaten', 'HighBlood',\n",
    "              'Overweight', 'Anxiety', 'Reflux_esophagitis', \n",
    "              'BackPain', 'Hyperlipidemia', 'Stroke', 'Arthritis']]"
   ]
  },
  {
   "cell_type": "code",
   "execution_count": 26,
   "id": "836f410d-c96c-418c-8aa0-8b31cd44fe09",
   "metadata": {},
   "outputs": [],
   "source": [
    "# Separate the X variables from the Y variable\n",
    "df_X = dt_df.drop([\"HighBlood\"], axis=1).copy()\n",
    "df_y = dt_df[\"HighBlood\"].copy()\n",
    "\n",
    "# Recombine df_X and df_y\n",
    "df = df_X.copy()\n",
    "df.insert(12, column=\"HighBlood\", value=df_y)\n",
    "\n",
    "# Save dataframe to CSV\n",
    "df.to_csv('/Users/astro/Downloads/dt_df.csv', index=False)"
   ]
  },
  {
   "cell_type": "code",
   "execution_count": 27,
   "id": "7e059ae2-3759-4b2c-b1b4-efa0e3b7d281",
   "metadata": {},
   "outputs": [
    {
     "name": "stdout",
     "output_type": "stream",
     "text": [
      "(10000, 13)\n",
      "(10000,)\n"
     ]
    }
   ],
   "source": [
    "# Set X and y\n",
    "X = df_X\n",
    "y = df_y\n",
    "\n",
    "# View the shape of X and y\n",
    "print(X.shape)\n",
    "print(y.shape)"
   ]
  },
  {
   "cell_type": "code",
   "execution_count": 28,
   "id": "206daff0-e917-4407-9898-fc708b04e8a2",
   "metadata": {},
   "outputs": [
    {
     "name": "stdout",
     "output_type": "stream",
     "text": [
      "(8000, 13)\n",
      "(2000, 13)\n",
      "(8000,)\n",
      "(2000,)\n"
     ]
    }
   ],
   "source": [
    "# Hold-out validation. Split the data into training and testing sets.\n",
    "\n",
    "X_train, X_test, y_train, y_test = train_test_split(X, y, train_size = 0.8, test_size=0.2, random_state = 15, stratify=y)\n",
    "print(X_train.shape)\n",
    "print(X_test.shape)\n",
    "print(y_train.shape)\n",
    "print(y_test.shape)"
   ]
  },
  {
   "cell_type": "code",
   "execution_count": 29,
   "id": "ebfe2dc5-9d99-4d55-a2cc-0913ddf04006",
   "metadata": {},
   "outputs": [],
   "source": [
    "# Training and Test Datasets to CSV\n",
    "X_train.to_csv('/Users/astro/Downloads/d209task2_Xtrain.csv', index=False)\n",
    "X_test.to_csv('/Users/astro/Downloads/d209task2_Xtest.csv', index=False)\n",
    "y_train.to_csv('/Users/astro/Downloads/d209task2_ytrain.csv', index=False)\n",
    "y_test.to_csv('/Users/astro/Downloads/d209task2_ytest.csv', index=False)"
   ]
  },
  {
   "cell_type": "markdown",
   "id": "72f8b16b-6978-47a0-af39-8125635f85f0",
   "metadata": {},
   "source": [
    "## D2 and D3. The Analysis and Code"
   ]
  },
  {
   "cell_type": "code",
   "execution_count": 30,
   "id": "bfad2f0e-12fc-4e4e-b16e-a7848fd84444",
   "metadata": {},
   "outputs": [
    {
     "name": "stdout",
     "output_type": "stream",
     "text": [
      "Test set accuracy of best decision tree: 0.59100\n",
      "Test set ROC AUC score: 0.51300\n"
     ]
    }
   ],
   "source": [
    "# HYPER PARAMETER TUNING FOR DECISION TREE\n",
    "# Define params_dt\n",
    "params_dt = {\n",
    "    'max_depth' : [1, 2, 3, 4, 5, 6, 7, 8, 9, 10],\n",
    "    'min_samples_leaf' : [0.04, 0.06, 0.08, 0.10, 0.12, 0.14, 0.16, 0.18, 0.20, 0.22]\n",
    "}\n",
    "\n",
    "# Instantiate dt\n",
    "initial_dt = DecisionTreeClassifier(random_state=42)\n",
    "\n",
    "# Instantiate grid_dt\n",
    "grid_dt = GridSearchCV(estimator=initial_dt,\n",
    "                       param_grid=params_dt,\n",
    "                       scoring='roc_auc',\n",
    "                       cv=5,\n",
    "                       n_jobs=-1)\n",
    "\n",
    "# Fit grid search to training model\n",
    "grid_dt.fit(X_train, y_train)\n",
    "\n",
    "# Extract the best estimator\n",
    "best_model = grid_dt.best_estimator_\n",
    "\n",
    "# Predict values for test set\n",
    "initial_y_pred = best_model.predict(X_test)\n",
    "\n",
    "# Generate accuracy report for this model\n",
    "acc_test = accuracy_score(y_test, initial_y_pred)\n",
    "print('Test set accuracy of best decision tree: {:.5f}'.format(acc_test)) \n",
    "\n",
    "# Predict the test set probabilities of the positive class\n",
    "initial_y_pred_proba = best_model.predict_proba(X_test)[:,1]\n",
    "\n",
    "# Compute test_roc_auc\n",
    "initial_roc_auc = roc_auc_score(y_test, initial_y_pred_proba)\n",
    "\n",
    "# Print test_roc_auc\n",
    "print('Test set ROC AUC score: {:.5f}'.format(initial_roc_auc))"
   ]
  },
  {
   "cell_type": "code",
   "execution_count": 31,
   "id": "fab381b1-379d-4e86-9c09-b5431b71fcfd",
   "metadata": {},
   "outputs": [
    {
     "data": {
      "text/html": [
       "<style>#sk-container-id-1 {color: black;background-color: white;}#sk-container-id-1 pre{padding: 0;}#sk-container-id-1 div.sk-toggleable {background-color: white;}#sk-container-id-1 label.sk-toggleable__label {cursor: pointer;display: block;width: 100%;margin-bottom: 0;padding: 0.3em;box-sizing: border-box;text-align: center;}#sk-container-id-1 label.sk-toggleable__label-arrow:before {content: \"▸\";float: left;margin-right: 0.25em;color: #696969;}#sk-container-id-1 label.sk-toggleable__label-arrow:hover:before {color: black;}#sk-container-id-1 div.sk-estimator:hover label.sk-toggleable__label-arrow:before {color: black;}#sk-container-id-1 div.sk-toggleable__content {max-height: 0;max-width: 0;overflow: hidden;text-align: left;background-color: #f0f8ff;}#sk-container-id-1 div.sk-toggleable__content pre {margin: 0.2em;color: black;border-radius: 0.25em;background-color: #f0f8ff;}#sk-container-id-1 input.sk-toggleable__control:checked~div.sk-toggleable__content {max-height: 200px;max-width: 100%;overflow: auto;}#sk-container-id-1 input.sk-toggleable__control:checked~label.sk-toggleable__label-arrow:before {content: \"▾\";}#sk-container-id-1 div.sk-estimator input.sk-toggleable__control:checked~label.sk-toggleable__label {background-color: #d4ebff;}#sk-container-id-1 div.sk-label input.sk-toggleable__control:checked~label.sk-toggleable__label {background-color: #d4ebff;}#sk-container-id-1 input.sk-hidden--visually {border: 0;clip: rect(1px 1px 1px 1px);clip: rect(1px, 1px, 1px, 1px);height: 1px;margin: -1px;overflow: hidden;padding: 0;position: absolute;width: 1px;}#sk-container-id-1 div.sk-estimator {font-family: monospace;background-color: #f0f8ff;border: 1px dotted black;border-radius: 0.25em;box-sizing: border-box;margin-bottom: 0.5em;}#sk-container-id-1 div.sk-estimator:hover {background-color: #d4ebff;}#sk-container-id-1 div.sk-parallel-item::after {content: \"\";width: 100%;border-bottom: 1px solid gray;flex-grow: 1;}#sk-container-id-1 div.sk-label:hover label.sk-toggleable__label {background-color: #d4ebff;}#sk-container-id-1 div.sk-serial::before {content: \"\";position: absolute;border-left: 1px solid gray;box-sizing: border-box;top: 0;bottom: 0;left: 50%;z-index: 0;}#sk-container-id-1 div.sk-serial {display: flex;flex-direction: column;align-items: center;background-color: white;padding-right: 0.2em;padding-left: 0.2em;position: relative;}#sk-container-id-1 div.sk-item {position: relative;z-index: 1;}#sk-container-id-1 div.sk-parallel {display: flex;align-items: stretch;justify-content: center;background-color: white;position: relative;}#sk-container-id-1 div.sk-item::before, #sk-container-id-1 div.sk-parallel-item::before {content: \"\";position: absolute;border-left: 1px solid gray;box-sizing: border-box;top: 0;bottom: 0;left: 50%;z-index: -1;}#sk-container-id-1 div.sk-parallel-item {display: flex;flex-direction: column;z-index: 1;position: relative;background-color: white;}#sk-container-id-1 div.sk-parallel-item:first-child::after {align-self: flex-end;width: 50%;}#sk-container-id-1 div.sk-parallel-item:last-child::after {align-self: flex-start;width: 50%;}#sk-container-id-1 div.sk-parallel-item:only-child::after {width: 0;}#sk-container-id-1 div.sk-dashed-wrapped {border: 1px dashed gray;margin: 0 0.4em 0.5em 0.4em;box-sizing: border-box;padding-bottom: 0.4em;background-color: white;}#sk-container-id-1 div.sk-label label {font-family: monospace;font-weight: bold;display: inline-block;line-height: 1.2em;}#sk-container-id-1 div.sk-label-container {text-align: center;}#sk-container-id-1 div.sk-container {/* jupyter's `normalize.less` sets `[hidden] { display: none; }` but bootstrap.min.css set `[hidden] { display: none !important; }` so we also need the `!important` here to be able to override the default hidden behavior on the sphinx rendered scikit-learn.org. See: https://github.com/scikit-learn/scikit-learn/issues/21755 */display: inline-block !important;position: relative;}#sk-container-id-1 div.sk-text-repr-fallback {display: none;}</style><div id=\"sk-container-id-1\" class=\"sk-top-container\"><div class=\"sk-text-repr-fallback\"><pre>DecisionTreeClassifier(max_depth=2, min_samples_leaf=0.06, random_state=42)</pre><b>In a Jupyter environment, please rerun this cell to show the HTML representation or trust the notebook. <br />On GitHub, the HTML representation is unable to render, please try loading this page with nbviewer.org.</b></div><div class=\"sk-container\" hidden><div class=\"sk-item\"><div class=\"sk-estimator sk-toggleable\"><input class=\"sk-toggleable__control sk-hidden--visually\" id=\"sk-estimator-id-1\" type=\"checkbox\" checked><label for=\"sk-estimator-id-1\" class=\"sk-toggleable__label sk-toggleable__label-arrow\">DecisionTreeClassifier</label><div class=\"sk-toggleable__content\"><pre>DecisionTreeClassifier(max_depth=2, min_samples_leaf=0.06, random_state=42)</pre></div></div></div></div></div>"
      ],
      "text/plain": [
       "DecisionTreeClassifier(max_depth=2, min_samples_leaf=0.06, random_state=42)"
      ]
     },
     "execution_count": 31,
     "metadata": {},
     "output_type": "execute_result"
    }
   ],
   "source": [
    "best_model"
   ]
  },
  {
   "cell_type": "code",
   "execution_count": 32,
   "id": "17299ca6-1d59-4a50-9b5f-bf3d28d42f62",
   "metadata": {},
   "outputs": [
    {
     "name": "stdout",
     "output_type": "stream",
     "text": [
      "{'learning_rate': 1.1, 'n_estimators': 180}\n"
     ]
    }
   ],
   "source": [
    "# HYPERPARAMETER TUNING FOR ADABOOST\n",
    "# Define params_ada\n",
    "params_ada = {\n",
    "    'n_estimators' : [160, 180, 200],\n",
    "    'learning_rate' : [0.9, 1.0, 1.1, 1.2, 1.3]\n",
    "}\n",
    "\n",
    "# Instantiate tuned decision tree\n",
    "final_dt = DecisionTreeClassifier(max_depth=2, min_samples_leaf=0.06, random_state=42)\n",
    "\n",
    "# Instantiate initial adaboost\n",
    "initial_ada = AdaBoostClassifier(estimator=final_dt, random_state=42)\n",
    "\n",
    "# Instantiate grid_ab\n",
    "grid_ada = GridSearchCV(estimator=initial_ada,\n",
    "                       param_grid=params_ada,\n",
    "                       scoring='roc_auc',\n",
    "                       cv=5,\n",
    "                       n_jobs=-1)\n",
    "\n",
    "# Fit grid search to training model\n",
    "grid_ada.fit(X_train, y_train)\n",
    "\n",
    "# Display the most effective parameters\n",
    "print(grid_ada.best_params_)"
   ]
  },
  {
   "cell_type": "code",
   "execution_count": 33,
   "id": "720b5c21-86a6-41f7-9a5f-c962b74d0d48",
   "metadata": {},
   "outputs": [
    {
     "name": "stdout",
     "output_type": "stream",
     "text": [
      "Test set accuracy of final decision tree model: 0.58\n",
      "\n",
      "The confusion matrix for this AdaBoosted Decision Tree model:\n",
      "Predicted No High Blood | Predicted High Blood\n",
      "                   [1008  174] Actual No High Blood\n",
      "                   [672 146] Actual High Blood\n",
      "\n",
      "The mean squared error of this model is: 0.423\n",
      "The root mean squared error of this model is: 0.65\n",
      "\n",
      "\n",
      "              precision    recall  f1-score   support\n",
      "\n",
      "           0       0.60      0.85      0.70      1182\n",
      "           1       0.46      0.18      0.26       818\n",
      "\n",
      "    accuracy                           0.58      2000\n",
      "   macro avg       0.53      0.52      0.48      2000\n",
      "weighted avg       0.54      0.58      0.52      2000\n",
      "\n",
      "\n",
      "The Area Under the Curve (AUC) score of the final decision tree model is: 0.51\n"
     ]
    }
   ],
   "source": [
    "# FINAL TUNED MODEL\n",
    "# Instantiate dt\n",
    "final_dt = DecisionTreeClassifier(max_depth=2, min_samples_leaf=0.06, random_state=42)\n",
    "\n",
    "# Instantiate ada\n",
    "final_ada = AdaBoostClassifier(estimator=final_dt, n_estimators=180, learning_rate = 1.1, random_state=42)\n",
    "\n",
    "# Fit ada to the training set\n",
    "final_ada.fit(X_train, y_train)\n",
    "\n",
    "# Predict test set labels\n",
    "final_y_pred = final_ada.predict(X_test)\n",
    "\n",
    "# Evaluate acc_test\n",
    "final_acc_test = accuracy_score(y_test, final_y_pred)\n",
    "print('Test set accuracy of final decision tree model: {:.2f}'.format(final_acc_test)) \n",
    "\n",
    "# Compute the probabilities of obtaining the positive class\n",
    "final_y_pred_proba = final_ada.predict_proba(X_test)[:,1]\n",
    "\n",
    "# Evaluate test-set roc_auc_score\n",
    "final_roc_auc = roc_auc_score(y_test, final_y_pred_proba)\n",
    "\n",
    "# Generate Confusion Matrix\n",
    "final_matrix = confusion_matrix(y_test, final_y_pred)\n",
    "print(\"\\nThe confusion matrix for this AdaBoosted Decision Tree model:\")\n",
    "print(\"Predicted No High Blood | Predicted High Blood\")\n",
    "print(f\"                   {final_matrix[0]} Actual No High Blood\")\n",
    "print(f\"                   {final_matrix[1]} Actual High Blood\\n\")\n",
    "\n",
    "# Generate mean_squared_error and root mean squared error\n",
    "mse = mean_squared_error(y_test, final_y_pred)\n",
    "root_mse = mse**(1/2)\n",
    "print(f\"The mean squared error of this model is: {mse}\")\n",
    "print(f\"The root mean squared error of this model is: {round(root_mse, 2)}\\n\\n\")\n",
    "\n",
    "# Generate classification report\n",
    "print(classification_report(y_test, final_y_pred))\n",
    "\n",
    "print('\\nThe Area Under the Curve (AUC) score of the final decision tree model is: {:.2f}'.format(final_roc_auc))"
   ]
  },
  {
   "cell_type": "markdown",
   "id": "f1ecf502-4ca4-49e4-80e6-e1010342f106",
   "metadata": {},
   "source": [
    "Please see the code of the prediction analysis that is being submitted as part of this PA."
   ]
  },
  {
   "cell_type": "markdown",
   "id": "1466159f-3bec-4f07-bcc0-f4474e829cc5",
   "metadata": {},
   "source": [
    "# PART V: Data Summary and Implications"
   ]
  },
  {
   "cell_type": "markdown",
   "id": "f1aeb29b-ddf8-4658-a441-82302654b49d",
   "metadata": {},
   "source": [
    "## E1. Explanation of Accuracy and MSE of Predicted Model\n",
    "The Accuracy of the decision tree model can be seen in the \"Test set accuracy of final decision tree model\" above which in this case is 0.58. The confusion matrix is also a good indication of the accuracy of the model: (1008 + 146) 1154 predictions out of 2000 were correct and (174 + 672) 846 predictions out of 2000 were incorrect. This equates to that 58% of the model was accurately predicted as demonstrated by the test set accuracy of final decision tree model.\n",
    "\n",
    "The Mean Squared Error (MSE) of the model is 0.423. Generally speaking, a lower MSE is better since the MSE is reflective of the magnitude of error. Therefore, in this case, the MSE of 0.423 is not particularly good, but it is better than if it were higher (i.e., if it were 0.5 or higher, etc.).\n",
    "\n",
    "## E2. Results and Implications\n",
    "For the results of this decision tree model, we can turn to the Area Under the Curve (AUC) score. In this case, we can see that the AUC is 0.51. This means that the model is only slightly better than random since a score of 1 is completely correct and a score of 0 is completely incorrect. However, unfortunately, this means that the model is only barely better than random and the implications for usefullness are middling at best.\n",
    "\n",
    "## E3. Limitation of the Analysis\n",
    "The biggest limitation of this analysis is that there are only 10000 datapoints to use from the med dataset, and that is not very many in the grand scheme of things. If we were to have more data in a bigger dataset, we would be able to make more robust models which would result in better analyses.\n",
    "\n",
    "## E4. Recommended Course of Action\n",
    "My recommended course of action for this model is unfortunately the same as my previous recommended course of action from Task 1: although this model is slightly better than the other one based on the AUC from part E2, it is not intensive enough to be of great use to the institution for the research question at hand as to the incidence of high blood pressure from part A1. In summary, I recommend that other types of analysis be pursued rather than relying or using this particular model."
   ]
  }
 ],
 "metadata": {
  "kernelspec": {
   "display_name": "Python 3 (ipykernel)",
   "language": "python",
   "name": "python3"
  },
  "language_info": {
   "codemirror_mode": {
    "name": "ipython",
    "version": 3
   },
   "file_extension": ".py",
   "mimetype": "text/x-python",
   "name": "python",
   "nbconvert_exporter": "python",
   "pygments_lexer": "ipython3",
   "version": "3.10.9"
  }
 },
 "nbformat": 4,
 "nbformat_minor": 5
}
