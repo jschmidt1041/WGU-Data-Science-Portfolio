{
 "cells": [
  {
   "cell_type": "markdown",
   "id": "218f8f1b",
   "metadata": {},
   "source": [
    "# Data Representation and Reporting: Dashboard and Storytelling\n",
    "## Jessica Schmidt"
   ]
  },
  {
   "cell_type": "markdown",
   "id": "4a3666f8",
   "metadata": {},
   "source": [
    "# PART I: Interactive Data Dashboard\n",
    "\n",
    "Please note that the dashboard includes data integrated from both datasets (the provided medical dataset and the additional external, public Kaggle Heart Disease Health Indicators dataset), more than four different data representations to summarize the data or display trends (see page \"Our Patient Population\"), more than two different interactive controls that allow the user to modify the presentation of data (navigation buttons on every page at the bottom and two different filters on the last page), and more than two different metrics of key performance indicators from both datasets (see page \"Heart Disease Risk\"). Please note that the dashboard is also accessible to users with colorblindness as every visualization has been created with the colorblind palette.\n",
    "\n",
    "## A1. Datasets\n",
    "Please see the datasets being submitted as part of this assessment.\n",
    "\n",
    "The datasets used for this assessment are the WGU-provided Medical Dataset and the publically available Kaggle \"Heart Disease Health Indicators Dataset\" (2015) derived from The Behavioral Risk Factor Surveillance System (BRFSS) survey performed annually by the Centers for Disease Control and Prevention (CDC).\n",
    "\n",
    "## A2. User Instructions\n",
    "Please note that no installation is required for this interactive data dashboard. \n",
    "\n",
    "The dashboard is publically available on Tableau Public and can be accessed via web browser (such as Chrome) by following this link (the link is also being submitted as part of this assessment): https://public.tableau.com/app/profile/jessica.schmidt3075/viz/D210PATask1JessicaSchmidt/ASSESSINGTHEHEALTHOFOURPATIENTS\n",
    "\n",
    "## A3. Dashboard Navigation Guide\n",
    "This dashboard is titled \"Assessing the Health of Our Patients\". Once you follow the link to the dashboard, you will land on the title page where you can find additional information regarding the contents of the dashboard. On every page, you can scroll up and down and right and left as applicable.\n",
    "\n",
    "To go to the next page, you can either select the next tab at the top or utilize one of the interactive navigation buttons at the bottom. The second page is titled \"Heart Disease Risk\".\n",
    "\n",
    "Once on the second page of \"Heart Disease Risk\", you can return to the home page via the tabs at the top of the interactive navigation buttons at the bottom of the page, or you can continue to the final page of \"Our Patient Population\" by clicking the titled buttons at the top or bottom of the page.\n",
    "\n",
    "Finally, once you are on the final page of \"Our Patient Population\", you can return to the home page or return to the previous page via the tabs at the top or the buttons on the bottom of the page. Additionally, the \"Our Patient Population\" page features two interactive filters that affect all graphs on that page, namely \"Complication risk\" and \"Initial Admit Type\". Please utilize the toggle buttons on these filters to view the data in different ways depending on which selections you desire."
   ]
  },
  {
   "cell_type": "markdown",
   "id": "bea082ba",
   "metadata": {},
   "source": [
    "# Part II: Storytelling with Data\n",
    "\n",
    "## B1. Panopto Video\n",
    "Please see the Panopto Video Presentation being submitted as part of this assessment. It includes an introduction of myself and background, a summary of both chosen datasets, an outline of the key results of the analysis, two data representations to support the results, and a summary of actionable insights - all while employing the use of two elements of effective storytelling (a singular message and a substantial challenge: heart disease and its prevention/treatment)."
   ]
  },
  {
   "cell_type": "markdown",
   "id": "237fca41",
   "metadata": {},
   "source": [
    "# Part III: Reflection\n",
    "\n",
    "## C1. Dashboard Alignment with Needs\n",
    "Heart disease is the leading cause of death in the United States (source: CDC). The purpose of the dashboard, \"Assessing the Health of Our Patients\", is to analyze trends and similarities between our patients and patients with known heart disease so that we may better serve our patients in terms of both preventive and active treatment measures. In other words, by analyzing traits of patients with heart disease, we can better detect and prepare for treating heart disease in our patients.\n",
    "\n",
    "## C2. How Additional Variables Enhance Insights\n",
    "Essentially, the variables in the additional dataset from the CDC offers insights into patients with heart disease. We can utilize this data to compare it with our patients' data and get more insights like first, assess the overall health of our patient population compared with the health of heart disease patients, and second, look for trends and characteristics of heart disease patients to determine what to look for when preventing and detecting heart disease in our own patients. For example, we know that heart disease patients tend to have higher BMIs, so we can more closely monitor our patients with above average BMIs for heart disease.\n",
    "\n",
    "## C3. Two Data Representations and Decision-Making Support\n",
    "The first data representation I would like to point out is that of \"BMI of Our Patients and BMI of Heart Diseae Patients\" which can be found in the dashboard on the \"Heart Disease\" page. Here, we can see that our patient population is similar to the CDC patient population with heart disease, but that our patient population has a lower percentage of patients with \"overweight\" BMIs. Overall, this is a good sign, but it is also something that we should address. In particular, 71% of our patients are categorized as overweight based on BMI, whereas 79% of heart disease patients are categorized as the same. Since this is a mere 8% difference and since BMI is a confounding factor for heart disease, we should use this data in decision making to perhaps address it in our patient population to help our patients lower their BMIs for improved health outcomes.\n",
    "\n",
    "The second data representation I would like to point out is that of \"High BP in Our Patients and High BP in Heart Disease Patients\" which can be found of the same \"Heart Disease\" page of the dashboard. Here, we can see that a surprising 75% of patients with known heart disease have high blood pressure. Also, we can see that 41% of our patients have high blood pressure. While this is promising in that we have a much smaller portion of our patient population with high blood pressure, it also means that there is an increased risk for our patients with high blood pressure to have heart disease. Therefore, we should use this data in our decision making to be aware of which patients have high blood pressure so that we can employ preventive measures to help lower their blood pressure, among other potential decisions.\n",
    "\n",
    "## C4. Two Interactive Controls and Modification of Data\n",
    "The first interactive control of the dashboard is the use of the navigation buttons which can be found at the bottom of every page. This allows the user to control which page they are seeing and to modify said pages from virtually any page. While there are tabs at the top of this dashboard, it is useful to also have navigation buttons at the bottom that are clearly makred and color-coded for ease of access for users of the dashboard.\n",
    "\n",
    "The second interactive control is actually two controls which can be found on the page titled \"Our Patient Population\". On this page, we have two filters that affect all graphs on the dashboard in terms of \"Complication Risk\" and \"Initial Admit Type\". Users of the dashboard can filters all of the graphs based on these filters to assess and visualize changes in the data based on the unique filter variations.\n",
    "\n",
    "## C5. Addressing Accessibility for Colorblindness\n",
    "To address accessibility for colorblindness, this dashboard has been carefully curated. Particularly, every single visualization on the dashboard is created using the \"colorblind\" color palette so as to be inclusive and mindful of users with colorblindness. Also, virtually all text has been made bold to improve contrast for ease of reading for those who with impaired visual acuity.\n",
    "\n",
    "## C6. How Data Aids Presentation\n",
    "The data I chose for my presentation aids the presentation in that it helps to get my point across. Specifically, I wanted to ensure that my audience understood the potential influence of heart disease in our patient population. My inclusion of the two data representations of BMI and of Blood Pressure are confounding ailments for heart disease and go to show how our patients might be affected and thus that we should address said confounding factors.\n",
    "\n",
    "## C7. Benefits of Audience Analysis\n",
    "The chosen audience for my presentation was the hospital executive leadership who would undoubtedly be involved in institution-wide decision making. With this in mind, it is useful to analyze the audience of any presentation because it allows us to tailor our presentation to the audience's knowledge, skill level, and relevance. In other words, I was careful to use appropriate jargon and to highlight the most relevant data for those executives making decisions for the hospital/institution. Specifically, I spoke about how heart disease is the leading cause of death in the United States according to the CDC and I spoke about BMI and Blood Pressure risk factors.\n",
    "\n",
    "## C8. Presentation Universal Access\n",
    "My presentation, like the dashboard, was designed with visualizations that are made with colorblindness in mind - they are only made with the \"colorblind palette\". Also, universal access is aided via the presentation being in recorded video form which allows for accessibility from anywhere in the world and at any time.\n",
    "\n",
    "## C9. Two Elements of Effective Storytelling\n",
    "The two elements of effective storytelling used in my presentation are 1. having one message in mind, and 2. including a substantial challenge (source: Power of Storytelling). Having one message in mind is key in that it allows the audience to focus and easily remember the main issue over time. In this case, heart disease and its implications for our patients is the singular message. Then, including a substantial challenge is useful in that it draws the audience in and helps them to relate to the issue. In this case, heart disease is the leading cause of death in the country, which means it is a very substantial issue for our patients."
   ]
  }
 ],
 "metadata": {
  "kernelspec": {
   "display_name": "Python 3 (ipykernel)",
   "language": "python",
   "name": "python3"
  },
  "language_info": {
   "codemirror_mode": {
    "name": "ipython",
    "version": 3
   },
   "file_extension": ".py",
   "mimetype": "text/x-python",
   "name": "python",
   "nbconvert_exporter": "python",
   "pygments_lexer": "ipython3",
   "version": "3.10.9"
  }
 },
 "nbformat": 4,
 "nbformat_minor": 5
}
